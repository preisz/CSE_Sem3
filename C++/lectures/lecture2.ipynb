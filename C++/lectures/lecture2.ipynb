{
 "cells": [
  {
   "cell_type": "markdown",
   "metadata": {},
   "source": [
    "# Lecture 2"
   ]
  },
  {
   "attachments": {},
   "cell_type": "markdown",
   "metadata": {},
   "source": [
    "### boilerplate for snippets "
   ]
  },
  {
   "cell_type": "code",
   "execution_count": null,
   "metadata": {
    "vscode": {
     "languageId": "c++"
    }
   },
   "outputs": [],
   "source": [
    "// general includes\n",
    "#include <iostream>   // std::cout|endl \n",
    "#include <vector>     // std::vector\n",
    "#include <cstddef>    // std::size_t\n",
    "#include <functional> // std::function\n",
    "//#include \"lecture2.hpp\"\n",
    "using namespace std;"
   ]
  },
  {
   "cell_type": "code",
   "execution_count": 3,
   "metadata": {
    "vscode": {
     "languageId": "c++"
    }
   },
   "outputs": [],
   "source": [
    "namespace iue {\n",
    "using SomeType = double;\n",
    "SomeType myadd(SomeType a, SomeType b){return a + b;}\n",
    "SomeType mymul(SomeType a, SomeType b){return a * b;}\n",
    "SomeType mydiv(SomeType a, SomeType b){return a / b;}\n",
    "}"
   ]
  },
  {
   "cell_type": "code",
   "execution_count": 5,
   "metadata": {
    "vscode": {
     "languageId": "c++"
    }
   },
   "outputs": [],
   "source": [
    "using namespace iue;"
   ]
  },
  {
   "cell_type": "markdown",
   "metadata": {},
   "source": [
    "## Goals for today\n",
    "\n"
   ]
  },
  {
   "cell_type": "markdown",
   "metadata": {},
   "source": [
    "\n",
    "- how to digest C++ source code: *take the perspective of the compiler*\n",
    "- local reasoning about code/effects: *value vs. reference semantics*"
   ]
  },
  {
   "attachments": {},
   "cell_type": "markdown",
   "metadata": {},
   "source": [
    "\n",
    "## Expressions, types, value categories"
   ]
  },
  {
   "attachments": {},
   "cell_type": "markdown",
   "metadata": {
    "vscode": {
     "languageId": "cpp"
    }
   },
   "source": [
    "Looking at (a certain portion of) C++ source code, it is not immediately apparent what the consequences are exactly:\n"
   ]
  },
  {
   "cell_type": "code",
   "execution_count": 4,
   "metadata": {
    "vscode": {
     "languageId": "c++"
    }
   },
   "outputs": [],
   "source": [
    "using Type = SomeType;\n",
    "Type b{1};                            // (1) \n",
    "Type a = b;                           // (2) \n",
    "Type c = a + b + 7;                   // (3) "
   ]
  },
  {
   "attachments": {},
   "cell_type": "markdown",
   "metadata": {},
   "source": [
    "**What is the state of `b` after (1)?**"
   ]
  },
  {
   "attachments": {},
   "cell_type": "markdown",
   "metadata": {},
   "source": [
    "**How are `a` and `b` related after (2)?**"
   ]
  },
  {
   "attachments": {},
   "cell_type": "markdown",
   "metadata": {},
   "source": [
    "**Does (3) have side effects on `a`? What about `b`?**"
   ]
  },
  {
   "attachments": {},
   "cell_type": "markdown",
   "metadata": {},
   "source": [
    "To answer these questions, it is required to know details about the involved *types* and how the statements in the source code are mapped to certain functionality of those types (e.g. overloaded operators). Additionally, knowledge of the relevant parts of the language specification is required (e.g. precedence of operators). "
   ]
  },
  {
   "attachments": {},
   "cell_type": "markdown",
   "metadata": {},
   "source": [
    "## Expressions"
   ]
  },
  {
   "attachments": {},
   "cell_type": "markdown",
   "metadata": {},
   "source": [
    "An *expression* [(cppref)](https://en.cppreference.com/w/cpp/language/expressions) describes a computation by prescribing a sequence of operations to be performed on a set of operands. For the *fundamental type* `int`, some expressions where the effect of the involved operations can be guessed are:\n"
   ]
  },
  {
   "cell_type": "code",
   "execution_count": 5,
   "metadata": {
    "vscode": {
     "languageId": "c++"
    }
   },
   "outputs": [
    {
     "data": {
      "text/plain": [
       "6"
      ]
     },
     "execution_count": 5,
     "metadata": {},
     "output_type": "execute_result"
    }
   ],
   "source": [
    "using Type = int; \n",
    "Type a{1};\n",
    "Type b{2};\n",
    "Type c{3};\n",
    "Type res; \n",
    "res = a + b;                                 // (1)\n",
    "res = a + b * c;                             // (2)\n",
    "res = 2 + 1 / c + c;                         // (3)\n",
    "res = 2.5 + (c + a);                         // (4) \n",
    "a + b + c;                                   // (5) "
   ]
  },
  {
   "attachments": {},
   "cell_type": "markdown",
   "metadata": {},
   "source": [
    "Above, operands are variables and all operators are binary operators, i.e. require two operands."
   ]
  },
  {
   "attachments": {},
   "cell_type": "markdown",
   "metadata": {},
   "source": [
    "**Name the operators present in the above snippet!**"
   ]
  },
  {
   "attachments": {},
   "cell_type": "markdown",
   "metadata": {},
   "source": [
    "**Examples for other (non-binary) operators?**\n",
    "- '++'\n",
    "- '(*ptr)' or 'ptr->', dereferencing\n",
    "- (double) a; = casting\n",
    "- sqrt(3.0)"
   ]
  },
  {
   "attachments": {},
   "cell_type": "markdown",
   "metadata": {},
   "source": [
    "We could transform the above by introducing functions `myadd`, `mymul`, `mydiv` to perform the binary operations:"
   ]
  },
  {
   "cell_type": "code",
   "execution_count": 6,
   "metadata": {
    "vscode": {
     "languageId": "c++"
    }
   },
   "outputs": [
    {
     "data": {
      "text/plain": [
       "6.0000000"
      ]
     },
     "execution_count": 6,
     "metadata": {},
     "output_type": "execute_result"
    }
   ],
   "source": [
    "res = myadd(a, b);                          // (1)\n",
    "res = myadd(a, mymul(b, c));                // (2) \n",
    "res = myadd(myadd(2, mydiv(1, c)), c);      // (3)\n",
    "res = myadd(2.5, myadd(c, a));              // (4)  \n",
    "myadd(myadd(b, c), a);                      // (5) "
   ]
  },
  {
   "attachments": {},
   "cell_type": "markdown",
   "metadata": {},
   "source": [
    "**Which knowledge is required for the transformation?**\n"
   ]
  },
  {
   "attachments": {},
   "cell_type": "markdown",
   "metadata": {},
   "source": [
    "**Can we also implement/substitute the assignment operator?**"
   ]
  },
  {
   "attachments": {},
   "cell_type": "markdown",
   "metadata": {},
   "source": [
    "The *order of evaluation* [(cppref)](https://en.cppreference.com/w/cpp/language/eval_order) of sub-expressions is not defined; but the operator precedence/associativity defines which operands are associated with each operator. This means that in the below snippet there is **no guarantee in which order the calls to the functions `add` `mul` `div` are evaluated**, just the **combination** of the results is defined by the associativity of the operator **`+`**:"
   ]
  },
  {
   "cell_type": "code",
   "execution_count": 7,
   "metadata": {
    "vscode": {
     "languageId": "c++"
    }
   },
   "outputs": [],
   "source": [
    "res = myadd(a, b) + mymul(a, b) + mydiv(a, b);"
   ]
  },
  {
   "attachments": {},
   "cell_type": "markdown",
   "metadata": {},
   "source": [
    "To illustrate this effect, you can think of intermediate results of sub-expressions being stored in temporary objects created during execution of an expression. The lifetime of these temporary objects ends with the full-expression: after evaluation of the expression, all temporary objects are destroyed:"
   ]
  },
  {
   "cell_type": "code",
   "execution_count": 8,
   "metadata": {
    "vscode": {
     "languageId": "c++"
    }
   },
   "outputs": [],
   "source": [
    "{\n",
    "    Type tmp3 = mydiv(a, b);    // (3)\n",
    "    Type tmp1 = myadd(a, b);    // (1) \n",
    "    Type tmp2 = mymul(a, b);    // (2)\n",
    "    res = tmp1 + tmp2 + tmp3;   // (4)\n",
    "}"
   ]
  },
  {
   "attachments": {},
   "cell_type": "markdown",
   "metadata": {},
   "source": [
    "**Any situation where the order of evaluations of subexpr. is a problem?**"
   ]
  },
  {
   "attachments": {},
   "cell_type": "markdown",
   "metadata": {},
   "source": [
    "## Types"
   ]
  },
  {
   "attachments": {},
   "cell_type": "markdown",
   "metadata": {},
   "source": [
    "Up to now we used the *fundamental type* `int`, so we were not really paying much attention, but:\n",
    "\n",
    "Every *entity* that is used in an *expression* has a *type* [(cppref)](https://en.cppreference.com/w/cpp/language/type); also each of the (sub)expressions.\n",
    "This type prescribes the effects when an entity is used in a certain semantic embedding, i.e. as operand to an operator.\n",
    "\n"
   ]
  },
  {
   "cell_type": "code",
   "execution_count": 9,
   "metadata": {
    "vscode": {
     "languageId": "c++"
    }
   },
   "outputs": [],
   "source": [
    "std::vector<double> data(100,0.0); // init  \n",
    "auto copy = data;           // (1) type will be determined at compile time\n",
    "const auto& d = data[10];   // (2) type will be determined at compile time "
   ]
  },
  {
   "attachments": {},
   "cell_type": "markdown",
   "metadata": {},
   "source": [
    "*All* types are determined and fixed at compile time, even if they are not explicitly visible in the source, e.g. using `auto` deduction rules [(cppref)](https://en.cppreference.com/w/cpp/language/auto)."
   ]
  },
  {
   "attachments": {},
   "cell_type": "markdown",
   "metadata": {},
   "source": [
    "**What are a typical compile time errors w.r.t. types?**\n",
    "- Type errors: you cannot do that or that with this types"
   ]
  },
  {
   "attachments": {},
   "cell_type": "markdown",
   "metadata": {},
   "source": [
    "**Discuss pros/cons comparing to interpreted languages (Python/JavaScript)?**"
   ]
  },
  {
   "attachments": {},
   "cell_type": "markdown",
   "metadata": {},
   "source": [
    "Let's now consider a simple *user-defined type* `Widget`:\n"
   ]
  },
  {
   "cell_type": "code",
   "execution_count": 6,
   "metadata": {
    "vscode": {
     "languageId": "c++"
    }
   },
   "outputs": [],
   "source": [
    "struct Widget {\n",
    "    int i;\n",
    "};"
   ]
  },
  {
   "attachments": {},
   "cell_type": "markdown",
   "metadata": {},
   "source": [
    "This type is a *trivial type* [(cppref)](https://en.cppreference.com/w/cpp/named_req/TrivialType), just like all *arithmetic types* ( e.g. `double` `char` `long` ...).\n",
    "\n",
    "### As `Widget` is trivial, we can construct, assign, copy, and mutate it just like a fundamental type.  Nevertheless, it cannot subsitute for an `int` as other operators (arithmetic, increment) are not available. \n"
   ]
  },
  {
   "attachments": {},
   "cell_type": "markdown",
   "metadata": {},
   "source": [
    "**How could we adapt `Widget` to obtain a non-trivial type?**"
   ]
  },
  {
   "attachments": {},
   "cell_type": "markdown",
   "metadata": {},
   "source": [
    "The type of each expression in C++ belongs to one of these three groups:\n",
    "- Value types \n",
    "- Reference types\n",
    "- (Pointer types)"
   ]
  },
  {
   "attachments": {},
   "cell_type": "markdown",
   "metadata": {},
   "source": [
    "### Value types \n",
    "\n",
    "Expressions/objects of *value type* directly represent the (memory of the) underlying objectm"
   ]
  },
  {
   "cell_type": "code",
   "execution_count": 9,
   "metadata": {
    "vscode": {
     "languageId": "c++"
    }
   },
   "outputs": [
    {
     "name": "stdout",
     "output_type": "stream",
     "text": [
      "1\n",
      "1, w2: 3\n"
     ]
    }
   ],
   "source": [
    "Widget w{1};    // (1)\n",
    "Widget w2 = w;  // (2) copy underlying representation (memory)\n",
    "std::cout << w2.i << std::endl; // (3) printing i\n",
    "\n",
    "w2.i = 3;\n",
    "std::cout << w.i<< \", w2: \"<< w2.i <<std::endl;"
   ]
  },
  {
   "attachments": {},
   "cell_type": "markdown",
   "metadata": {},
   "source": [
    "**Is there any benefit of a value type over a reference type for a function parameter?**\n",
    "\n",
    "More flexibility, can be modified?\n"
   ]
  },
  {
   "attachments": {},
   "cell_type": "markdown",
   "metadata": {},
   "source": [
    "### Reference types\n",
    "Reference types represent an alias to a value type. A reference cannot be re-initialized after initial construction."
   ]
  },
  {
   "cell_type": "code",
   "execution_count": 11,
   "metadata": {
    "vscode": {
     "languageId": "c++"
    }
   },
   "outputs": [
    {
     "name": "stdout",
     "output_type": "stream",
     "text": [
      "1\n",
      "3, w2: 3\n"
     ]
    }
   ],
   "source": [
    "Widget w{1};                    // (1) value type\n",
    "Widget &w2 = w;                 // (2) init w2 as an alias to object w\n",
    "std::cout << w2.i << std::endl; // (3) perfect alias, no de-referencing required\n",
    "\n",
    "w2.i = 3;\n",
    "std::cout << w.i<< \", w2: \"<< w2.i <<std::endl;"
   ]
  },
  {
   "attachments": {},
   "cell_type": "markdown",
   "metadata": {},
   "source": [
    "**Is there any benefit using a reference instead of a value type for a function parameter?**\n",
    "Yes, no copy is required!\n",
    "\n"
   ]
  },
  {
   "attachments": {},
   "cell_type": "markdown",
   "metadata": {},
   "source": [
    "### (Pointer types)\n",
    "Pointers types hold the memory address of a value type. The memory address can be reset anytime.\n",
    "To access the underlying object, dereferencing is required."
   ]
  },
  {
   "cell_type": "code",
   "execution_count": 13,
   "metadata": {
    "vscode": {
     "languageId": "c++"
    }
   },
   "outputs": [
    {
     "name": "stdout",
     "output_type": "stream",
     "text": [
      "1\n"
     ]
    },
    {
     "data": {
      "text/plain": [
       "@0x7f665a123de0"
      ]
     },
     "execution_count": 13,
     "metadata": {},
     "output_type": "execute_result"
    }
   ],
   "source": [
    "Widget w{1};                        // (1)\n",
    "Widget *w2 = &w;                    // (2) w2 holds/references the memory address of w\n",
    "std::cout << (*w2).i << std::endl;  // (3) de-referencing required when accessing i"
   ]
  },
  {
   "attachments": {},
   "cell_type": "markdown",
   "metadata": {},
   "source": [
    "**Why should you try to avoid using *raw pointers*?**"
   ]
  },
  {
   "attachments": {},
   "cell_type": "markdown",
   "metadata": {},
   "source": [
    "### Read-only access: `const`\n",
    "Each type can be qualified as `const`, i.e. only allowing to read, but not modify the underlying object."
   ]
  },
  {
   "attachments": {},
   "cell_type": "markdown",
   "metadata": {},
   "source": [
    "### `const` value types"
   ]
  },
  {
   "cell_type": "code",
   "execution_count": 14,
   "metadata": {
    "vscode": {
     "languageId": "c++"
    }
   },
   "outputs": [
    {
     "name": "stderr",
     "output_type": "stream",
     "text": [
      "input_line_29:4:5: error: cannot assign to variable 'w' with const-qualified type 'const __cling_N510::Widget'\n",
      "w.i = 1;                        // (3) compile error: writing access \n",
      "~~~ ^\n",
      "input_line_29:2:15: note: variable 'w' declared const here\n",
      " const Widget w{1};    \n",
      " ~~~~~~~~~~~~~^~~~\n"
     ]
    },
    {
     "ename": "Interpreter Error",
     "evalue": "",
     "output_type": "error",
     "traceback": [
      "Interpreter Error: "
     ]
    }
   ],
   "source": [
    "const Widget w{1};    \n",
    "std::cout << w.i << std::endl;  // (2) ok\n",
    "w.i = 1;                        // (3) compile error: writing access "
   ]
  },
  {
   "attachments": {},
   "cell_type": "markdown",
   "metadata": {},
   "source": [
    "**Is there any benefit from marking a local variable of value type `const`?**"
   ]
  },
  {
   "attachments": {},
   "cell_type": "markdown",
   "metadata": {},
   "source": [
    "### `const` reference types"
   ]
  },
  {
   "cell_type": "code",
   "execution_count": null,
   "metadata": {
    "vscode": {
     "languageId": "c++"
    }
   },
   "outputs": [],
   "source": [
    "Widget w{1};                    // (1)\n",
    "const Widget &w2 = w;           // (2) init w2 as an alias (read-only) to object w\n",
    "std::cout << w2.i << std::endl; // (3) ok\n",
    "w2.i = 1;                       // (4) compile error: writing access\n",
    "w.i = 1;                        // works"
   ]
  },
  {
   "attachments": {},
   "cell_type": "markdown",
   "metadata": {},
   "source": [
    "**Is there any benefit from marking a reference `const`?**"
   ]
  },
  {
   "attachments": {},
   "cell_type": "markdown",
   "metadata": {},
   "source": [
    "### (`const` pointer types)"
   ]
  },
  {
   "cell_type": "code",
   "execution_count": null,
   "metadata": {
    "vscode": {
     "languageId": "c++"
    }
   },
   "outputs": [],
   "source": [
    "Widget w{1};                        // (1)\n",
    "const Widget *w2 = &w;              // (2) w2 holds/references the memory address of w\n",
    "std::cout << (*w2).i << std::endl;  // (3) ok\n",
    "(*w2).i = 1;                        // (4) compile error: writing access"
   ]
  },
  {
   "attachments": {},
   "cell_type": "markdown",
   "metadata": {},
   "source": [
    "**Again, why should you also try to avoid using `const` *raw pointers* ?**"
   ]
  },
  {
   "attachments": {},
   "cell_type": "markdown",
   "metadata": {},
   "source": [
    "## Value Categories"
   ]
  },
  {
   "cell_type": "markdown",
   "metadata": {},
   "source": [
    "Additionally to a *type*, each expression is also characterized by its *value category* [(cppref)](https://en.cppreference.com/w/cpp/language/value_category).\n",
    "Each expression either belongs to\n",
    "the \n",
    "### *lvalue expression* category (designating objects with a storage location) or to\n",
    "### the *rvalue expression* category (no storage location associated).\n",
    "\n",
    "**Note**: actually there are more *value categories*, but we come back to this in a later lecture.\n",
    "\n",
    "The consequence is that *rvalue expressions* (rvalues) cannot stand on the left-hand-side of an assignment, as no storage location is associated, which could serve as target for a meaningful assignment. So rvalues can solely appear on the right-hand-side of an assignment, hence their name.\n",
    "On the other hand, *lvalue expressions* (lvalues) can be the target for an assignment, i.e. can stand on the left-hand-side but can also be used on the right-hand-side of an assignment.\n",
    "\n",
    "Based on this separation, the language defines exact rules, which expressions (e.g. assignments) are compatible based on the involved types **and** their value categories of the operands on the left-hand-side and right-hand-side."
   ]
  },
  {
   "cell_type": "code",
   "execution_count": null,
   "metadata": {
    "vscode": {
     "languageId": "c++"
    }
   },
   "outputs": [],
   "source": [
    "// LHS = RHS\n",
    "int i = 1.0; \n",
    "i = 1.0;     // (1) lvalue = rvalue --> works\n",
    "2.0 = i;     // (2) rvalue = lvalue --> not allowed\n",
    "i = i;       // (3) lvalue = lvalue --> works\n"
   ]
  },
  {
   "attachments": {},
   "cell_type": "markdown",
   "metadata": {},
   "source": [
    "### Non-const lvalue references\n",
    "\n",
    "**Rule**: non-const lvalue references can only be initialized using lvalue expressions determining non-const objects."
   ]
  },
  {
   "cell_type": "code",
   "execution_count": 12,
   "metadata": {
    "vscode": {
     "languageId": "c++"
    }
   },
   "outputs": [
    {
     "name": "stderr",
     "output_type": "stream",
     "text": [
      "input_line_26:5:9: error: binding reference of type '__cling_N52::Widget' to value of type 'const __cling_N52::Widget' drops 'const' qualifier\n",
      "Widget &lref2 = cvar;           // (2) lvalue = const lvalue --> does not work\n",
      "        ^       ~~~~\n",
      "input_line_26:6:9: error: non-const lvalue reference to type '__cling_N52::Widget' cannot bind to a temporary of type '__cling_N52::Widget'\n",
      "Widget &lref3 = Widget{};       // (3) lvalue = rvalue (temporary) --> does not work\n",
      "        ^       ~~~~~~~~\n"
     ]
    },
    {
     "ename": "Interpreter Error",
     "evalue": "",
     "output_type": "error",
     "traceback": [
      "Interpreter Error: "
     ]
    }
   ],
   "source": [
    "Widget var{1}; // init\n",
    "const Widget cvar{};\n",
    "Widget &lref1 = var;            // (1) lvalue = lvalue --> works\n",
    "Widget &lref2 = cvar;           // (2) lvalue = const lvalue --> does not work\n",
    "Widget &lref3 = Widget{};       // (3) lvalue = rvalue (temporary) --> does not work"
   ]
  },
  {
   "attachments": {},
   "cell_type": "markdown",
   "metadata": {},
   "source": [
    "The situation for function arguments is identical:"
   ]
  },
  {
   "cell_type": "code",
   "execution_count": null,
   "metadata": {
    "vscode": {
     "languageId": "c++"
    }
   },
   "outputs": [],
   "source": [
    "void myfunc(Widget &lref){} \n",
    "\n",
    "Widget var{};\n",
    "const Widget cvar{};\n",
    "\n",
    "myfunc(var);            // (1) ... same as above\n",
    "myfunc(cvar);           // (2) ... same as above \n",
    "myfunc(Widget{});       // (3) ... same as above\n"
   ]
  },
  {
   "attachments": {},
   "cell_type": "markdown",
   "metadata": {},
   "source": [
    "### Const lvalue references\n",
    "\n",
    "**Rule**: If a lvalue reference is declared `const` it can also be initialized with const lvalues **and rvalues**.\n"
   ]
  },
  {
   "cell_type": "code",
   "execution_count": 13,
   "metadata": {
    "vscode": {
     "languageId": "c++"
    }
   },
   "outputs": [],
   "source": [
    "Widget var{1}; // init\n",
    "const Widget cvar{};\n",
    "const Widget &lref1 = var;      // (1) const lvalue ref = lvalue --> works\n",
    "const Widget &lref2 = cvar;     // (2) const lvalue ref = const lvalue -->works\n",
    "const Widget &lref3 = Widget{}; // (3) const lvalue ref = rvalue  --> works "
   ]
  },
  {
   "attachments": {},
   "cell_type": "markdown",
   "metadata": {},
   "source": [
    "The situation for function arguments is identical:"
   ]
  },
  {
   "cell_type": "code",
   "execution_count": 14,
   "metadata": {
    "vscode": {
     "languageId": "c++"
    }
   },
   "outputs": [],
   "source": [
    "void myfunc(const Widget &lref){}      \n",
    "\n",
    "Widget var{};\n",
    "const Widget cvar{};\n",
    "\n",
    "myfunc(var);            // (1) ... same as above\n",
    "myfunc(cvar);           // (2) ... same as above  \n",
    "myfunc(Widget{});       // (3) ... same as above\n"
   ]
  },
  {
   "attachments": {},
   "cell_type": "markdown",
   "metadata": {},
   "source": [
    "# Summary"
   ]
  },
  {
   "cell_type": "markdown",
   "metadata": {},
   "source": [
    "- beside declarations and definitions, nearly everything is an expression or operator\n",
    "- each expression has a type\n",
    "- three main flavours of types: value, reference, pointer\n",
    "- types can be qualified as `const`: prohibit mutating access\n",
    "- each expression also has a value category: lvalue or rvalue\n",
    "- binding rules for references\n",
    "- do not use *raw pointers* (if there is no proper reason)"
   ]
  },
  {
   "cell_type": "markdown",
   "metadata": {},
   "source": [
    "## Revisiting ex0"
   ]
  },
  {
   "cell_type": "markdown",
   "metadata": {},
   "source": [
    "Equipped with this knowledge we can now look again at the function declarations in **ex0** and reason about the choice of types for the arguments for the individual functions:\n"
   ]
  },
  {
   "cell_type": "code",
   "execution_count": null,
   "metadata": {
    "vscode": {
     "languageId": "c++"
    }
   },
   "outputs": [],
   "source": [
    "namespace ex0 {\n",
    "\n",
    "using Vector = std::vector<double>;\n",
    "using Compare = std::function<bool(const double& a, const double& b)>;\n",
    "\n",
    "void print(const Vector& vec);\n",
    "void reset(Vector& vec);\n",
    "Vector copy(const Vector& vec);\n",
    "Vector concat(const Vector& a, const Vector& b);\n",
    "void swap(Vector& a, Vector& b);\n",
    "void fill_uniform_random(Vector& vec, std::size_t n, double lower, double upper);\n",
    "void sort(Vector& vec, Compare comp);\n",
    "\n",
    "}"
   ]
  }
 ],
 "metadata": {
  "kernelspec": {
   "display_name": "C++17",
   "language": "C++17",
   "name": "xcpp17"
  },
  "language_info": {
   "codemirror_mode": "text/x-c++src",
   "file_extension": ".cpp",
   "mimetype": "text/x-c++src",
   "name": "C++17",
   "version": "14"
  }
 },
 "nbformat": 4,
 "nbformat_minor": 2
}
