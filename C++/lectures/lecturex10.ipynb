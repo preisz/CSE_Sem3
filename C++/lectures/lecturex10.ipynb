{
 "cells": [
  {
   "cell_type": "code",
   "execution_count": 1,
   "metadata": {},
   "outputs": [],
   "source": [
    "// general includes\n",
    "#include <iostream>   // std::cout|endl \n",
    "#include <memory>   // std::unique_ptr\n",
    "#include <cstdio>  // std::fopen|fprintf|fclose\n",
    "struct Widget {\n",
    "    int m;\n",
    "};"
   ]
  },
  {
   "cell_type": "markdown",
   "metadata": {},
   "source": [
    "## Quick Recap\n",
    "\n",
    "..."
   ]
  },
  {
   "cell_type": "markdown",
   "metadata": {},
   "source": [
    "## Goals for today\n",
    "\n",
    "..."
   ]
  },
  {
   "cell_type": "markdown",
   "metadata": {},
   "source": [
    "## Smart Pointers"
   ]
  },
  {
   "cell_type": "markdown",
   "metadata": {},
   "source": [
    "Raw/native pointers are a versatile tool in C. \n",
    "They are used for:"
   ]
  },
  {
   "cell_type": "markdown",
   "metadata": {},
   "source": [
    "- (a) passing an object (reference) for inspection purposes\n",
    "  ```cpp\n",
    "  void func(const Widget * const w){\n",
    "      int m = w->m; // allowed ??\n",
    "      w->m = 5;     // allowed ?? \n",
    "      ++w;          // allowed ??\n",
    "      if (w == NULL) return; // allowed ??\n",
    "  }\n",
    "  ``` \n",
    "- (b) passing an object (reference) to be modified by callee\n",
    "  ```cpp\n",
    "  void func(Widget * const w){\n",
    "      int m = w->m; // allowed ??\n",
    "      w->m = 5;     // allowed ?? \n",
    "      ++w;          // allowed ??\n",
    "      if (w == NULL) return; // allowed ??\n",
    "  }\n",
    "  ```   \n",
    "- (c) passing an array object (reference)\n",
    "  ```cpp\n",
    "  void func(const Widget * array, int n){  \n",
    "  void func(const Widget[] array, int n){\n",
    "      int m0 = w[0].m;   // allowed ??\n",
    "      int mn = w[n-1].m; // allowed ??      \n",
    "      w[0].m = 5;     // allowed ?? \n",
    "      ++w;          // allowed ??\n",
    "      if (w == NULL) return; // allowed ??\n",
    "  }\n",
    "  ```    \n",
    "- (d) returning a reference for inspecting/modify purposes \n",
    "  ```cpp\n",
    "  Widget * find(Widget * array, int n ){  \n",
    "    ...\n",
    "  }  \n",
    "  ```\n",
    "- (e) returning a reference (and ownership?) to a dynamic object \n",
    "  ```cpp\n",
    "  Widget * create(){  \n",
    "    ...\n",
    "  }  \n",
    "  ```   "
   ]
  },
  {
   "cell_type": "markdown",
   "metadata": {},
   "source": [
    "In the last two examples above it becomes aparent that that *ownership* is hard to express in C only using *raw pointers*. Let's revisit the above examples in C++ using *references* and `std::unique_ptr` to express ownership and expectations:\n"
   ]
  },
  {
   "cell_type": "markdown",
   "metadata": {},
   "source": [
    "- (a) passing an object (reference) for inspection purposes\n",
    "  ```cpp\n",
    "  void func(const Widget &w){\n",
    "      int m = w->m; // allowed ??\n",
    "      w->m = 5;     // allowed ?? \n",
    "      ++w;          // allowed ??\n",
    "      if (w == NULL) return; // allowed ??\n",
    "  }\n",
    "  ``` \n",
    "- (b) passing an object (reference) to be modified by callee\n",
    "  ```cpp\n",
    "  void func(Widget &w){\n",
    "      int m = w->m; // allowed ??\n",
    "      w->m = 5;     // allowed ?? \n",
    "      ++w;          // allowed ??\n",
    "      if (w == NULL) return; // allowed ??\n",
    "  }\n",
    "  ```   \n",
    "- (c) passing an array object (reference)\n",
    "  ```cpp\n",
    "  void func(const std::array<Widget,N> & array){    \n",
    "  void func(const std::vector<Widget> & array){  \n",
    "      int m0 = array[0].m;   // allowed ??\n",
    "      int mn = array[n-1].m; // allowed ??      \n",
    "      array[0].m = 5;     // allowed ?? \n",
    "      ++array;          // allowed ??\n",
    "      if (array == NULL) return; // allowed ??\n",
    "  }\n",
    "  ```    \n",
    "- (d) returning a reference for inspecting/modify purposes \n",
    "  ```cpp\n",
    "  Widget & find(const std::vector<Widget> & array){  \n",
    "    ...\n",
    "  }  \n",
    "  ```\n",
    "- (e1) returning a reference **and** ownership to a dynamic object \n",
    "  ```cpp\n",
    "  ??? create(){  \n",
    "    ...\n",
    "  }  \n",
    "- (e2) returning a pointer (allowing arithmetics/nullable) but **no** ownership to an object \n",
    "  ```cpp\n",
    "  ??? func(){  \n",
    "    ...\n",
    "  }    \n",
    "  ```   "
   ]
  },
  {
   "cell_type": "markdown",
   "metadata": {},
   "source": [
    "**What options does C++ provide to enable clear ownership sematics for dynamic resources?**\n",
    "- `std::unique_ptr` [(cppref)](https://en.cppreference.com/w/cpp/memory/unique_ptr): exclusive ownership, \"owner turns of the lights\"  \n",
    "- `std::shared_ptr` [(cppref)](https://en.cppreference.com/w/cpp/memory/shared_ptr): shared ownership, \"last one turns off the lights\" --> *reference counting*"
   ]
  },
  {
   "cell_type": "markdown",
   "metadata": {},
   "source": [
    "As the smart pointers in the C++ standard library [(cppref)](https://en.cppreference.com/w/cpp/memory) aim to be used for functions/interfaces instead of *raw pointers* let's first list some functionality we expect to work for a *raw pointer*:"
   ]
  },
  {
   "cell_type": "code",
   "execution_count": 17,
   "metadata": {},
   "outputs": [
    {
     "data": {
      "text/plain": [
       "@0x560f8dea4548"
      ]
     },
     "execution_count": 17,
     "metadata": {},
     "output_type": "execute_result"
    }
   ],
   "source": [
    "struct Widget{\n",
    "    int m;\n",
    "};\n",
    "\n",
    "Widget w; \n",
    "Widget *ptr = &w;                     // (1) init/construction\n",
    "Widget *ptr2 = ptr;                   // (2) init/construction\n",
    "ptr2 = &w;                            // (3) assign\n",
    "ptr ->m = 5;                          // (4) member access using ->\n",
    "( *ptr).m = 6;                        // (5) dereferencing + .\n",
    " ++ptr;                               // (6) increment\n",
    " --ptr;                               // (7) decrement\n",
    "if (ptr  != &w) {throw;};             // (8) operator!= \n",
    "ptr  = nullptr;                       // (9) nullable\n",
    "if (ptr  == &w) {throw;};             // (10) operator==\n",
    "Widget *ptr3  = new Widget{};         // (11) handle to a dynamic resource\n",
    "Widget *array = new Widget[3]{w,w,w}; // (12a) dynamic arrays\n",
    "array[2]= Widget{2};                  // (12b) indexed array access"
   ]
  },
  {
   "cell_type": "markdown",
   "metadata": {},
   "source": [
    "## std::unique_ptr"
   ]
  },
  {
   "cell_type": "markdown",
   "metadata": {},
   "source": [
    "The class `std::unique_ptr` aims to follow the functionality/semantics  for raw pointers as long as it does not stand against the underlying idea:\n",
    "\n",
    ">  In cases where an exclusive ownership of a resource is desired, `std::unique_ptr` provides (and demands) expressiveness and delivers some convenience."
   ]
  },
  {
   "cell_type": "markdown",
   "metadata": {},
   "source": [
    "Let's consider a function `get_widget`, which returns a raw pointer to a dynamically allocated `Widget`:\n",
    "```cpp\n",
    "Widget *ptr = get_widget();\n",
    "// is ptr a resource which needs to be be released?\n",
    "// who will release the resource?\n",
    "```"
   ]
  },
  {
   "cell_type": "markdown",
   "metadata": {},
   "source": [
    "Let's transform `get_widget` to construct and return a `std::unique_ptr` (which expresses that the caller is the new owner):"
   ]
  },
  {
   "cell_type": "code",
   "execution_count": 3,
   "metadata": {},
   "outputs": [],
   "source": [
    "std::unique_ptr<Widget> get_widget() {\n",
    "\n",
    "  // (1) passing pointer directly (in return expression)\n",
    "  return std::unique_ptr<Widget>(new Widget{});\n",
    "\n",
    "  // // (2) ... via make_unique (in return expression)\n",
    "  return std::make_unique<Widget>(); \n",
    "\n",
    "  // // (3) create object, rely on implicit conversions (due to return type of function)\n",
    "  auto tmp = new Widget{};\n",
    "  return std::unique_ptr<Widget>(tmp); // implicit construction of unique_ptr\n",
    "\n",
    "  // // (4) create directly and return\n",
    "  std::unique_ptr<Widget> up(new Widget{}); // currently myfunc owns it\n",
    "  return std::move(up);   \n",
    "\n",
    "}\n",
    "\n",
    "auto ptr = get_widget(); \n"
   ]
  },
  {
   "cell_type": "markdown",
   "metadata": {},
   "source": [
    "**What do we know about the return value `ptr` of `get_widget` above?**\n",
    "- we obtained a dynamic resource from the function that we own now.\n",
    "- the resource is wrapped in a unique_ptr: can be move but not copied.\n",
    "- we do not have to deallocate/free; the unique_ptr-destructor will do this\n"
   ]
  },
  {
   "cell_type": "markdown",
   "metadata": {},
   "source": [
    "**What happens if the return value is not captured in line (5) above, is this a leak?**\n",
    "- no problem: destructor will clean up."
   ]
  },
  {
   "cell_type": "markdown",
   "metadata": {},
   "source": [
    "**Why do we even use pointers in C++ and not only references?**\n",
    "- reference cannot be reassigned,e.g. swapping two references means you would have to re-assign.\n",
    "- a reference is cannot be NULL, e.g. if you want to use NULL in your interface to encode certain situations, this cannot be achieved returning a reference.\n",
    "- a reference cannot transfer ownership of a dynamic resource (there is no way to `delete` via a reference).\n",
    "- a reference does not allow to perform pointer arithmetics.\n",
    "- BUT: if non of the above constraints is relevant: use a reference instead of a pointer!\n"
   ]
  },
  {
   "cell_type": "markdown",
   "metadata": {},
   "source": [
    "Now the return type is expressive (it is clear the caller becomes the owner of the returned object) and access works the same way as for a raw pointer:\n"
   ]
  },
  {
   "cell_type": "code",
   "execution_count": 7,
   "metadata": {},
   "outputs": [
    {
     "data": {
      "text/plain": [
       "10"
      ]
     },
     "execution_count": 7,
     "metadata": {},
     "output_type": "execute_result"
    }
   ],
   "source": [
    "std::unique_ptr<Widget> smart = get_widget();\n",
    "smart->m = 5;     // same as for a raw pointer\n",
    "(*smart).m = 10;  // same as for a raw pointer\n",
    "// no manual termination of lifetime required:\n",
    "// destruction happens when local variable 'smart' goes out of scope"
   ]
  },
  {
   "cell_type": "markdown",
   "metadata": {},
   "source": [
    "As we can see, the returned object is usable like a raw pointer w.r.t. to accessing the pointed-to object.\n",
    "Additionally, manual termination is not required: the owned resource is released when the smart pointer variable goes out of scope.\n",
    "\n"
   ]
  },
  {
   "cell_type": "markdown",
   "metadata": {},
   "source": [
    "**Which further restrictions (SMFs) can we expect if the `std::unique_ptr` wants to model a **unique** handle to a resource?**\n",
    "\n",
    "```cpp\n",
    "std::unique_ptr<Widget> w3 = get_widget();  // ctor ?\n",
    "std::unique_ptr<Widget> w2 = get_widget();  // ctor ?\n",
    "w2 = w3;                                    // (1) copy assign ?\n",
    "std::unique_ptr<Widget> w4 = w2;            // (2) copy ctor ?\n",
    "std::unique_ptr<Widget> w3 = std::move(w2); // (3) move ctor ? \n",
    "w2 = std::move(w3));                        // (4) move assign?\n",
    "```"
   ]
  },
  {
   "cell_type": "markdown",
   "metadata": {},
   "source": [
    "**In which of the SMFs of `unique_ptr` is a release of the resource required?**\n",
    "- in the destructor\n",
    "- during move assignment (if a resource is present)."
   ]
  },
  {
   "cell_type": "markdown",
   "metadata": {},
   "source": [
    "**What about pointer arithmetic and other operators? Are they supported?**\n",
    "- arithmetics, e.g., `operator++`, `operator--` ?? \n",
    "  - not available (but of course you can do that: `.get()` the raw pointer)\n",
    "- comparison, e.g., `opterator==`, `opterator!=` ??   \n",
    "  - available, we definitely want a comparison to `nullptr`"
   ]
  },
  {
   "cell_type": "markdown",
   "metadata": {},
   "source": [
    "### Overhead: what does a `std::unique_ptr` look like?"
   ]
  },
  {
   "cell_type": "markdown",
   "metadata": {},
   "source": [
    "If we decide to use a `std::unique_ptr` instead of a raw pointer, what can we expect in terms of performance? \n",
    "To argue about this, let's look what (a small part of) a simplified implementation looks like:\n"
   ]
  },
  {
   "cell_type": "markdown",
   "metadata": {},
   "source": [
    "```cpp\n",
    "template <typename T> class unique_ptr {\n",
    "  T *ptr = nullptr;\n",
    "public:\n",
    "  unique_ptr(T *p) : ptr(p) {}\n",
    "  ~unique_ptr() { delete ptr; }\n",
    "  T &operator*() { return *ptr; } \n",
    "  T *operator->() { return ptr; }\n",
    "  ...\n",
    "};\n",
    "template <typename T, typename... ARGS>\n",
    "unique_ptr<T> make_unique(ARGS&&... args) {\n",
    "  return unique_ptr<T>(new T(std::forward<ARGS>(args)...));\n",
    "}\n",
    "```"
   ]
  },
  {
   "cell_type": "markdown",
   "metadata": {},
   "source": [
    "We can see that it is a thin wrapper class with a single raw pointer member `ptr` which is initialized from the passed pointer. For this we can expect the memory overhead to be zero. \n",
    "Construction/access/destruction have minimal overhead (expected to be negligible when compiling with optimization).When passing to a function (compared to a raw pointer parameter), there is minimal overhead due to ABI contraints [(link)](https://www.youtube.com/watch?v=rHIkrotSwcc)"
   ]
  },
  {
   "cell_type": "markdown",
   "metadata": {},
   "source": [
    "### Custom deleter example"
   ]
  },
  {
   "cell_type": "markdown",
   "metadata": {},
   "source": [
    "If a `std::unique_ptr` manages a resource which is not a dynamically allocated object (for which the default release mechanism is applicable, i.e., `delete` or `delete[]`) a *custom deleter* can be passed at construction. \n",
    "Let's look at a small example which uses a file handle:"
   ]
  },
  {
   "cell_type": "code",
   "execution_count": 2,
   "metadata": {},
   "outputs": [],
   "source": [
    "void parse(FILE *handle){ /* parsing a file */ } "
   ]
  },
  {
   "cell_type": "code",
   "execution_count": 3,
   "metadata": {},
   "outputs": [],
   "source": [
    "auto filename = \"data.json\";\n",
    "auto mode = \"r\";\n",
    "FILE *handle = std::fopen(filename, mode); // obtain resource, i.e., a custom 'new'\n",
    "if (handle) {\n",
    "  parse(handle);\n",
    "  std::fclose(handle); // release resource, i.e., a custom 'delete'\n",
    "}\n"
   ]
  },
  {
   "cell_type": "markdown",
   "metadata": {},
   "source": [
    "If we would like to wrap the file handle obtained from `fopen` using a `std::unique_ptr` the default release mechanism `delete` does not apply but instead `fclose` is required to be called on the handle. This can be achieved by using a custom function object as deleter:"
   ]
  },
  {
   "cell_type": "code",
   "execution_count": 4,
   "metadata": {},
   "outputs": [],
   "source": [
    "auto open(const char *name, const char *mode) {\n",
    "  auto deleter = [](FILE *handle) { std::fclose(handle); };\n",
    "  return std::unique_ptr<FILE, decltype(deleter)>(std::fopen(name, mode), deleter);\n",
    "};"
   ]
  },
  {
   "cell_type": "code",
   "execution_count": 5,
   "metadata": {},
   "outputs": [],
   "source": [
    "auto filename = \"data.json\";\n",
    "auto mode = \"r\";\n",
    "auto file = open(filename, mode);\n",
    "if (file) { // (1)\n",
    "  parse(file.get()); // (2) \n",
    "}"
   ]
  },
  {
   "cell_type": "markdown",
   "metadata": {},
   "source": [
    "**Is there an implicit conversion from `std::unique_ptr` to the underlying raw pointer at line (2) above ? What about (1) ?**\n",
    "- (2): no, one as to rely on `.get()` [(cppref)](https://en.cppreference.com/w/cpp/memory/unique_ptr/get):\n",
    "  ```cpp\n",
    "      parse(file.get()); // use functionality of unique_ptr\n",
    "      parse(&*file); // more cumbersome (this is why .get() is there)\n",
    "  ```\n",
    "- (1): works, the conversion function (`operator bool`) is implemented for convenience [(cppref)](https://en.cppreference.com/w/cpp/memory/unique_ptr/operator_bool)."
   ]
  },
  {
   "cell_type": "markdown",
   "metadata": {},
   "source": [
    "This demonstrates that a `std::unique_ptr` can also be used to manage resources which are not (directly) created with `new` and released with `delete`."
   ]
  },
  {
   "cell_type": "markdown",
   "metadata": {},
   "source": [
    "#### Managing an array\n",
    "When a `std::unique_ptr` is used to manage an array, indexed access is provided via the `[]` operator:\n",
    "\n",
    "```cpp\n",
    "std::unique_ptr<double[]> up(new double [10]);\n",
    "up[9] = ...; // set last element of array\n",
    "```\n",
    "\n",
    "The relase of the array (which now requires `delete[]`) is realized by an appropriate deleter in the template specialization of `std::unique_ptr`, see second (2) template class declaration here: [(cppref)](https://en.cppreference.com/w/cpp/memory/unique_ptr)"
   ]
  },
  {
   "cell_type": "markdown",
   "metadata": {},
   "source": [
    "## Summary `std::unique_ptr`\n",
    "\n",
    "- indicates exclusive ownership.\n",
    "- try to make pointers safer, but keep semantics:\n",
    "  - safe: deleters are automatically called at end of lifetime.\n",
    "  - semantics: interface/semantics tries to imitate raw pointer semantics whenever possible.\n",
    "  - reassiging: releases old resource (including deletion).\n",
    "- only one handle per resource at a time (unique) is allowed:\n",
    "  - disabled copy construction\n",
    "  - disabled copy assignment.\n",
    "- lightweight (no memory footprint overhead).\n",
    "- custom deleter available.\n"
   ]
  }
 ],
 "metadata": {
  "kernelspec": {
   "display_name": "C++17",
   "language": "c++",
   "name": "xcpp17"
  },
  "language_info": {
   "codemirror_mode": "text/x-c++src",
   "file_extension": ".cpp",
   "mimetype": "text/x-c++src",
   "name": "c++",
   "version": "17"
  }
 },
 "nbformat": 4,
 "nbformat_minor": 2
}
