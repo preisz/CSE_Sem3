{
 "cells": [
  {
   "cell_type": "code",
   "execution_count": 23,
   "metadata": {},
   "outputs": [],
   "source": [
    "// general includes\n",
    "#include <iostream>   // std::cout|endl \n",
    "#include <vector>   // std::vector\n",
    "#include <list>   // std::list\n",
    "#include <string>\n",
    "// using namespace std;\n",
    "struct NoWidget {};\n",
    "struct WidgetM {\n",
    "    int m;\n",
    "};"
   ]
  },
  {
   "attachments": {},
   "cell_type": "markdown",
   "metadata": {},
   "source": [
    "## Quick Recap: function templates\n",
    "\n",
    "- *by-value* function parameters\n",
    "  ```cpp\n",
    "  template <typename AUTO> \n",
    "  void func(AUTO arg) {};\n",
    "  ```\n",
    "- lvalue reference function parameters\n",
    "  ```cpp\n",
    "  template <typename AUTO> \n",
    "  void func(AUTO& arg) {}; \n",
    "  ```\n",
    "- forwarding-reference parameters (**not** rvalue references)\n",
    "  ```cpp\n",
    "  template <typename AUTO> \n",
    "  void func(AUTO&& arg) {};\n",
    "  ``` \n",
    "- a template function definition alone **is not** a function definitions: \n",
    "- only when a template is used somewhere in a compilation unit an instantiation/definition happens.\n",
    "- Does it work: compilation suceeds for any types, where body is \"valid\", eg\n",
    "  \n",
    "```c++\n",
    "template <typename AUTO> AUTO funcc(AUTO arg){\n",
    "  arg.blub(); //mirght not work\n",
    "  return arg;\n",
    "}\n",
    "\n",
    "template <typename AUTO> void func(AUTO&& arg){ };//has to be movable!\n",
    "\n",
    "```\n",
    "\n",
    "```c++\n",
    "void func1(Widget arg){}; //copy\n",
    "\n",
    "void func2(const Widget& arg){}; //bind anything!, pass what you want\n",
    "\n",
    "void func3(Widget&& arg){}; //must be something movable!!\n",
    "\n",
    "```\n",
    "\n",
    "\n"
   ]
  },
  {
   "attachments": {},
   "cell_type": "markdown",
   "metadata": {},
   "source": [
    "## Goals for today\n",
    "- Differentiate between class and function templates\n",
    "- Understand the relation w.r.t. automatic deduction of template parameters via function/constructor arguments"
   ]
  },
  {
   "attachments": {},
   "cell_type": "markdown",
   "metadata": {},
   "source": [
    "# Class templates"
   ]
  },
  {
   "cell_type": "markdown",
   "metadata": {},
   "source": [
    "In C++ not only functions can be templated but also classes [(cppref)](https://en.cppreference.com/w/cpp/language/class_template).\n",
    "Let's look at a simple structure `Pair` which holds two members of the same type:"
   ]
  },
  {
   "cell_type": "code",
   "execution_count": 16,
   "metadata": {},
   "outputs": [
    {
     "name": "stdout",
     "output_type": "stream",
     "text": [
      "8"
     ]
    }
   ],
   "source": [
    "using T = double; //type alias\n",
    "\n",
    "struct Pair {\n",
    "  T first;\n",
    "  T second;\n",
    "  Pair operator+(const Pair &other) {\n",
    "    return Pair{first + other.first, second + other.second};\n",
    "  }\n",
    "};\n",
    "\n",
    "// usage\n",
    "Pair p1{1.0, 2.0};\n",
    "Pair p2{2.0, 1.0};\n",
    "auto sum = p1 + p2;\n",
    "auto x = sum.first;\n",
    "//std::cout << x << std::endl;\n",
    "std::cout << sizeof(x);\n"
   ]
  },
  {
   "cell_type": "markdown",
   "metadata": {},
   "source": [
    "Assuming the implementation of `Pair` is identical for a supported range of types which are aimed to be available as a \"pair\", it is advantageous to make `Pair` a *class template* with a single template parameter `T`, which can look like this:"
   ]
  },
  {
   "cell_type": "code",
   "execution_count": 19,
   "metadata": {},
   "outputs": [],
   "source": [
    "template <typename T = double> \n",
    "struct PairT {\n",
    "  T first;\n",
    "  T second;\n",
    "  PairT operator+(const PairT &other) { \n",
    "    return PairT{first + other.first, second + other.second};\n",
    "  }\n",
    "  // PairT(const T &first, const T &second) :first(first), second(second) {} //constructor\n",
    "};"
   ]
  },
  {
   "cell_type": "markdown",
   "metadata": {},
   "source": [
    "The usage of this class template is slightly different from the non-templated version above:"
   ]
  },
  {
   "cell_type": "code",
   "execution_count": 18,
   "metadata": {},
   "outputs": [],
   "source": [
    "{ // usage with `int`\n",
    "  PairT<int> p1{1, 2}; \n",
    "  PairT<int> p2{2, 1};\n",
    "  auto sum = p1 + p2;  \n",
    "}\n",
    "\n",
    "{ // usage with `double`\n",
    "  PairT<double> p1{1, 2};\n",
    "  PairT<double> p2{2, 1};\n",
    "  auto sum = p1 + p2;\n",
    "}"
   ]
  },
  {
   "cell_type": "markdown",
   "metadata": {},
   "source": [
    "**Why do the template parameters above have to be explicitly provided above?**\n",
    "- deduction rules don't allow deduction from list initialization [(cppref)](https://en.cppreference.com/w/cpp/language/list_initialization)\n"
   ]
  },
  {
   "cell_type": "markdown",
   "metadata": {},
   "source": [
    "**Can this be avoided?**\n",
    "- yes, by providing a user-defined constructor\n",
    "  ```cpp\n",
    "    PairT(const T &first, const T &second);\n",
    "  ```\n",
    "  This allows to avoid the explicit template arguments, as the deduction can be performed using the arguments of the constructor."
   ]
  },
  {
   "cell_type": "markdown",
   "metadata": {},
   "source": [
    "## Template argument determination\n",
    "As for a *function template* also for a *class template* all arguments for the template parameters must be known to the compiler.\n",
    "And again (as for function templates) there are three mechanism which lead to the determination of template arguments (precedence in this order):"
   ]
  },
  {
   "cell_type": "markdown",
   "metadata": {},
   "source": [
    "- explicitly specifying the arguments on construction\n"
   ]
  },
  {
   "cell_type": "code",
   "execution_count": null,
   "metadata": {},
   "outputs": [],
   "source": [
    "{\n",
    "  PairT<int> p1{1, 2};               // instantiates PairT<int>\n",
    "  PairT<double> p2{1, 2};            // instantiates PairT<double>\n",
    "  PairT<std::string> p3{\"1\", \"2\"};   // instantiates PairT<std::string>\n",
    "}"
   ]
  },
  {
   "cell_type": "markdown",
   "metadata": {},
   "source": [
    "- deduction from constructor arguments"
   ]
  },
  {
   "cell_type": "code",
   "execution_count": null,
   "metadata": {},
   "outputs": [],
   "source": [
    "{\n",
    "  PairT p1{1, 2};                               // instantiates PairT<int>\n",
    "  PairT p2{1.0, 2.0};                           // instantiates PairT<double>\n",
    "  PairT p3{std::string(\"1\"),std::string(\"2\")};  // instantiates PairT<std::string> \n",
    "}"
   ]
  },
  {
   "cell_type": "markdown",
   "metadata": {},
   "source": [
    "- default arguments for template parameters are defined"
   ]
  },
  {
   "cell_type": "code",
   "execution_count": null,
   "metadata": {},
   "outputs": [],
   "source": [
    "  template <typename T = double> \n",
    "  struct Pair2 {\n",
    "    T first;\n",
    "    T second;\n",
    "  };\n",
    "\n",
    "  // usage\n",
    "  Pair2<> p1{1,2};  // instantiates Pair<double>"
   ]
  },
  {
   "cell_type": "markdown",
   "metadata": {},
   "source": [
    "**Why is `<>` required to use the default above?**\n",
    "- without the `<>` constructor arguments would be used for deduction, which would result in `Pair<int>` "
   ]
  },
  {
   "cell_type": "markdown",
   "metadata": {},
   "source": [
    "**Can you imagine a situation where template deduction is not possible from the arguments passed to a constructor?**\n",
    "- yes, default constructor (no arguments).\n",
    "- yes, if there is no \"link\" between the types of the ctor parameters and the template parameters."
   ]
  },
  {
   "cell_type": "markdown",
   "metadata": {},
   "source": [
    "Let's look at some more situations of using the `Pair` class template where it might not be obvious which template argument is deduced:"
   ]
  },
  {
   "cell_type": "code",
   "execution_count": 25,
   "metadata": {},
   "outputs": [
    {
     "name": "stderr",
     "output_type": "stream",
     "text": [
      "input_line_35:3:3: error: unknown type name 'PairT'; did you mean 'Pair'?\n",
      "  PairT p1{std::string(\"1\"), std::string(\"2\")};   // (1) instantiates Pair<???> \n",
      "  ^~~~~\n",
      "  Pair\n",
      "input_line_24:3:8: note: 'Pair' declared here\n",
      "struct Pair {\n",
      "       ^\n",
      "input_line_35:3:12: error: no viable conversion from 'std::string' (aka 'basic_string<char>') to '__cling_N517::T' (aka 'double')\n",
      "  PairT p1{std::string(\"1\"), std::string(\"2\")};   // (1) instantiates Pair<???> \n",
      "           ^~~~~~~~~~~~~~~~\n",
      "input_line_35:3:30: error: no viable conversion from 'std::string' (aka 'basic_string<char>') to '__cling_N517::T' (aka 'double')\n",
      "  PairT p1{std::string(\"1\"), std::string(\"2\")};   // (1) instantiates Pair<???> \n",
      "                             ^~~~~~~~~~~~~~~~\n"
     ]
    },
    {
     "ename": "Interpreter Error",
     "evalue": "",
     "output_type": "error",
     "traceback": [
      "Interpreter Error: "
     ]
    }
   ],
   "source": [
    "{\n",
    "  PairT p1{std::string(\"1\"), std::string(\"2\")};   // (1) instantiates Pair<???> \n",
    "  //PairT p2(std::string(\"12\"), std::string(\"24\")); // (2) instantiates Pair<???> \n",
    "  //PairT p3(1, \"24\");    // (3) instantiates Pair<???>\n",
    "  //PairT p4(1.0, 1);     // (4) instantiates Pair<???>\n",
    "  //PairT p5(1, 1.0);     // (4) instantiates Pair<???>\n",
    "}"
   ]
  },
  {
   "cell_type": "markdown",
   "metadata": {},
   "source": [
    "**Can the templates above be instantiated? What are the deduced types?**\n",
    "- see inline comments above\n",
    "- background on strings/characters:\n",
    "  - character literals are of type `char`\n",
    "  - string literals are of type `char[N]`\n",
    "  - a `std::string` can be constructed from `char[N]` or `char`\n",
    "  ```cpp\n",
    "  auto c = 'A';  // char\n",
    "  auto cn = \"AA\"; // char[N]\n",
    "  auto str1 = std::string('A');\n",
    "  auto str2 = std::string(\"AA\");\n",
    "  ```"
   ]
  },
  {
   "cell_type": "markdown",
   "metadata": {},
   "source": [
    "## Template argument deduction\n",
    "\n",
    "The rules for argument deduction are nearly identical to the rules for function templates, just that the constructor arguments now take the place of the function arguments:"
   ]
  },
  {
   "cell_type": "code",
   "execution_count": 29,
   "metadata": {},
   "outputs": [],
   "source": [
    "// function template\n",
    "//template <typename AUTO> //\n",
    "template <typename AUTO, typename AUTO2> //would work too\n",
    "void func(AUTO arg1, AUTO2 arg2) {};\n",
    "\n",
    "// class template\n",
    "//template <typename AUTO> \n",
    "template <typename AUTO, typename AUTO2> //would work too\n",
    "\n",
    "struct Widget{\n",
    "    Widget(AUTO arg1, AUTO2 arg2) {};\n",
    "    Widget(AUTO arg){};\n",
    "};"
   ]
  },
  {
   "cell_type": "markdown",
   "metadata": {},
   "source": [
    "The only further difference is that *forwarding references* are not available through a *class template* alone:"
   ]
  },
  {
   "cell_type": "code",
   "execution_count": null,
   "metadata": {},
   "outputs": [],
   "source": [
    "// function template\n",
    "template<typename T>\n",
    "void func2(T &&arg) {}; // T&& is a forwarding reference\n",
    "\n",
    "// class template\n",
    "template<typename T>\n",
    "struct Widget2{\n",
    "    T member;\n",
    "    Widget2(T &&arg) {};   // T&& is a rvalue reference  . NOT a fwd reference!\n",
    "    void func(T &&arg) {}; // T&& is a rvalue reference  \n",
    "};"
   ]
  },
  {
   "cell_type": "markdown",
   "metadata": {},
   "source": [
    "**Why does this difference make sense?**\n",
    "- a class template parameter is not tied to a single function but the whole class (including all member functions) and is determined at construction.\n",
    "- after construction, all class template parameter (and therefore the arguments of all other non-template member functions) is fixed."
   ]
  },
  {
   "cell_type": "markdown",
   "metadata": {},
   "source": [
    "Let's briefly look at two scenarios for a class template with a single template parameter and a constructor with a single dependent argument."
   ]
  },
  {
   "cell_type": "code",
   "execution_count": 32,
   "metadata": {},
   "outputs": [],
   "source": [
    "template <typename AUTO> \n",
    "struct Widget3 {\n",
    "   Widget3(const Widget3& arg) {}; // cpoy ctot\n",
    "   Widget3(const AUTO& arg) {}; //NOT cpoy ctot\n",
    "\n",
    "};\n",
    "\n",
    "template <typename AUTO> \n",
    "struct Widget4 {\n",
    "   Widget4(Widget4&& arg){}; //this is move ctor\n",
    "   Widget4(AUTO&& arg) {};\n",
    "};"
   ]
  },
  {
   "cell_type": "markdown",
   "metadata": {},
   "source": [
    "**Are the above constructors copy and move constructors?**\n",
    "- no, the template parameter is distinct from the class type.\n",
    "- these are user-defined constructors."
   ]
  },
  {
   "cell_type": "markdown",
   "metadata": {},
   "source": [
    "## Multiple template parameters\n",
    "\n",
    "A class template (or function template) can be defined using more than one template parameter. \n",
    "Let's modify the `Pair` class template from above to now have separate template parameters for each member:"
   ]
  },
  {
   "cell_type": "code",
   "execution_count": 2,
   "metadata": {},
   "outputs": [
    {
     "name": "stderr",
     "output_type": "stream",
     "text": [
      "input_line_8:12:1: error: use of class template 'PairTT' requires template arguments\n",
      "PairTT p1(1, 2.0);  // (1) instantiates Pair<int, double> \n",
      "^\n",
      "input_line_8:2:8: note: template is declared here\n",
      "struct PairTT {\n",
      "       ^\n"
     ]
    },
    {
     "ename": "Interpreter Error",
     "evalue": "",
     "output_type": "error",
     "traceback": [
      "Interpreter Error: "
     ]
    }
   ],
   "source": [
    "template <typename FIRST, typename SECOND>\n",
    "struct PairTT {\n",
    "  FIRST first;\n",
    "  SECOND second;\n",
    "  PairTT(const FIRST &first, const SECOND &second)\n",
    "      : first(first), second(second) {}\n",
    "  auto operator+(const PairTT &other) { \n",
    "    return PairTT{first + other.first, second + other.second};\n",
    "  }\n",
    "};\n",
    "\n",
    "// usage \n",
    "PairTT p1(1, 2.0);  // (1) instantiates Pair<int, double> \n",
    "//PairTT p2(2.0, 1);  // (2) instantiates Pair<double, int> \n",
    "//auto sum = p1 + p2; // (3) still works ? NO, no conversion"
   ]
  },
  {
   "cell_type": "markdown",
   "metadata": {},
   "source": [
    "**Did anything break by introducing the second template parameter?**\n",
    "- In principle, due to availability of implicit conversions between `double` and `int` we maybe expect everything works.\n",
    "- ... but due to the impl. of the `operator+` only identical (or implicitly convertible) types can be `added`\n",
    "- Option 1: free function to add `Pair`s with different template types\n",
    "- Option 2a: overload version of `operator+` member\n",
    "- Option 2b: transform `operator+` to a member function template"
   ]
  },
  {
   "cell_type": "markdown",
   "metadata": {},
   "source": [
    "## User-defined deduction guides\n",
    "Often multiple user-defined constructors are present and not necessarily all (or not even one) of them allows a deduction of the template arguments:"
   ]
  },
  {
   "cell_type": "code",
   "execution_count": null,
   "metadata": {},
   "outputs": [],
   "source": [
    "template <typename AUTO> \n",
    "struct Widget5 {\n",
    "  Widget5(AUTO arg) {};              \n",
    "  Widget5(double arg1, int arg2) {}; \n",
    "};\n",
    "\n",
    "// usage\n",
    "Widget5 w1(1.0);      // (1) works ?\n",
    "Widget5 w2(1.0, 2);   // (2) works ?"
   ]
  },
  {
   "cell_type": "markdown",
   "metadata": {},
   "source": [
    "**Does automatic type deduction for the class template parameter succeed in the snippet above? If not, why not?**\n",
    "- type for `w2` cannot be deduced as there is no relation between the template type and the ctor args "
   ]
  },
  {
   "cell_type": "markdown",
   "metadata": {},
   "source": [
    "Let's now look at an example where the constructor is additionally templated to allow construction from a range of types. Further, we know all types we are interested in themselves define a nested type `value_type` which we would like to set/deduce as template parameter for `Widget6`:"
   ]
  },
  {
   "cell_type": "code",
   "execution_count": null,
   "metadata": {},
   "outputs": [],
   "source": [
    "template <typename T> struct Widget6 {\n",
    "  T m;\n",
    "  Widget6(const Widget6 &o) {} // copy ctor\n",
    "  template <typename OTHER> Widget6(const OTHER &o) {} // template ctor\n",
    "};\n",
    "\n",
    "// deduction guides\n",
    "Widget6(const double &o)->Widget6<double>;\n",
    "Widget6(const std::vector<double> &o)->Widget6<double>;\n",
    "template <typename OTHER>\n",
    "Widget6(const OTHER &o)->Widget6<typename OTHER::value_type>;\n",
    "\n",
    "{ // usage\n",
    "  Widget6 w1(1.0);\n",
    "  Widget6 w2(std::vector<double>(1, 1.0));\n",
    "  Widget6 w3(std::list<double>(1, 1.0));\n",
    "}"
   ]
  },
  {
   "cell_type": "markdown",
   "metadata": {},
   "source": [
    "## Types of template parameters\n",
    "Up to now we only considered *type template parameters*: parameters which represent a type.\n",
    "There are two further categories:\n",
    "- non-type template parameters (i.e., values)\n",
    "- template template parameters (i.e., a template type where the parameters are not settled)"
   ]
  },
  {
   "cell_type": "markdown",
   "metadata": {},
   "source": [
    "### Non-type template parameters\n",
    "The most common example for a non-type template parameters are integers or boolean values:"
   ]
  },
  {
   "cell_type": "code",
   "execution_count": null,
   "metadata": {},
   "outputs": [],
   "source": [
    "template<typename T, int N>\n",
    "struct Array{\n",
    "    T data[N]; \n",
    "};\n",
    "\n",
    "// usage\n",
    "Array<double,10> w10; \n",
    "Array<double,100> w100;\n",
    "using Vec4 = Array<double,4>;"
   ]
  },
  {
   "cell_type": "markdown",
   "metadata": {},
   "source": [
    "**Does the standard library provide a class similar to `Array` above?**\n",
    "- yes, `std::array` [(cppref)](https://en.cppreference.com/w/cpp/container/array)"
   ]
  },
  {
   "cell_type": "markdown",
   "metadata": {},
   "source": [
    "### Template template parameters\n",
    "An example for a template template parameter is in the following snippet:"
   ]
  },
  {
   "cell_type": "code",
   "execution_count": 3,
   "metadata": {},
   "outputs": [],
   "source": [
    "template < template <typename ...> class CONTAINER = std::vector> //type not fixed inside\n",
    "struct Widget8{ \n",
    "  CONTAINER<float> data1;  // using different value type but same container-template\n",
    "  CONTAINER<double> data2; // using different value type but same container-template\n",
    "};\n",
    "\n",
    "// usage:\n",
    "// Widget8<std::vector> w8;"
   ]
  },
  {
   "cell_type": "markdown",
   "metadata": {},
   "source": [
    "This allows to use an actual template type (e.g., `std::vector` and not `std::vector<double>`) as template parameter."
   ]
  },
  {
   "cell_type": "markdown",
   "metadata": {},
   "source": [
    "**In the snippet above, is it actually required to use a template template parameter?**\n",
    "- yes, if we want to provide a templated type (e.g., a container) directly as a parameter.\n",
    "- alternatives?\n",
    "  - pass two template type arguments instead"
   ]
  },
  {
   "cell_type": "markdown",
   "metadata": {},
   "source": [
    "**What is the reason to use `...` in the above snippet above?**\n",
    "- `...` solves the problem to account for the full set of template parameter (e.g., `std::allocator<T>` in the example above)."
   ]
  },
  {
   "cell_type": "markdown",
   "metadata": {},
   "source": [
    "# Summary\n",
    "- class vs funczion templates\n",
    "  - template type fixed at construction\n",
    "  - '&&' is not forwarding ref for a non-template member function\n",
    "- auto deduction using ctor args\n",
    "- auto dec. only possible with a relation from ctor args to template params"
   ]
  },
  {
   "cell_type": "markdown",
   "metadata": {},
   "source": []
  }
 ],
 "metadata": {
  "kernelspec": {
   "display_name": "C++14",
   "language": "C++14",
   "name": "xcpp14"
  },
  "language_info": {
   "codemirror_mode": "text/x-c++src",
   "file_extension": ".cpp",
   "mimetype": "text/x-c++src",
   "name": "c++",
   "version": "14"
  },
  "orig_nbformat": 4
 },
 "nbformat": 4,
 "nbformat_minor": 2
}
