{
 "cells": [
  {
   "attachments": {},
   "cell_type": "markdown",
   "metadata": {},
   "source": [
    "## Quick Recap\n",
    "\n",
    "..."
   ]
  },
  {
   "attachments": {},
   "cell_type": "markdown",
   "metadata": {},
   "source": [
    "## Goals for today\n",
    "\n",
    "..."
   ]
  },
  {
   "attachments": {},
   "cell_type": "markdown",
   "metadata": {},
   "source": [
    "# Parallelism and Concurrency\n",
    "For **shared-memory** scenarios, the *OpenMP* `pragma`-based interface for C++ allows a straightforward \"high-level\" parallelization of many prominent use cases for parallelization (.e.g, nested for loops) and also provides mechanisms to implement synchronization between parallel running threads (e.g., critical regions or atomic updates). \n",
    "OpenMP implementations typically come along with a compiler and support a certain version of the OpenMP standard.\n",
    "A prominent alternative is `TBB` which supports similar use cases but is shipped as a third-party library (i.e., the integration is not `pragma`-based).\n"
   ]
  },
  {
   "attachments": {},
   "cell_type": "markdown",
   "metadata": {},
   "source": [
    "**TBB**\n",
    "```cpp\n",
    "#include <tbb/parallel_for.h>\n",
    "...\n",
    "auto values = std::vector<double>(10000);\n",
    "tbb::parallel_for(tbb::blocked_range<int>(0, values.size()),\n",
    "                  [&](tbb::blocked_range<int> r) {\n",
    "                    for (auto &&i : r) {\n",
    "                      values[i] = 5;\n",
    "                    }\n",
    "                  });\n",
    "```\n",
    "**OpenMP**\n",
    "```cpp\n",
    "#include <omp.h>\n",
    "...\n",
    "auto values = std::vector<double>(10000);\n",
    "#pragma omp for\n",
    "  for (size_t n = 0; n < values.size(); ++n) {\n",
    "    values[n] = 5;\n",
    "  }\n",
    "```"
   ]
  },
  {
   "attachments": {},
   "cell_type": "markdown",
   "metadata": {},
   "source": [
    "Currently, the C++ standard library provides support for concurrency [(cppref)](https://en.cppreference.com/w/cpp/thread). We will have a look at some parts of the options for concurrency in the stdlib to illustrate \"how many batteries are included\".\n",
    "\n",
    "\n",
    "Before we proceed let's have a discussion to disambiguate between important terminology and related background:\n",
    "\n",
    "- process vs. thread (vs. task) \n",
    "  - `processes.cpp`\n",
    "  - `threads.cpp`  \n",
    "- context switching/task scheduling   \n",
    "  - `threads_yield.cpp`\n",
    "- non-shared memory vs. shared-memory\n",
    "  - `threads_shared.cpp`\n",
    "  - `threads_shared_lock.cpp`  \n",
    "- atomic operations & memory ordering\n",
    "  - `threads_shared_fetchadd.cpp`  \n",
    "- lock/mutual exclusion/critical section \n",
    "  - `threads_shared_spinlock.cpp`  \n",
    "- race condition vs. data race "
   ]
  },
  {
   "attachments": {},
   "cell_type": "markdown",
   "metadata": {},
   "source": [
    "## std::thread\n",
    "Constructing a `std::thread` [(cppref)](https://en.cppreference.com/w/cpp/thread/thread) in C++ can look likes this, when using a callable which requires some arguments:"
   ]
  },
  {
   "cell_type": "code",
   "execution_count": null,
   "metadata": {},
   "outputs": [],
   "source": [
    "// cell fails (cling config issue)\n",
    "double c = 0;  \n",
    "auto callable = [&c](int a, int b) {\n",
    "\t++c;\n",
    "\treturn a + b + c;\n",
    "};\n",
    "\n",
    "int arg1 = 1;\n",
    "int arg2 = 1;\n",
    "\n",
    "std::thread thread(callable, arg1, arg2); \n",
    "// // how costly is it creating a thread?\n",
    "std::thread thread2(callable, arg1, arg2);      \n",
    "// // (A) how many threads active ? potentially 2 thread from the statements above and the main thread\n",
    "// // (B) can I have any clue when a thread starts really? can there be HUGE delays?\n",
    "// // (C) how to get a new THREAD? \n",
    "// // (D) can you have this program run on a single-core?\n",
    "thread.join(); // wait for finish this thread: branching ends here\n",
    "thread2.join();\n",
    "// (2) c value now?"
   ]
  },
  {
   "attachments": {},
   "cell_type": "markdown",
   "metadata": {},
   "source": [
    "Here, a function object obtained from a lambda expression is used.\n",
    "After construction `thread` immediately invokes the callable using the provided arguments in a new thread of execution:\n",
    "\n",
    "- local variables of \"original-scope\" are not accessible\n",
    "- global variables are accessible\n",
    "\n",
    "\n",
    "The construction of a thread does not support passing references as constructor arguments, this is why the following is not immediately possible:"
   ]
  },
  {
   "cell_type": "code",
   "execution_count": null,
   "metadata": {},
   "outputs": [],
   "source": [
    "      auto callable = [](int &a, int &b) { ... };\n",
    "      int arg1 = 2;\n",
    "      int arg2 = 2;\n",
    "      std::thread thread(callable, arg1, arg2); // does not compile"
   ]
  },
  {
   "attachments": {},
   "cell_type": "markdown",
   "metadata": {},
   "source": [
    "**How to overcome this problem if we want to pass a reference (e.g., a large object to be manipulated by the thread)?**\n",
    "```cpp\n",
    "std::thread thread(callable, std::ref(arg1), std::ref(arg2));\n",
    "```"
   ]
  },
  {
   "attachments": {},
   "cell_type": "markdown",
   "metadata": {},
   "source": [
    "As we have seen above, a `std::thread` requires an explicit `.join()` before the application ends. \n",
    "A lightweight wrapper can be used if desired to automatically join the thread when the variable is destructed:\n",
    "```cpp\n",
    "struct jthread {\n",
    " std::thread t;\n",
    "  template <class... Args>\n",
    "  explicit jthread(Args &&... args) : t(std::forward<Args>(args)...) {}\n",
    "  ~jthread() { t.join(); }\n",
    "};\n",
    "```\n",
    "Up to now we saw how to create threads which execute a provided callable but we did not really care about the returned value of the callable."
   ]
  },
  {
   "attachments": {},
   "cell_type": "markdown",
   "metadata": {},
   "source": [
    "## std::future and std::promise\n",
    "\n",
    "The approach to conveniently observe and obtain return values of callables executed in an another thread provided by the standard library are `std::promise` [(cppref)](https://en.cppreference.com/w/cpp/thread/promise) and `std::future`  [(cppref)](https://en.cppreference.com/w/cpp/thread/future).\n",
    "Let's see an example which does not even involve different threads:\n",
    "\n",
    "```cpp\n",
    "  auto promise = std::promise<int>(); // create promise: no future attached\n",
    "  auto future = promise.get_future(); // paired with future\n",
    "  {\n",
    "    auto status = future.wait_for(std::chrono::milliseconds(1));\n",
    "    assert(std::future_status::timeout == status);\n",
    "  }\n",
    "  promise.set_value(2); // promise fullfilled\n",
    "  {\n",
    "    auto status = future.wait_for(std::chrono::milliseconds(1));\n",
    "    assert(std::future_status::ready == status);\n",
    "    future.wait(); // blocking\n",
    "    auto value = future.get(); // get 2\n",
    "  }\n",
    "```"
   ]
  },
  {
   "attachments": {},
   "cell_type": "markdown",
   "metadata": {},
   "source": [
    "**What is the basic idea of `std::promise`/`std::future` pair?**\n",
    "\n",
    "- provides synchronization point\n",
    "- there is always a pair future/promise\n",
    "- promise side can set a value\n",
    "- future side can wait() and get()\n",
    "- typically: promise is set in different thread than future\n"
   ]
  },
  {
   "attachments": {},
   "cell_type": "markdown",
   "metadata": {},
   "source": [
    "Now let's see the same example when using a thread to \"fulfill the promise\":\n",
    "```cpp\n",
    "  auto promise = std::promise<int>();\n",
    "  auto future = promise.get_future();\n",
    "  auto callable = [&promise]() {\n",
    "    std::this_thread::sleep_for(std::chrono::milliseconds(10));\n",
    "    promise.set_value(4); // not a native return but similar\n",
    "  };\n",
    "  std::thread t(std::move(callable)); // new thread -> promise set\n",
    "  {\n",
    "    auto status = future.wait_for(std::chrono::milliseconds(1));\n",
    "    assert(std::future_status::timeout == status);\n",
    "  }\n",
    "  {\n",
    "    future.wait();             // blocking\n",
    "    auto value = future.get(); // get 4\n",
    "  }\n",
    "  t.join();\n",
    "```\n"
   ]
  },
  {
   "attachments": {},
   "cell_type": "markdown",
   "metadata": {},
   "source": [
    "**We can see that the callable had to be adapted (compared to having a regular `return` value). Is this desirable?**\n",
    "- no, not desirable"
   ]
  },
  {
   "attachments": {},
   "cell_type": "markdown",
   "metadata": {},
   "source": [
    "A convenient approach to utilize \"unmodified\" callables with non-void return types with threads is `std::packaged_task` [(cppref)](https://en.cppreference.com/w/cpp/thread/packaged_task):\n",
    "\n",
    "```cpp\n",
    "  auto callable = []() {\n",
    "    return 6;\n",
    "  };\n",
    "  auto task = std::packaged_task<int()>(std::move(callable));\n",
    "  auto future = task.get_future(); // get future handle before moving in execution\n",
    "  std::thread t(std::move(task));\n",
    "  {\n",
    "    future.wait();             // blocking\n",
    "    auto value = future.get(); // get 6\n",
    "    std::cout << value << std::endl;\n",
    "  }\n",
    "  t.join();\n",
    "```\n",
    "We can see that a callable object can stay unmodified when executed by another thread.\n"
   ]
  },
  {
   "attachments": {},
   "cell_type": "markdown",
   "metadata": {},
   "source": [
    "## std::async\n",
    "To even further simplify the triggering of an execution of a callable in a separate thread `std::async` [(cppref)](https://en.cppreference.com/w/cpp/thread/async) can be used:\n",
    "\n",
    "```cpp\n",
    "  auto callable = [](int N, const std::string &str) {\n",
    "    for (int i = 0; i < N; ++i)\n",
    "      std::cout << str << std::endl;\n",
    "      return 5;\n",
    "  };\n",
    "  int arg1 = 3;\n",
    "  auto f1 = std::async(callable, arg1, \"default\");\n",
    "  auto f2 = std::async(std::launch::deferred,  callable, arg1, \"deferred\");\n",
    "  auto f3 = std::async(std::launch::async, callable, arg1, \"async\");\n",
    "  auto f4 = std::async(std::launch::async, callable, arg1, \"async2\");\n",
    "  f4.wait();\n",
    "  f3.wait();\n",
    "  f1.wait();\n",
    "  f2.wait();  \n",
    "```"
   ]
  },
  {
   "attachments": {},
   "cell_type": "markdown",
   "metadata": {},
   "source": [
    "**What can we expect in terms of asynchronicity w.r.t to the different launch policies `async` and `deferred` [(cppref)](https://en.cppreference.com/w/cpp/thread/launch)?**\n",
    "- deferred: might be lazy-evaluated"
   ]
  },
  {
   "attachments": {},
   "cell_type": "markdown",
   "metadata": {},
   "source": [
    "Also `std::async` exhibits some properties which might be unexpected:\n",
    "\n",
    "**Example #1**\n",
    "```cpp\n",
    "  { // (1a)\n",
    "    auto future = std::async(std::launch::async, callable, arg1, \"async\");\n",
    "    func(std::move(future));\n",
    "  } \n",
    "  { // (1b)\n",
    "    auto future = std::async(std::launch::async, callable, arg1, \"async\");\n",
    "  }  \n",
    "```\n",
    "**Example #2**\n",
    "```cpp\n",
    "  { // (2)\n",
    "    std::async(callable, arg1, \"is this ...\");\n",
    "\n",
    "    std::async(callable, arg1, \"... async?\");\n",
    "  }\n",
    "```"
   ]
  },
  {
   "attachments": {},
   "cell_type": "markdown",
   "metadata": {},
   "source": [
    "**For the two examples above, will the two calls result in an overlapping execution of `callable` in two threads?**\n",
    "- Example 1: yes \"fire and forget\"\n",
    "- Example 2: destructor of returned future is blocking until future is resolved/ready \"`~future(){wait();}`\""
   ]
  },
  {
   "attachments": {},
   "cell_type": "markdown",
   "metadata": {},
   "source": [
    "## Critical Sections (locking) \n",
    "\n",
    "OpenMP example:\n",
    "```cpp\n",
    "#pragma omp parallel\n",
    "{\n",
    "    // executed by all threads indep.\n",
    "#pragma critical {\n",
    "    // only one thread at a time can enter\n",
    "}\n",
    " // executed by all threads indep.\n",
    "}\n",
    "```\n",
    "\n",
    "For the probably most common synchronization task, i.e., protecting read or write access to a shared variable, the standard library provides `std::mutex` [(cppref)](https://en.cppreference.com/w/cpp/thread/mutex) which is recommended to be used only in conjunction with a `std::unique_lock` [(cppref)](https://en.cppreference.com/w/cpp/thread/unique_lock)  or `std::lock_guard` [(cppref)](https://en.cppreference.com/w/cpp/thread/lock_guard).\n",
    "If a mutex would be used without a lock this can look like this:\n",
    "\n",
    "```cpp\n",
    "    std::mutex m;\n",
    "    std::vector<double> shared_data;\n",
    "    auto manip = [&m, &shared_data]() {\n",
    "      m.lock();\n",
    "      // manipulate shared_data\n",
    "      ...\n",
    "      m.unlock();\n",
    "    };\n",
    "    // this lambda could be running on different thread simult.\n",
    "```"
   ]
  },
  {
   "attachments": {},
   "cell_type": "markdown",
   "metadata": {},
   "source": [
    "**Why is this usage error-prone?**\n",
    "- manual unlock required (easy to forget in longer code)"
   ]
  },
  {
   "attachments": {},
   "cell_type": "markdown",
   "metadata": {},
   "source": [
    "\n",
    "When using a `lock_guard` the example transforms to this:\n",
    "```cpp\n",
    "    std::mutex m;\n",
    "    std::vector<double> shared_data;\n",
    "    auto manip = [&m, &shared_data]() {\n",
    "      std::lock_guard<std::mutex> lock(m);\n",
    "      // manipulate shared_data\n",
    "    };\n",
    "```\n",
    "In situations where is is required to acquire multiple mutexes before performing a manipulation, `unique_lock` can be utilized like this:\n",
    "```cpp\n",
    "    std::mutex m1;\n",
    "    std::mutex m2;\n",
    "    std::vector<double> shared_data1;\n",
    "    std::vector<double> shared_data2;\n",
    "    auto manip = [&m1, &m2, &shared_data1, &shared_data2]() {\n",
    "\n",
    "      // proper \"multi-lock\"  \n",
    "      std::unique_lock<std::mutex> dlock1(m1, std::defer_lock);\n",
    "      std::unique_lock<std::mutex> dlock2(m2, std::defer_lock);\n",
    "      std::lock(dlock1, dlock2); // locked in \"atomic op, one sweep\"\n",
    "      // ... manipulate shared_data1 and shared_data2 together\n",
    "\n",
    "\n",
    "\n",
    "    };\n",
    "\n",
    "```"
   ]
  },
  {
   "attachments": {},
   "cell_type": "markdown",
   "metadata": {},
   "source": [
    "**Why is the snippet above preferable over a sequential locking using two `lock_guards`?**\n",
    "\n",
    "  ```cpp\n",
    "  func1(){\n",
    "    ...\n",
    "    // \"not so good alternative\"\n",
    "    std::lock_guard<std::mutex> lock1(m1);    // t1 is here and lock1    \n",
    "    std::lock_guard<std::mutex> lock2(m2);  \n",
    "    // ... manipulate here      \n",
    "    ...\n",
    "  }\n",
    "\n",
    "  func2(){\n",
    "    ...\n",
    "    std::lock_guard<std::mutex> lock2(m2);  // t2 is here and lock2\n",
    "    std::lock_guard<std::mutex> lock1(m1); \n",
    "    // ... manipulate here    \n",
    "    ...\n",
    "  }\n",
    "  ```"
   ]
  },
  {
   "attachments": {},
   "cell_type": "markdown",
   "metadata": {},
   "source": [
    "Locking is in no way a lightweight approach: only a single thread can execute the locked region and all other threads are blocked on entry.\n",
    "Let's look at a performance comparison without even using more than one thread:\n",
    "\n",
    "```cpp\n",
    "    std::vector<int> vec(N, 1.0);\n",
    "    int sum = 0;\n",
    "    auto accumulate = [&sum, &vec]() {\n",
    "      for (auto &&item : vec) {\n",
    "        sum = sum + 1; // critical section: benchmark std::atomic vs lock_guard vs no synchronization\n",
    "      }\n",
    "    };\n",
    "```\n",
    "\n",
    "```\n",
    "g++ -std=c++17 serial_atomic_vs_lock.cpp -O3  && ./a.out \n",
    "```"
   ]
  },
  {
   "attachments": {},
   "cell_type": "markdown",
   "metadata": {},
   "source": [
    "## Atomic operations (std::atomic)\n",
    "The standard library provides a wrapper for synchronizing access to entities which exhibit native support for atomic operations:\n",
    "- integer types\n",
    "- pointer types\n",
    "\n",
    "\t```cpp\n",
    "\tstd::atomic<int> a(0);\n",
    "\ta++;            // (1a) perform atomic increment (specialization for int)\n",
    "\ta.fetch_add(1); // (1b) equivalent\n",
    "\ta += 5;         // (2a) perform atomic addition (specialization for int)\n",
    "\ta.fetch_add(5); // (2b) equivalent\n",
    "\t```"
   ]
  },
  {
   "attachments": {},
   "cell_type": "markdown",
   "metadata": {},
   "source": [
    "**Is the expression `a = a + 5;` below atomic as a whole?**\n",
    "- NO: but the read on RHS is atomic and load/store on the LHS is atomic \n",
    "- no guarantee what happens meantime/between atomics on other threads"
   ]
  },
  {
   "attachments": {},
   "cell_type": "markdown",
   "metadata": {},
   "source": [
    "```cpp\n",
    "std::atomic<int> a(0);\n",
    "a = a + 5;  // (3a)\n",
    "a += 5;         // (3b) equivalent?\n",
    "```\n",
    "\n",
    "Let's now move to an example where the synchronization is actually required because multiple threads are involved:\n",
    "```cpp\n",
    "struct Other {\n",
    "  int a = 5;\n",
    "  int b = 5;\n",
    "}; // a+b is always 10;\n",
    "\n",
    "struct Widget { \n",
    "  Other o;\n",
    "  void mod1() {\n",
    "      --o.a;\n",
    "      ++o.b;\n",
    "  }\n",
    "  void mod2() {\n",
    "      ++o.a;\n",
    "      --o.b;\n",
    "  }\n",
    "  int inspect() const { return o.a + o.b; }\n",
    "};\n",
    "```\n",
    "We will look at how a multi-threaded access of a `Other` through a `Widget` can be synchronized to guarantee the invariant of `Other`, namely `a+b==10`.\n",
    "\n",
    "```\n",
    "clang++ -std=c++17 mutex_lock.cpp -O3 -pthread && ./a.out\n",
    "```"
   ]
  },
  {
   "attachments": {},
   "cell_type": "markdown",
   "metadata": {},
   "source": [
    "## std::condition_variable\n",
    "Another important synchronization primitive in the standard library is `std::condition_variable`: it allows to suspend the execution of threads and to notify a single or all of them if a condition becomes true. This can be used to avoid busy waiting of existing threads which have completed their tasks and shall be reused once new tasks are available.\n"
   ]
  },
  {
   "cell_type": "markdown",
   "metadata": {},
   "source": [
    "**Why can it be attractive to reuse threads for subsequent tasks?**\n",
    "- overhead when spawning a new one is >> than reusing\n"
   ]
  },
  {
   "cell_type": "markdown",
   "metadata": {},
   "source": [
    "The `std::condition_variable` is always used in combination with a lock, let's seen a minimal example to demonstrate it's usefulness:\n",
    "```\n",
    "g++ -std=c++17 convar.cpp -O3 -pthread && ./a.out \n",
    "```\n"
   ]
  },
  {
   "attachments": {},
   "cell_type": "markdown",
   "metadata": {},
   "source": [
    "## Summary\n",
    "\n",
    "- ...\n"
   ]
  }
 ],
 "metadata": {
  "kernelspec": {
   "display_name": "C++17",
   "language": "c++",
   "name": "xcpp17m"
  },
  "language_info": {
   "codemirror_mode": "text/x-c++src",
   "file_extension": ".cpp",
   "mimetype": "text/x-c++src",
   "name": "c++",
   "version": "17"
  }
 },
 "nbformat": 4,
 "nbformat_minor": 2
}
