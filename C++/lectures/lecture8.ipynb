{
 "cells": [
  {
   "cell_type": "code",
   "execution_count": null,
   "metadata": {},
   "outputs": [],
   "source": [
    "// general includes\n",
    "#include <iostream>   // std::cout|endl \n",
    "#include <cstdio>   // std::printf \n",
    "#include <vector>   // std::vector\n",
    "#include <list>   // std::list\n",
    "#include <utility>   // std::pair\n",
    "// using namespace std;\n",
    "struct Widget {int m;};"
   ]
  },
  {
   "attachments": {},
   "cell_type": "markdown",
   "metadata": {},
   "source": [
    "## Quick recap: \n",
    "\n",
    "- iterators\n",
    "  - iters annd classes\n",
    "  - possibly lightwweight\n",
    "  - interface:\n",
    "    - move next/prev\n",
    "    - get access to underlying value\n",
    "    - comparison\n",
    "- What is mssing\n",
    "  - lambdas today, important\n",
    "  - "
   ]
  },
  {
   "attachments": {},
   "cell_type": "markdown",
   "metadata": {},
   "source": [
    "## Goals for today\n",
    "- lambda: what is that\n",
    "\n",
    "Lambda is:\n",
    "- Nice language construct"
   ]
  },
  {
   "attachments": {},
   "cell_type": "markdown",
   "metadata": {},
   "source": [
    "# Lambda Expressions\n",
    "\n",
    "A *lambda expression* [(cppref)](https://en.cppreference.com/w/cpp/language/lambda) constructs a *function object*, i.e., a class with an overloaded `operator()`, which is able to capture variables which are valid at the source location where the lambda expression is evaluated. \n",
    "This *function object* is of unnamed type and is ready to be invoked \"like a function\".\n",
    "The required parameters for the invocation are specific within the lambda expression.\n",
    "The invocation will execute the code block in the body of the lambda expression.\n",
    "Let's look at a simple example where the full lambda expression and the variable for the function object (`lambda`) are marked:"
   ]
  },
  {
   "cell_type": "code",
   "execution_count": null,
   "metadata": {},
   "outputs": [],
   "source": [
    "int i{};\n",
    "Widget w{};  \n",
    "auto lambda = [i, &w] (int b) -> int { return i + w.m + b; };\n",
    "// int res = lambdas(4); // cling crash"
   ]
  },
  {
   "cell_type": "markdown",
   "metadata": {},
   "source": [
    "**What is the effect of using `&w` compared to `w` in the capture clause?**\n",
    "- capture \"by-reference\" instead of \"by-copy\""
   ]
  },
  {
   "cell_type": "markdown",
   "metadata": {},
   "source": [
    "**Can the variable names be altered during capturing?**"
   ]
  },
  {
   "cell_type": "code",
   "execution_count": null,
   "metadata": {},
   "outputs": [],
   "source": [
    "int b = 5;\n",
    "auto lambda1 = [b](int a) -> int { return a + b; }; // rename 'b' ?\n",
    "auto lambda2 = [myb = b](int a) -> int { return a + myb; }; // copy and rename to 'myb'\n",
    "auto lambda3 = [&myref = b](int a) -> int { return a + myref; }; // alias to 'b' named 'myref'"
   ]
  },
  {
   "cell_type": "markdown",
   "metadata": {},
   "source": [
    "The effect of a lambda expression can nicely be described by the behavior using an inline class.\n",
    "But before that, let's introduce some nomenclature for lambda expressions:"
   ]
  },
  {
   "cell_type": "markdown",
   "metadata": {},
   "source": [
    "- The **body** holds the block of code which is executed when invoking the function object.\n",
    "- The **capture clause** lists which variables of the \"outside scope\" are captured for a use inside the **body**.\n",
    "- The **parameter list** lists the parameter which are required when invoking the function object; they are also available in the body (as for any normal function).\n",
    "- The **return type** specifies the return type of the invocation.\n",
    "\n",
    "The type of the **function object** which is constructed is of type \"closure type\" and its behavior is standardized by prescribing rules for\n",
    "- how **captures** are mapped to members, \n",
    "- how the invocation is realized using an overloaded `operator()`, \n",
    "- which special member functions are available, and\n",
    "- if conversion to a function pointer is possible (for non-capturing lambdas)\n",
    "\n",
    "**Note**: the \"closure type\" is not directly accessible and compiler dependent; i.e. `auto` is used predominantly to deduce the type of function objects results from lambda expressions."
   ]
  },
  {
   "cell_type": "markdown",
   "metadata": {},
   "source": [
    "Considering the example from above and these rules just listed we could reformulate this"
   ]
  },
  {
   "cell_type": "code",
   "execution_count": null,
   "metadata": {},
   "outputs": [],
   "source": [
    "int i{};\n",
    "Widget w{};  \n",
    "auto lambda = [i, &w] (int b) -> int { return i + w.m + b; };\n",
    "// int res = lambdas(4); // cling crash"
   ]
  },
  {
   "cell_type": "markdown",
   "metadata": {},
   "source": [
    "by using an \"inline class\" with \n",
    "- a custom constructor (1) which captures all required variables as members (1a)(1b),\n",
    "- an overloaded `operator()` with the same *signature* as the \"lambda\" (2), and\n",
    "- immediately instantiating the class (3):"
   ]
  },
  {
   "cell_type": "code",
   "execution_count": null,
   "metadata": {},
   "outputs": [],
   "source": [
    "int i{};\n",
    "Widget w{};\n",
    "class ClosureType { \n",
    "private:\n",
    "  int i;         // (1a) capture by-value\n",
    "  Widget &w;     // (1b) capture by-reference\n",
    "public:\n",
    "  ClosureType(int i, Widget &w) : i(i), w(w) {};               // (1)\n",
    "  auto operator()(int b) const -> int { return i + w.m + b;}   // (2)\n",
    "};\n",
    "ClosureType lambda(i,w); // (3)\n",
    "int res = lambda(4);     // (4)"
   ]
  },
  {
   "cell_type": "markdown",
   "metadata": {},
   "source": [
    "The effect and syntax of an invocation (4) is then identical to the above lambda expression."
   ]
  },
  {
   "cell_type": "markdown",
   "metadata": {},
   "source": [
    "**How does the inline class look like when the captures are empty? Does this allow for further simplification?**\n",
    "- no data members -> stateless function object"
   ]
  },
  {
   "cell_type": "markdown",
   "metadata": {},
   "source": [
    "**Can a lambda function be implicitly converted to a \"C-Style\" function pointer?**\n"
   ]
  },
  {
   "cell_type": "code",
   "execution_count": null,
   "metadata": {},
   "outputs": [],
   "source": [
    "using FuncPtr = int (*)(int);\n",
    "FuncPtr lambda5 = [](int a) -> int { return a + 2; }; // works? \n",
    "int b = 5;\n",
    "// FuncPtr lambda6 = [b](int a) -> int { return a + b; }; // works?"
   ]
  },
  {
   "cell_type": "markdown",
   "metadata": {},
   "source": [
    "Let's look at non-capturing lambdas in a bit more detail."
   ]
  },
  {
   "cell_type": "markdown",
   "metadata": {},
   "source": [
    "## Non-capturing lambdas\n",
    "\n",
    "Non-capturing lambdas can implicitly be converted to function pointers; capturing lambdas cannot.\n",
    "To create some intuition for the reason behind this behavior, let's first briefly look at function pointers and conversion functions.\n",
    "Equipped with this prerequisites we then again mimic the behavior using an inline class which converts to a function pointer implicitly (like a lambda). \n"
   ]
  },
  {
   "cell_type": "markdown",
   "metadata": {},
   "source": [
    "### Function pointers\n",
    "\n",
    "A *function pointer* is a type holding a pointer to a function with a specific *signature*.\n",
    "Some examples of non-member function pointers are:"
   ]
  },
  {
   "cell_type": "code",
   "execution_count": null,
   "metadata": {},
   "outputs": [],
   "source": [
    "using FuncPtrRetVoid = void (*)();\n",
    "using FuncPtrRetIntPassIntInt= int(*)(int,int);\n",
    "using FuncPtrRetWidgetPassWidgetRef = Widget (*)(const Widget&);"
   ]
  },
  {
   "cell_type": "markdown",
   "metadata": {},
   "source": [
    "Invocation of the above function pointers looks like this:"
   ]
  },
  {
   "cell_type": "code",
   "execution_count": null,
   "metadata": {},
   "outputs": [],
   "source": [
    "void func_void(){};"
   ]
  },
  {
   "cell_type": "code",
   "execution_count": null,
   "metadata": {},
   "outputs": [],
   "source": [
    "int func_int(int a, int b) { return a + b; };"
   ]
  },
  {
   "cell_type": "code",
   "execution_count": null,
   "metadata": {},
   "outputs": [],
   "source": [
    "Widget func_widget(const Widget &w) { return w; };"
   ]
  },
  {
   "cell_type": "code",
   "execution_count": null,
   "metadata": {},
   "outputs": [],
   "source": [
    "FuncPtrRetVoid fptr = func_void;\n",
    "fptr();\n",
    "FuncPtrRetIntPassIntInt fptr2 = func_int;\n",
    "fptr2(1, 2);\n",
    "FuncPtrRetWidgetPassWidgetRef fptr3 = func_widget;\n",
    "fptr3(Widget{});"
   ]
  },
  {
   "cell_type": "markdown",
   "metadata": {},
   "source": [
    "A useful application of function pointers is to use them as parameters:"
   ]
  },
  {
   "cell_type": "code",
   "execution_count": null,
   "metadata": {},
   "outputs": [],
   "source": [
    "void invoke(FuncPtrRetVoid callable) { callable(); }\n",
    "\n",
    "invoke(func_void);\n",
    "invoke(fptr);"
   ]
  },
  {
   "cell_type": "markdown",
   "metadata": {},
   "source": [
    "### Conversion functions \n",
    "\n",
    "User-defined conversion functions [(cppref)](https://en.cppreference.com/w/cpp/language/cast_operator) allow to implement *implicit* and *explicit* conversions *form* a type *to* other types. "
   ]
  },
  {
   "cell_type": "markdown",
   "metadata": {},
   "source": [
    "**What is difference between explicit and implicit conversions?**\n",
    "- a conversion is implicit if the type which is the target of the conversion is not explicitly stated in the code, but the required target type is deduced from the semantic embedding.\n",
    "- an explicit conversion does prescribe the target type of the conversion independent of the semantic embedding.\n",
    "- the specifier `explicit` can be used to disable the participation of a constructor or conversion function in implicit conversions."
   ]
  },
  {
   "cell_type": "markdown",
   "metadata": {},
   "source": [
    "A simple example of a conversion function looks like this:"
   ]
  },
  {
   "cell_type": "code",
   "execution_count": null,
   "metadata": {},
   "outputs": [],
   "source": [
    "struct Widget{\n",
    "  int m;\n",
    "  operator int() { return m; }; // (1) conversion function from 'Widget' to 'int'\n",
    "}; \n",
    "int d = Widget{3}; // implicit conversion used\n",
    "int dd = 3 + Widget{3} * 4; // implicit conversion used"
   ]
  },
  {
   "cell_type": "markdown",
   "metadata": {},
   "source": [
    "A second example where a conversion function (2) and a converting constructor [(cppref)](https://en.cppreference.com/w/cpp/language/converting_constructor) (1) participating in conversions looks like this:"
   ]
  },
  {
   "cell_type": "code",
   "execution_count": null,
   "metadata": {},
   "outputs": [],
   "source": [
    "struct Widget1 {\n",
    "  int m;\n",
    "};\n",
    "\n",
    "struct Widget2 {\n",
    "  int m;\n",
    "  Widget2() = default;\n",
    "  // (1) converting constructor from 'Widget1' to 'Widget2'\n",
    "  Widget2(const Widget1 &w) : m(w.m){};\n",
    "  // (2) conversion function from 'Widget2' to 'Widget1'\n",
    "  operator Widget1() { return Widget1{m}; };\n",
    "};\n",
    "\n",
    "Widget1 w1;\n",
    "Widget2 w2;\n",
    "w2 = w1; // implicit conversion using (1): error if (1) is specified 'explicit'\n",
    "w2 = static_cast<Widget2>(w1);  // explicit conversion using (1)\n",
    "w1 = w2; // implicit conversion function (2): error if (2) is specified 'explicit'\n",
    "w1 = static_cast<Widget1>(w2);  // explicit conversion using (2)"
   ]
  },
  {
   "cell_type": "markdown",
   "metadata": {},
   "source": [
    "### Lambda to function pointer conversion\n",
    "\n",
    "For non-capturing lambdas, a conversion function can be used to allow a conversion to a function pointer. Let's look at a simple example again:"
   ]
  },
  {
   "cell_type": "code",
   "execution_count": null,
   "metadata": {},
   "outputs": [],
   "source": [
    "using FuncPtrWW = Widget (*)(Widget&&);\n",
    "FuncPtrWW fptr = [](Widget &&w) -> Widget {\n",
    "  ++(w.m);\n",
    "  return w;\n",
    "};\n",
    "// auto w = fptr(Widget{}); // cling crashes"
   ]
  },
  {
   "cell_type": "markdown",
   "metadata": {},
   "source": [
    "The non-capturing lambda expression is implicitly converted to a function pointer. Also this conversion can be mimicked with an inline class:\n"
   ]
  },
  {
   "cell_type": "code",
   "execution_count": null,
   "metadata": {},
   "outputs": [],
   "source": [
    "class ClosureType2 {\n",
    "private:\n",
    "  static auto invoke(Widget &&w) { // (1)\n",
    "    ++(w.m);\n",
    "    return w;\n",
    "  }\n",
    "public:\n",
    "  operator FuncPtrWW() { return invoke; } // (2)\n",
    "  auto operator()(Widget &&w) {\n",
    "    ++(w.m);\n",
    "    return w;\n",
    "  }\n",
    "};\n",
    "FuncPtrWW fptr = ClosureType2();\n",
    "auto w = fptr(Widget{});"
   ]
  },
  {
   "cell_type": "markdown",
   "metadata": {},
   "source": [
    "A static member function (1) is additionally implemented, which is then returned  when a conversion to a function pointer is performed (2). "
   ]
  },
  {
   "cell_type": "markdown",
   "metadata": {},
   "source": [
    "**When is this conversion to a function pointer useful?**\n",
    "- this conversion allows non-capturing lambdas to be used in situations requiring function pointers.\n",
    "- this conversion provides a convenient way to define functions in a local scope."
   ]
  },
  {
   "cell_type": "markdown",
   "metadata": {},
   "source": [
    "**Why is this conversion not available if captures are present in the closure type?**\n",
    "- captures effectively create a stateful local function object; invoking the lambda requires access to this object.\n",
    "- a function does not have this access/object."
   ]
  },
  {
   "cell_type": "markdown",
   "metadata": {},
   "source": [
    "## Special member functions\n",
    "Up to now we did not provide user-defined special member functions of the inline classes we used to mimic lambda expressions (beside a custom constructor). \n",
    "The standard prescribes rules for the SMFs for function objects constructed using lambdas: \n",
    "\n",
    "- default construction (1) is not available\n",
    "- copy(2) and move(3) construction are declared as `default`ed\n",
    "- copy assignment (4) is declared as `delete`d, (move assignment not declared)\n",
    "- the destructor (6) is implicitly declared\n",
    "\n",
    "Again mimicking these rule within the inline class this looks like this for the introductory example above:\n"
   ]
  },
  {
   "cell_type": "code",
   "execution_count": null,
   "metadata": {},
   "outputs": [],
   "source": [
    "int i{};\n",
    "Widget w{};\n",
    "class ClosureType3 { \n",
    "private:\n",
    "  int i;\n",
    "  Widget &w;\n",
    "\n",
    "public:\n",
    "\n",
    "  ClosureType3() = delete; // (1) not defined\n",
    "  ClosureType3(const ClosureType3 &) = default; // (2)\n",
    "  ClosureType3(ClosureType3 &&) = default; // (3)\n",
    "  ClosureType3 &operator=(const ClosureType3 &) = delete; // (4) \n",
    "  // ClosureType3 &operator=(ClosureType3&&); // (5) not declared\n",
    "  ~ClosureType3() = default; // (6) implicit\n",
    "  ClosureType3(int i, Widget &w) : i(i), w(w) {};   \n",
    "\n",
    "  auto operator()(int b) const -> int { return i + w.m + b;}\n",
    "};\n",
    "ClosureType3 lambda(i,w);\n",
    "// int res = lambda(4);"
   ]
  },
  {
   "cell_type": "markdown",
   "metadata": {},
   "source": [
    "Exploring the effect of these rules for the SMFs can look like this:\n"
   ]
  },
  {
   "cell_type": "code",
   "execution_count": null,
   "metadata": {},
   "outputs": [],
   "source": [
    "const int i{2};\n",
    "Widget w{3};\n",
    "auto lambda = [&i, &w](int b) { return i + w.m + b; };\n",
    "// auto copy = lambda;              // what is this, does it work ? copy ctor\n",
    "// lambda = copy;                // what is this, does it work ? copy assign\n",
    "// auto move = std::move(lambda);   // what is this, does it work ? move ctor\n",
    "// move = std::move(copy)           // what is this, does it work ? move assign  "
   ]
  },
  {
   "cell_type": "markdown",
   "metadata": {},
   "source": [
    "## Evaluation time vs. execution time\n",
    "For capturing lambdas, it is important to differentiate the time of *evaluation* of a lambda expression and the subsequent *invocations/executions* of the constructed function object:\n",
    "the function object is constructed at *evaluation time* (1) of the lambda expression. At invocation time (2a)(2b) changes to variables captured by reference `&w` are reflected while the internal state of variables captured by-value (`x`) is effective. In (1) additionally the keyword `mutable` is required to allow the invocation to change the internal state (i.e., `++x`) of the function object."
   ]
  },
  {
   "cell_type": "code",
   "execution_count": null,
   "metadata": {},
   "outputs": [],
   "source": [
    "int x = 5; \n",
    "Widget w{7}; \n",
    "\n",
    "auto lambda = [x,&w]() mutable -> auto { ++x; return (w.m + x);}; // (1) \n",
    "x = 100; // change x to 100 in this scope\n",
    "w.m = 100; // influences lambda -> lamnda.w.m == 100\n",
    "// auto res1 = lambda(); // (2a) // cling crashes\n",
    "x = 0; // reset in this scope (no effect on lambda)\n",
    "w.m = 0; // effect on lambda \n",
    "// auto res2 = lambda(); // (2b) // cling crashes"
   ]
  },
  {
   "cell_type": "markdown",
   "metadata": {},
   "source": [
    "**What are the values of `res1` and `res2` in above snippet?**\n",
    "- `res1 = w.m + x;` where `x=5+1` and `w.m` = 7 \n",
    "- `res2 = w.m + x;` where `x=6+1` and `w.m` = 0 "
   ]
  },
  {
   "cell_type": "markdown",
   "metadata": {},
   "source": [
    "## Capture options\n",
    "Above, up to now we only cherry-picked captures explicitly by-reference or by-value for local variables in the outer scope.\n",
    "\n",
    "### Capture defaults/wildcards\n",
    "To obtain a default capture by-value for \"everything required\" in the body of the lambda, a `=` as first item in the capture list can be used:\n"
   ]
  },
  {
   "cell_type": "code",
   "execution_count": null,
   "metadata": {},
   "outputs": [],
   "source": [
    "double g;\n",
    "const int i{2};\n",
    "Widget w{3};\n",
    "// default capture by-value    \n",
    "auto lambda = [=](int b) { return g + w.m + b + i; }; "
   ]
  },
  {
   "cell_type": "markdown",
   "metadata": {},
   "source": [
    "Similar for a default-capture by lvalue reference, `&` as first item in the capture list can be used:"
   ]
  },
  {
   "cell_type": "code",
   "execution_count": null,
   "metadata": {},
   "outputs": [],
   "source": [
    "// default capture by-reference    \n",
    "auto lambda = [&](int b) { return g + w.m + b + i; }; "
   ]
  },
  {
   "cell_type": "markdown",
   "metadata": {},
   "source": [
    "The default can be mixed with explicit exceptions from the default:\n"
   ]
  },
  {
   "cell_type": "code",
   "execution_count": null,
   "metadata": {},
   "outputs": [],
   "source": [
    "int i;\n",
    "int g;\n",
    "\n",
    "// explicit capture by-value for i,g\n",
    "auto lambda1 = [&, i, g](int b) { return g + w.m + b + i; }; \n",
    "// explicit capture by-reference for i,g    \n",
    "auto lambda2 = [=, &i, &g](int b) { return g + w.m + b + i; }; "
   ]
  },
  {
   "cell_type": "markdown",
   "metadata": {},
   "source": [
    "Further, names of variables can be provided explicitly:"
   ]
  },
  {
   "cell_type": "code",
   "execution_count": null,
   "metadata": {},
   "outputs": [],
   "source": [
    "int i;\n",
    "int g;\n",
    "auto lambda = [=, i=i, ref_g=g](int b) { return i + ref_g + w.m + b + i; }; "
   ]
  },
  {
   "cell_type": "markdown",
   "metadata": {},
   "source": [
    "Moving-constructing an object into function object is achieved using this syntax:"
   ]
  },
  {
   "cell_type": "code",
   "execution_count": null,
   "metadata": {},
   "outputs": [],
   "source": [
    "auto lambda = [=, moved_w=std::move(w)](int b) { return g + moved_w.m + b + i; }; "
   ]
  },
  {
   "cell_type": "markdown",
   "metadata": {},
   "source": [
    "### Enclosing object \n",
    "\n",
    "What happens if a lambda is defined in a scope with access to a `this` pointer and implicitly accesses the object pointed-to by `this`?\n",
    "- if `this` is captured implicitly (through one of the two default capture modes `[=]` or `[&]`) the object referred to by this is captured by reference (see snippet below)\n",
    "\n"
   ]
  },
  {
   "cell_type": "code",
   "execution_count": null,
   "metadata": {},
   "outputs": [],
   "source": [
    "struct Widget3 {\n",
    "  int m;\n",
    "  auto member() {\n",
    "    return [&]() { return this->m; }; // (1) 'this' is captured by reference\n",
    "    // return [=]() {return m; };       // (2) 'this' is still captured by reference\n",
    "  }\n",
    "};"
   ]
  },
  {
   "cell_type": "markdown",
   "metadata": {},
   "source": [
    "To explicitly control type of capture for the enclosing object `this` can be captured by copy (1) or by reference (2):"
   ]
  },
  {
   "cell_type": "code",
   "execution_count": null,
   "metadata": {},
   "outputs": [],
   "source": [
    "struct Widget4 {\n",
    "  int m;\n",
    "  auto member() {\n",
    "    return [this]() { return m; }; // (1) by-reference \n",
    "    // return [*this]() { return m; }; // (2) by-copy\n",
    "  }\n",
    "};"
   ]
  },
  {
   "cell_type": "markdown",
   "metadata": {},
   "source": [
    "## Generic lambdas\n",
    "\n",
    "If one or more of the parameters use `auto` to specific the type the lambda expression is called *generic lambda*:\n"
   ]
  },
  {
   "cell_type": "code",
   "execution_count": null,
   "metadata": {},
   "outputs": [],
   "source": [
    "const int i{2};\n",
    "Widget4 w{3};\n",
    "// generic lambda   \n",
    "auto lambda1 = [=](auto b, double g) { return g + w.m + b + i; };\n",
    "auto lambda2 = [=](auto & b, double g) { return g + w.m + b + i; }; \n",
    "auto lambda3 = [=](auto && b, double g) { return g + w.m + b + i; };"
   ]
  },
  {
   "cell_type": "markdown",
   "metadata": {},
   "source": [
    "## Examples\n",
    "\n",
    "Finally lets look at some examples.\n",
    "\n",
    "## Custom comparator\n",
    "This snippet uses lambdas to setup custom comparators which are the used to sort a vector of `Widgets`:"
   ]
  },
  {
   "cell_type": "code",
   "execution_count": null,
   "metadata": {},
   "outputs": [],
   "source": [
    "struct Widget {\n",
    "   int m;\n",
    "};\n",
    "\n",
    "std::vector<Widget> vec;\n",
    "vec.push_back(Widget{10});\n",
    "vec.push_back(Widget{5});\n",
    "vec.push_back(Widget{4});\n",
    "int threshold = 2;\n",
    "// this comparator uses a local variable(s) to configure a threshold for the sorting\n",
    "// this could not be easily achieved with a function pointer\n",
    "auto comp1 = [threshold](const Widget &a, const Widget &b) {\n",
    "  return std::abs(a.m - b.m) > threshold ? a.m < b.m : false;\n",
    "};\n",
    "auto comp2 = [](const Widget &a, const Widget &b) {\n",
    "  return a.m < b.m;\n",
    "};  \n",
    "std::sort(vec.begin(), vec.end(), comp1); \n",
    "for (auto&& item : vec) {\n",
    "  std::printf(\"%i \",item.m);\n",
    "}"
   ]
  },
  {
   "cell_type": "markdown",
   "metadata": {},
   "source": [
    "## Custom predicate\n",
    "\n",
    "This snippet uses a lambda to setup a predicate which is used to count the `Widget`s in a vector, which have the property tested by the predicate:\n"
   ]
  },
  {
   "cell_type": "code",
   "execution_count": null,
   "metadata": {},
   "outputs": [],
   "source": [
    "struct Widget {\n",
    "  int m;\n",
    "};\n",
    "std::vector<Widget> vec;\n",
    "vec.push_back(Widget{10});\n",
    "vec.push_back(Widget{5});\n",
    "vec.push_back(Widget{4});\n",
    "int lower = 2;\n",
    "int upper = 5;\n",
    "// \n",
    "auto lambda = [&t1 = lower, &t2 = upper](const Widget &a) {\n",
    "  return a.m > t1 && a.m < t2;\n",
    "};\n",
    "{ // count elements using predicate\n",
    "  auto count = std::count_if(vec.begin(), vec.end(), lambda);\n",
    "  std::printf(\"%li\\n\",count);\n",
    "}\n",
    "++upper; // increasing upper threshold of predicate\n",
    "{ // count elements using predicate\n",
    "  auto count = std::count_if(vec.begin(), vec.end(), lambda);\n",
    "  std::printf(\"%li\\n\",count);\n",
    "}"
   ]
  },
  {
   "cell_type": "markdown",
   "metadata": {},
   "source": [
    "## Dangling capture\n",
    "This snippet shows an example where a lambda captures a variable of the local scope by reference. This leads to a dangling reference if the lambda is invoked after this variable has gone out of scope:\n"
   ]
  },
  {
   "cell_type": "code",
   "execution_count": null,
   "metadata": {},
   "outputs": [],
   "source": [
    "auto lambda = []() {\n",
    "  int x{};\n",
    "  return [&x]() { return x + 5; }; // capturing  local 'x' by reference\n",
    "};\n",
    "// auto res = lambda(); // cling crash\n",
    "// lambda returns a dangling reference to the 'x' in the body of the lambda:\n",
    "// reference was released after the operator() call completes\n"
   ]
  },
  {
   "cell_type": "markdown",
   "metadata": {},
   "source": [
    "## Additional example"
   ]
  },
  {
   "cell_type": "markdown",
   "metadata": {},
   "source": [
    "```cpp\n",
    "// std::transform signature\n",
    "template< class InputIt,\n",
    "          class OutputIt,\n",
    "          class UnaryOperation >\n",
    "OutputIt transform( InputIt first1,\n",
    "                    InputIt last1,\n",
    "                    OutputIt d_first,\n",
    "                    UnaryOperation unary_op );\n",
    "```"
   ]
  },
  {
   "cell_type": "markdown",
   "metadata": {},
   "source": [
    "Let's look at different example how to use the overloads (e.g., of `tan` in `cmath`) as unary operation when transforming a vector:"
   ]
  },
  {
   "cell_type": "markdown",
   "metadata": {},
   "source": [
    "```cpp\n",
    "// mimic overloads of 'tan '\n",
    "double tan(double in) { return in; };\n",
    "float tan(float in) { return in; };\n",
    "\n",
    "// wrapper\n",
    "template <typename T> auto tan_wrapper(const T &arg) { return tan(arg); }\n",
    "\n",
    "int main() {\n",
    "  using T = double;\n",
    "\n",
    "  std::vector<T> v(10, 12.);\n",
    "\n",
    "  // error: cannot infer template 'UnaryOperation'\n",
    "  std::transform(v.begin(), v.end(), v.begin(), tan);\n",
    "\n",
    "  // explicit template parameters\n",
    "  std::transform<typename std::vector<T>::iterator,\n",
    "                 typename std::vector<T>::iterator, double (*)(double)>(\n",
    "      v.begin(), v.end(), v.begin(), tan);\n",
    "\n",
    "  // explicit cast to function pointer\n",
    "  std::transform(v.begin(), v.end(), v.begin(), static_cast<T (*)(T)>(tan));\n",
    "\n",
    "  // using template wrapper\n",
    "  std::transform(v.begin(), v.end(), v.begin(), tan_wrapper<T>);\n",
    "\n",
    "  // using a lambda with auto argument-> templated operator() \n",
    "  std::transform(\n",
    "      v.begin(), v.end(), v.begin(),\n",
    "      [](const auto &a) -> auto { return tan(a); });\n",
    "}\n",
    "```\n"
   ]
  },
  {
   "cell_type": "markdown",
   "metadata": {},
   "source": [
    "# Summary\n",
    "- ...\n",
    "- ..."
   ]
  }
 ],
 "metadata": {
  "kernelspec": {
   "display_name": "C++17",
   "language": "c++",
   "name": "xcpp17"
  },
  "language_info": {
   "codemirror_mode": "text/x-c++src",
   "file_extension": ".cpp",
   "mimetype": "text/x-c++src",
   "name": "c++",
   "version": "17"
  },
  "orig_nbformat": 4
 },
 "nbformat": 4,
 "nbformat_minor": 2
}
