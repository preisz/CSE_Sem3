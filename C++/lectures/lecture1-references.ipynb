{
 "cells": [
  {
   "cell_type": "markdown",
   "metadata": {},
   "source": [
    "### References\n",
    "\n",
    "[C++ Primer [Lippman]](https://www.amazon.de/C-Primer-Stanley-B-Lippman/dp/0321714113)\n",
    "\n",
    "[A Tour of C++ [Stroustrup]](https://www.amazon.de/Tour-C-Bjarne-Stroustrup-dp-0136816487/dp/0136816487)\n",
    "\n",
    "[C++17 - The Complete Guide [Josuttis]](https://www.amazon.com/C-17-Complete-Guide-First/dp/396730017X)\n",
    "\n",
    "[Effective Modern C++ [Meyers]](https://www.amazon.com/Effective-Modern-Specific-Ways-Improve/dp/1491903996/)\n",
    "\n",
    "[Functional Programming in C++ [Cukic]](https://www.amazon.com/Functional-Programming-programs-functional-techniques/dp/1617293814)\n",
    "\n",
    "### Online References\n",
    "\n",
    "[cppreference.com](https://cppreference.com)\n",
    "\n",
    "[clang/clangd/clang-format/clang-repl ... --> llvm](https://releases.llvm.org/12.0.0/docs/index.html)\n",
    "\n",
    "### Online Tools\n",
    "\n",
    "[Compiler Explorer](https://godbolt.org/)\n",
    "\n",
    "[C++ Insights](https://cppinsights.io/)\n",
    "\n",
    "### CMake\n",
    "\n",
    "[CMake Wiki](https://gitlab.kitware.com/cmake/community/-/wikis/home)\n",
    "\n",
    "[CMake tutorial](https://cmake.org/cmake/help/v3.18/guide/tutorial/index.html)"
   ]
  },
  {
   "cell_type": "markdown",
   "metadata": {},
   "source": []
  }
 ],
 "metadata": {
  "kernelspec": {
   "display_name": "C++17",
   "language": "C++17",
   "name": "xcpp17"
  },
  "language_info": {
   "codemirror_mode": "text/x-c++src",
   "file_extension": ".cpp",
   "mimetype": "text/x-c++src",
   "name": "C++17",
   "version": "17"
  },
  "orig_nbformat": 4
 },
 "nbformat": 4,
 "nbformat_minor": 2
}
