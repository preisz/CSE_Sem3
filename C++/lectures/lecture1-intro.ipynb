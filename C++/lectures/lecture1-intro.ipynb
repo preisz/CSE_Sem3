{
 "cells": [
  {
   "attachments": {},
   "cell_type": "markdown",
   "metadata": {},
   "source": [
    "# Lecture1, October 5\n",
    "\n"
   ]
  },
  {
   "attachments": {},
   "cell_type": "markdown",
   "metadata": {},
   "source": [
    "### Organization\n",
    "\n",
    "- semester schedule\n",
    "- exercises\n",
    "- handout/submission/feedback\n",
    "- exercise discussions/grading\n",
    "- final grade\n",
    "\n",
    "All details on TUWEL: https://tuwel.tuwien.ac.at/course/view.php?id=59549\n",
    "\n",
    "### Development environment/recommendations\n",
    "\n",
    "Consult https://sgit.iue.tuwien.ac.at/360251/setup for details.\n",
    "\n",
    "### Introductory exercise ex0\n",
    "\n",
    "- handout today: https://sgit.iue.tuwien.ac.at/360251/ex0\n",
    "- hands-on (e01528862): obtain, configure, build, run, test, submit\n",
    "\n",
    "- git for ex0 step-by-step https://sgit.iue.tuwien.ac.at/360251/git\n",
    "- CMake for ex0 step-by-step https://sgit.iue.tuwien.ac.at/360251/cmake"
   ]
  },
  {
   "cell_type": "code",
   "execution_count": 1,
   "metadata": {
    "vscode": {
     "languageId": "cpp"
    }
   },
   "outputs": [],
   "source": [
    "// write a hello world program in C and C++\n",
    "// ... we do this next lecture"
   ]
  },
  {
   "attachments": {},
   "cell_type": "markdown",
   "metadata": {},
   "source": [
    "### Motivation for using/learning C++\n",
    "\n",
    "- Why C++?\n",
    "    - widely used\n",
    "    - meta programming power\n",
    "    - multi-paradigm language\n",
    "    - high performance\n",
    "    - static types\n",
    "    - explicit memory handling\n",
    "\n",
    "- What is not ideal?\n",
    "    - verbose (hint: type aliases can help)\n",
    "    - deploy/package/dependencies (proper modularization requires advanced knowledge)\n",
    "    - backward compatibility (old sytnax options stay)\n",
    "\n",
    "- Evolution of the language\n",
    "    - C++17, C++20, C++23\n",
    "    - specification includes the stdandard library\n",
    "    - committee controlled standardization\n"
   ]
  }
 ],
 "metadata": {
  "kernelspec": {
   "display_name": "C++17",
   "language": "C++17",
   "name": "xcpp17"
  },
  "language_info": {
   "codemirror_mode": "text/x-c++src",
   "file_extension": ".cpp",
   "mimetype": "text/x-c++src",
   "name": "C++17",
   "version": "17"
  },
  "orig_nbformat": 4
 },
 "nbformat": 4,
 "nbformat_minor": 2
}
