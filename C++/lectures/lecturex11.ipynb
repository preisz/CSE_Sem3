{
 "cells": [
  {
   "cell_type": "code",
   "execution_count": 1,
   "metadata": {},
   "outputs": [],
   "source": [
    "// general includes\n",
    "#include <iostream>   // std::cout|endl \n",
    "#include <memory>   // std::unique_ptr|shared_ptr\n",
    "#include <cstdio>  // std::fopen|fprintf|fclose\n",
    "struct Widget {\n",
    "    int m;\n",
    "};"
   ]
  },
  {
   "cell_type": "markdown",
   "metadata": {},
   "source": [
    "## Quick Recap\n",
    "\n",
    "..."
   ]
  },
  {
   "cell_type": "markdown",
   "metadata": {},
   "source": [
    "## Goals for today\n",
    "\n",
    "..."
   ]
  },
  {
   "cell_type": "markdown",
   "metadata": {},
   "source": [
    "## Smart Pointers: `std::shared_ptr`\n",
    "\n",
    "If a resource is intended to be shared (i.e., multiple handles exist simultaneously and are shared between participating entities) it is not straightforward to decide when to perform the final release of the resource: is is desired that this only happens after all participating entities are no more able to access the resource.\n",
    "The `std::shared_ptr`[(cppref)](https://en.cppreference.com/w/cpp/memory/shared_ptr) solves this problem using *reference counting*: the number of valid handles (references) to a resource are tracked using a single counter variable per resource: \n",
    "- on construction of the first (original) handle the counter is set to '1'\n",
    "- whenever an additional handle is constructed the counter is incremented\n",
    "- whenever a handle is invalidated the counter is decremented\n",
    "- if the counter is decremented to '0' the resource is released (as no more handles are present)"
   ]
  },
  {
   "cell_type": "markdown",
   "metadata": {},
   "source": [
    "How to obtain a `shared_ptr`? Let's look at some examples:"
   ]
  },
  {
   "cell_type": "code",
   "execution_count": 2,
   "metadata": {},
   "outputs": [],
   "source": [
    "std::shared_ptr<Widget> sp1 = std::make_shared<Widget>(); // using make_shared\n",
    "std::shared_ptr<Widget> sp2 = std::shared_ptr<Widget>(new Widget{}); // ctor + new\n",
    "std::unique_ptr<Widget> up1 = std::make_unique<Widget>(); // unique_ptr\n",
    "std::shared_ptr<Widget> sp3 = std::move(up1); // from rvalue unique_ptr\n",
    "\n",
    "// state of up1 here? \n",
    "// what is the reference count of sp1, sp2, sp3 here? "
   ]
  },
  {
   "cell_type": "markdown",
   "metadata": {},
   "source": [
    "**Is it possible to convert between `std::unique_ptr` and `std::shared_ptr`?**\n",
    "- yes, an implicit conversion is available from `unique_ptr` to `shared_ptr` (from rvalues only).\n",
    "- a conversion from `shared_ptr` to `unique_ptr` is not allowed (would need to invalidate all other references)."
   ]
  },
  {
   "cell_type": "markdown",
   "metadata": {},
   "source": [
    "**Which restrictions (SMFs) can we expect to be lifted for `std::shared_ptr` (compared to `std::unique_ptr`)? What about pointer arithmetic and other operators?**\n",
    "- copy assignment and copy construction is expected to be available\n",
    "- pointer arithmetic and other operators are expected to be very similar"
   ]
  },
  {
   "cell_type": "markdown",
   "metadata": {},
   "source": [
    "**Does the principle of the automatic release mechanism differ from `std::unique_ptr`?**\n",
    "- identical in general; but the condition for its execution differs: only a decrement of the reference count to '0' triggers a release of the resource;\n",
    "- this might also happen during a copy assignment (the refcount for the assigned resource is decreased), not only when a variable goes out of scope."
   ]
  },
  {
   "cell_type": "markdown",
   "metadata": {},
   "source": [
    "Reference counting example:"
   ]
  },
  {
   "cell_type": "code",
   "execution_count": 3,
   "metadata": {},
   "outputs": [
    {
     "data": {
      "text/plain": [
       "@0x7fe743b5a078"
      ]
     },
     "execution_count": 3,
     "metadata": {},
     "output_type": "execute_result"
    }
   ],
   "source": [
    "auto sp1 = std::make_shared<Widget>(); // (1) 1st sptr object\n",
    "auto sp2 = std::make_shared<Widget>(); // (2) 2nd sptr object\n",
    "auto sp3 = sp1; // (3) third sp object\n",
    "sp2 = sp1; // (4) "
   ]
  },
  {
   "cell_type": "markdown",
   "metadata": {},
   "source": [
    "### Overhead: what does a `std::shared_ptr` look like\n",
    "If we decide to use a `std::shared_ptr` instead of a `std::unique_ptr` or a raw pointer, what can we expect in terms of performance? To argue about this, let's look again at what (a small part of) a simplified implementation looks like:"
   ]
  },
  {
   "cell_type": "code",
   "execution_count": 4,
   "metadata": {},
   "outputs": [],
   "source": [
    "#include <memory>\n",
    "\n",
    "template <class T> class shared_ptr {\n",
    "  struct ControlBlock {\n",
    "    int count = 1;\n",
    "    // some more members in stdlib\n",
    "  };\n",
    "  ControlBlock *cb; // (1) member A -> for refcounting\n",
    "  T *ptr;           // (2) member B -> same as for unqiue_ptr\n",
    "\n",
    "  void increment() {\n",
    "    if (cb)\n",
    "      ++cb->count;\n",
    "  }\n",
    "  void decrement() {\n",
    "    if (cb && --cb->count == 0) {\n",
    "      delete ptr; // wrapped resource\n",
    "      delete cb;  // overhead\n",
    "    }\n",
    "  }\n",
    "\n",
    "public:\n",
    "  // usage: auto sp = shared_ptr<Widget>(new Widget{});\n",
    "  shared_ptr(T *ptr) : cb(new ControlBlock()), ptr(ptr) {}\n",
    "  shared_ptr(const shared_ptr &other) : cb(other.cb), ptr(other.ptr) {\n",
    "    // (1) ???\n",
    "    // 1) setup sharing of refcount and resource\n",
    "    // 2) increment\n",
    "  }\n",
    "  shared_ptr(shared_ptr &&other) : cb(other.cb), ptr(other.ptr) {\n",
    "    // (2) ???\n",
    "    // 1) no inc/dec\n",
    "    // 2) but: setup sharing of refcount and resource + set 'other' to\n",
    "    // \"NULL\"\n",
    "  }\n",
    "  shared_ptr &operator=(const shared_ptr &other) {\n",
    "    // (3) ???\n",
    "    // 1) release managing the current resource (dec) + check if delete\n",
    "    // 2) take over members from 'other' + inc\n",
    "    return *this;\n",
    "  }\n",
    "  shared_ptr &operator=(shared_ptr &&other) {\n",
    "    // (4) ???\n",
    "    // 1) release managing the current resource (dec) + check if delete\n",
    "    // 2) take over members from 'other' + set other to \"NULL\"\n",
    "  }\n",
    "  ~shared_ptr() {\n",
    "    // (5) ???\n",
    "    // 1) check if we are already the last owner (unique owner): if yes\n",
    "    // free resource\n",
    "    // 2) if not: decrement\n",
    "  }\n",
    "  T *operator->() const { return ptr; }\n",
    "  T &operator*() const { return *ptr; }\n",
    "};\n",
    "\n",
    "template <typename T, typename... ARGS>\n",
    "shared_ptr<T> make_shared(ARGS &&... args) {\n",
    "  // do sth. here: -> use a single allocation for cb and ptr\n",
    "  return shared_ptr<T>(new T(std::forward<ARGS>(args)...));\n",
    "}"
   ]
  },
  {
   "cell_type": "markdown",
   "metadata": {},
   "source": [
    "**Why can `make_shared` be an advantage compared to the 'regular' ctors?**\n",
    "- reduce number of individual allocations"
   ]
  },
  {
   "cell_type": "markdown",
   "metadata": {},
   "source": [
    "**What is expected to happen in the body of the SMFs marked above (to implement the reference counting)?**\n",
    "\n",
    "- see above"
   ]
  },
  {
   "cell_type": "markdown",
   "metadata": {},
   "source": [
    "It is visible that the construction (of the \"original\" handle ) triggers a subsequent dynamic allocation for the `ControlBlock`. The obtained pointer is stored as member `cb` in the `shared_pointer` additionally to the pointer of the managed object `ptr`. It is apparent that many of the SMFs will need to access the `ControlBlock`.\n",
    "This means a `shared_ptr` does introduce some overhead (memory and access). This has to be considered for practical applications: if very small objects are managed by a `shared_ptr`, the relative increase of the memory footprint is not negligible. It might still be practical to use a `shared_ptr` for small objects, depending on the application context.\n"
   ]
  },
  {
   "cell_type": "markdown",
   "metadata": {},
   "source": [
    "**Why is the `ControlBlock` a structure and not simply a integral type?**\n",
    "- in this simple case, could be just a pointer to an (atomic) integer; in the stdlib, some more members are present in the `ControlBlock` structure to support advanced features of a `shared_ptr`: weak reference counting, and aliasing construction (access with offset)."
   ]
  },
  {
   "cell_type": "markdown",
   "metadata": {},
   "source": [
    "**Would a static member be sufficient for reference counting, too?**\n",
    "- no, a static member could only count references for all handles to shared pointers per type, but not per resource."
   ]
  },
  {
   "cell_type": "markdown",
   "metadata": {},
   "source": [
    "As we can see from the snippet above `shared_ptr`s can be copied and moved.\n",
    "Let's examine some examples using again a `Widget` and a function returning a `share_ptr<Widget>`:"
   ]
  },
  {
   "cell_type": "code",
   "execution_count": 5,
   "metadata": {},
   "outputs": [],
   "source": [
    "auto get_widget() {\n",
    "  return std::make_shared<Widget>(); // using public constructors indirectly\n",
    "}"
   ]
  },
  {
   "cell_type": "code",
   "execution_count": 6,
   "metadata": {},
   "outputs": [
    {
     "name": "stdout",
     "output_type": "stream",
     "text": [
      "1\n",
      "2\n",
      "2\n",
      "3\n",
      "2\n"
     ]
    },
    {
     "data": {
      "text/plain": [
       "@0x7fe73cec1de0"
      ]
     },
     "execution_count": 6,
     "metadata": {},
     "output_type": "execute_result"
    }
   ],
   "source": [
    "auto sp = get_widget();                    // (1) one sp\n",
    "std::cout << sp.use_count() << std::endl;  //  \n",
    "auto sp2 = sp;                             // \n",
    "std::cout << sp.use_count() << std::endl;  //  \n",
    "std::cout << sp2.use_count() << std::endl; // \n",
    "{\n",
    "  auto sp3 = sp;                            // \n",
    "  std::cout << sp.use_count() << std::endl; // \n",
    "}\n",
    "std::cout << sp.use_count() << std::endl; //  "
   ]
  },
  {
   "cell_type": "markdown",
   "metadata": {},
   "source": [
    "**What are the reference counts in the above snippet?**\n",
    "- see above"
   ]
  },
  {
   "cell_type": "markdown",
   "metadata": {},
   "source": [
    "**Capturing the managed object outside**\n"
   ]
  },
  {
   "cell_type": "code",
   "execution_count": 8,
   "metadata": {},
   "outputs": [
    {
     "data": {
      "text/plain": [
       "5"
      ]
     },
     "execution_count": 8,
     "metadata": {},
     "output_type": "execute_result"
    }
   ],
   "source": [
    "  Widget *ptr = nullptr;\n",
    "  {\n",
    "    auto sp = get_widget(); // (1a) obtain sp to a resource\n",
    "    ptr = sp.get(); // (2) extract raw pointer (which is also a handle to the resource)\n",
    "  } // (1b)\n",
    "  ptr->m = 5; // (3) is this ok?"
   ]
  },
  {
   "cell_type": "markdown",
   "metadata": {},
   "source": [
    "**Is it safe to perform the last line of the snippet above?**\n",
    "- no, the resource `ptr` is pointing to is deallocated at (1b)"
   ]
  },
  {
   "cell_type": "markdown",
   "metadata": {},
   "source": [
    "**Managing the same resource more than once**"
   ]
  },
  {
   "cell_type": "code",
   "execution_count": 10,
   "metadata": {},
   "outputs": [],
   "source": [
    "  //...\n",
    "  auto sp1 = get_widget();\n",
    "  auto sp2 = get_widget();\n",
    "  std::shared_ptr<Widget> sp3(sp1); // (1) copy ctor\n",
    "  std::shared_ptr<Widget> sp4(sp2.get()); // (2) ctor from pointer"
   ]
  },
  {
   "cell_type": "markdown",
   "metadata": {},
   "source": [
    "**Can you spot a Problem in the above snippet?**\n",
    "- two independent reference counting control blocks exist for a single shared resource; this situation should never be created"
   ]
  },
  {
   "cell_type": "markdown",
   "metadata": {},
   "source": [
    "**Providing a `shared_ptr` from \"inside\" #1**"
   ]
  },
  {
   "cell_type": "code",
   "execution_count": 11,
   "metadata": {},
   "outputs": [],
   "source": [
    "struct Widget2 {\n",
    "  int m;\n",
    "  auto mfunc() { \n",
    "      return std::shared_ptr<Widget2>(this); // (1) is this ok?\n",
    "  }\n",
    "};"
   ]
  },
  {
   "cell_type": "code",
   "execution_count": 12,
   "metadata": {},
   "outputs": [],
   "source": [
    "auto get_widget2() {\n",
    "  return std::make_shared<Widget2>(); \n",
    "}"
   ]
  },
  {
   "cell_type": "code",
   "execution_count": 13,
   "metadata": {},
   "outputs": [],
   "source": [
    "//...\n",
    "auto sp = get_widget2();\n",
    "auto sp2 = sp->mfunc(); // (2) is this ok?"
   ]
  },
  {
   "cell_type": "markdown",
   "metadata": {},
   "source": [
    "**Is there a way to return a `shared_ptr` from within a managed class?**\n",
    "- returning a `shared_ptr` constructed from `this` leads again to a \"double management\" (like above)\n",
    "- to support such a situation, the object has to know that it is managed by a shared pointer and somehow needs access to the respective control block (see next example)."
   ]
  },
  {
   "cell_type": "markdown",
   "metadata": {},
   "source": [
    "**Providing a `shared_ptr` from \"inside\" #2**\n",
    "\n",
    "To overcome the problem in the previous snippet a solution is to inherit from `std::enable_shared_from_this`[(cppref)](https://en.cppreference.com/w/cpp/memory/enable_shared_from_this):\n"
   ]
  },
  {
   "cell_type": "code",
   "execution_count": 14,
   "metadata": {},
   "outputs": [],
   "source": [
    "struct Widget3 : std::enable_shared_from_this<Widget3> {\n",
    "  int m;\n",
    "  auto mfunc() { \n",
    "      return shared_from_this(); // is this ok now? \n",
    "  }\n",
    "};"
   ]
  },
  {
   "cell_type": "code",
   "execution_count": 15,
   "metadata": {},
   "outputs": [],
   "source": [
    "auto get_widget3() { return std::make_shared<Widget3>(); }"
   ]
  },
  {
   "cell_type": "code",
   "execution_count": 17,
   "metadata": {},
   "outputs": [],
   "source": [
    "auto sp = get_widget3();\n",
    "auto sp2 = sp->mfunc(); // is this ok now? "
   ]
  },
  {
   "cell_type": "markdown",
   "metadata": {},
   "source": [
    "This adds a member of type `std::weak_ptr<Widget3>` to the structure which is connected to the managing `shared_ptr` instance on construction of the `shared_ptr` ."
   ]
  },
  {
   "cell_type": "markdown",
   "metadata": {},
   "source": [
    "### std::weak_ptr \n",
    "\n",
    "A `std::weak_ptr`[(cppref)](https://en.cppreference.com/w/cpp/memory/weak_ptr) can be imagined to be a non-owning *potential* `shared_ptr` associated with a managing `shared_ptr`: it does not participate in the reference counting (actually it has its own reference counter for weak references). A `weak_ptr` does not influence the destruction of an object managed by a `shared_ptr` once the reference count goes to zero.\n",
    "Nevertheless: a `weak_ptr` can be converted to a `shared_ptr`:"
   ]
  },
  {
   "cell_type": "code",
   "execution_count": 19,
   "metadata": {},
   "outputs": [],
   "source": [
    "std::weak_ptr<Widget> wp;\n",
    "{\n",
    "  auto sp = std::make_shared<Widget>();\n",
    "  wp = sp;\n",
    "  auto sp2 = wp.lock();\n",
    "}\n",
    "if(!wp.expired()){\n",
    "   auto sp = wp.lock();\n",
    "   sp->m = 5;\n",
    "}"
   ]
  },
  {
   "cell_type": "markdown",
   "metadata": {},
   "source": [
    "This makes a `weak_ptr` suitable to be used in conjunction with `std::enable_shared_from_this`: \n",
    "it can provide a `shared_ptr` to the object via `shared_from_this()`."
   ]
  },
  {
   "cell_type": "markdown",
   "metadata": {},
   "source": [
    "### Thread safety"
   ]
  },
  {
   "cell_type": "markdown",
   "metadata": {},
   "source": [
    "**Is a `std::shared_ptr` \"thread-safe\"?**\n",
    "- \"thread-safe\" referes to increments and decrements (i.e. control block access)\n",
    "- you can safely use the SMFs from different threads without further synchronization\n",
    "- increments and decrements are typically synchronized using atomic operations\n",
    "- about access to the managed resource: the share_pointer is **NOT** concerned what the managed resource provides in terms of having a thread-safe interface or not."
   ]
  },
  {
   "cell_type": "markdown",
   "metadata": {},
   "source": [
    "## Summary `std::shared_ptr`\n",
    "\n",
    "- ...\n"
   ]
  },
  {
   "cell_type": "markdown",
   "metadata": {},
   "source": [
    "### Discussion (from WS21):  \n",
    "\n",
    "**How to express that a function argument** \n",
    "\n",
    "- points to (or references) a valid (i.e. non null) resource\n",
    "- which (the resource) is managed by a smart pointer on the caller's site\n",
    "- but the function will not pariticipate in ownership/lifecycle management\n",
    "\n",
    "```cpp\n",
    "void func(/*K ??? */ widget); // which type to choose?\n",
    "// usage (call site)\n",
    "shared_ptr<Widget> sp = ...;\n",
    "func(/*K ??? */);\n",
    "```\n",
    "**Idea 1**: construct a new smart pointer with an empty deleter? \n",
    "\n",
    "```cpp\n",
    "void func(shared_ptr<Widget> widget);\n",
    "// usage\n",
    "shared_ptr<Widget> sp = ...;\n",
    "auto deleter = [](Widget *){};\n",
    "func(shared_ptr<Widget,decltype(deleter)>(widget.get(),deleter))\n",
    "```\n",
    "**Idea 2**: use raw pointer? \n",
    "\n",
    "```cpp\n",
    "void func(Widget* widget);\n",
    "// usage\n",
    "shared_ptr<Widget> sp = ...;\n",
    "func(widget.get());\n",
    "```\n",
    "\n",
    "**Idea 3**: use a reference? \n",
    "\n",
    "```cpp\n",
    "void func(Widget& widget);\n",
    "// usage\n",
    "shared_ptr<Widget> sp = ...;\n",
    "func(*widget);\n",
    "```\n",
    "**Idea 4**: use std::weak_ptr?\n",
    "\n",
    "```cpp\n",
    "void func(weak_ptr<Widget> widget);\n",
    "// usage\n",
    "shared_ptr<Widget> sp = ...;\n",
    "func(sp);\n",
    "```"
   ]
  },
  {
   "cell_type": "markdown",
   "metadata": {},
   "source": [
    "```cpp\n",
    "#include <memory>\n",
    "\n",
    "template <class T> class shared_ptr {\n",
    "  struct ControlBlock {\n",
    "    int count = 1;\n",
    "    // some more members in stdlib\n",
    "  };\n",
    "  ControlBlock *cb; // (1) member A -> for refcounting\n",
    "  T *ptr;           // (2) member B -> same as for unqiue_ptr\n",
    "\n",
    "  void increment() {\n",
    "    if (cb)\n",
    "      ++cb->count;\n",
    "  }\n",
    "  void decrement() {\n",
    "    if (cb && --cb->count == 0) {\n",
    "      delete ptr; // wrapped resource\n",
    "      delete cb;  // overhead\n",
    "    }\n",
    "  }\n",
    "\n",
    "public:\n",
    "  // usage: auto sp = shared_ptr<Widget>(new Widget{});\n",
    "  shared_ptr(T *ptr) : cb(new ControlBlock()), ptr(ptr) {}\n",
    "  shared_ptr(const shared_ptr &other) : cb(other.cb), ptr(other.ptr) {\n",
    "    // (1) ???\n",
    "    // 1) setup sharing of refcount and resource\n",
    "    // 2) increment\n",
    "  }\n",
    "  shared_ptr(shared_ptr &&other) : cb(other.cb), ptr(other.ptr) {\n",
    "    // (2) ???\n",
    "    // 1) no inc/dec\n",
    "    // 2) but: setup sharing of refcount and resource + set 'other' to\n",
    "    // \"NULL\"\n",
    "  }\n",
    "  shared_ptr &operator=(const shared_ptr &other) {\n",
    "    // (3) ???\n",
    "    // 1) release managing the current resource (dec) + check if delete\n",
    "    // 2) take over members from 'other' + inc\n",
    "    return *this;\n",
    "  }\n",
    "  shared_ptr &operator=(shared_ptr &&other) {\n",
    "    // (4) ???\n",
    "    // 1) release managing the current resource (dec) + check if delete\n",
    "    // 2) take over members from 'other' + set other to \"NULL\"\n",
    "  }\n",
    "  ~shared_ptr() {\n",
    "    // (5) ???\n",
    "    // 1) check if we are already the last owner (unique owner): if yes\n",
    "    // free resource\n",
    "    // 2) if not: decrement\n",
    "  }\n",
    "  T *operator->() const { return ptr; }\n",
    "  T &operator*() const { return *ptr; }\n",
    "};\n",
    "\n",
    "template <typename T, typename... ARGS>\n",
    "shared_ptr<T> make_shared(ARGS &&... args) {\n",
    "  // do sth. here: -> use a single allocation for cb and ptr\n",
    "  return shared_ptr<T>(new T(std::forward<ARGS>(args)...));\n",
    "}\n",
    "\n",
    "\n",
    "```"
   ]
  },
  {
   "cell_type": "markdown",
   "metadata": {},
   "source": []
  }
 ],
 "metadata": {
  "kernelspec": {
   "display_name": "C++17",
   "language": "c++",
   "name": "xcpp17"
  },
  "language_info": {
   "codemirror_mode": "text/x-c++src",
   "file_extension": ".cpp",
   "mimetype": "text/x-c++src",
   "name": "c++",
   "version": "17"
  }
 },
 "nbformat": 4,
 "nbformat_minor": 2
}
