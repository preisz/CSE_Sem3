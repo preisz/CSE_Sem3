{
 "cells": [
  {
   "attachments": {},
   "cell_type": "markdown",
   "metadata": {},
   "source": [
    "### boilerplate for snippets"
   ]
  },
  {
   "cell_type": "code",
   "execution_count": 1,
   "metadata": {
    "vscode": {
     "languageId": "c++"
    }
   },
   "outputs": [],
   "source": [
    "// general includes\n",
    "#include <iostream>   // std::cout|endl \n",
    "#include <vector>   // std::vector\n",
    "using namespace std;"
   ]
  },
  {
   "cell_type": "code",
   "execution_count": 2,
   "metadata": {
    "vscode": {
     "languageId": "c++"
    }
   },
   "outputs": [],
   "source": [
    "namespace iue {\n",
    "struct Widget {\n",
    "    double d;\n",
    "};\n",
    "}"
   ]
  },
  {
   "cell_type": "code",
   "execution_count": 3,
   "metadata": {
    "vscode": {
     "languageId": "c++"
    }
   },
   "outputs": [],
   "source": [
    "using namespace iue;"
   ]
  },
  {
   "attachments": {},
   "cell_type": "markdown",
   "metadata": {},
   "source": [
    "## Quick Recap\n",
    "\n"
   ]
  },
  {
   "cell_type": "markdown",
   "metadata": {},
   "source": [
    "- Types and value categories\n",
    "    - value types\n",
    "        ```c++\n",
    "        void func(Widget value); // creates a copy\n",
    "        ```\n",
    "    - reference types\n",
    "        ```c++\n",
    "        void func(const Widget& ref); // binds to rvalue or lvalue\n",
    "        ```    \n",
    "    - (pointer types)\n",
    "        ```c++\n",
    "        void func(const Widget* ptr); // pointer is copied\n",
    "        ```        \n",
    "- Binding rules (for references): \n",
    "    - cannot bind if constness is lost\n",
    "    - cannot bind rvalue to non-const reference\n",
    "    - const reference can bind to rvalues, too"
   ]
  },
  {
   "cell_type": "markdown",
   "metadata": {},
   "source": [
    "## Goals for today"
   ]
  },
  {
   "attachments": {},
   "cell_type": "markdown",
   "metadata": {},
   "source": [
    "\n",
    "- Understanding/intuition for the function overloading mechanism in C++.\n",
    "- Understanding/intuition for classes holding dynamic memory (via a raw pointer) under the hood.\n",
    "- Understand why *move semantics* where added with C++11 and which problem is solved with it."
   ]
  },
  {
   "cell_type": "markdown",
   "metadata": {},
   "source": [
    "#  Overload resolution"
   ]
  },
  {
   "cell_type": "markdown",
   "metadata": {},
   "source": [
    "**Simple example of a function overload?**\n",
    "\n",
    "```c++\n",
    "void update(Other& w);\n",
    "void update(Widget& w);\n",
    "```"
   ]
  },
  {
   "cell_type": "markdown",
   "metadata": {},
   "source": [
    "**How is overloading done *behind the scenes*?**\n",
    "- example C: `func.c`\n",
    "- example C++: `func.cpp`\n"
   ]
  },
  {
   "cell_type": "markdown",
   "metadata": {},
   "source": [
    "According to detailed rules the compiler performs a lookup for the *name* of a function \n",
    "- in the scope of the call site (*name lookup*) [(cppref)](https://en.cppreference.com/w/cpp/language/lookup) followed by a lookup \n",
    "- in the scopes of the arguments (*argument dependent lookup*) [(cppref)](https://en.cppreference.com/w/cpp/language/adl).\n",
    "\n",
    "The rules are quite lengthy, and there is no urgent need to know all details. \n",
    "Finally, a set of *candidate functions* is present, which enter the step of *overload resolution* [(cppref)](https://en.cppreference.com/w/cpp/language/overload_resolution) with the aim to find the \"best fitting\" function to a function call expression."
   ]
  },
  {
   "cell_type": "markdown",
   "metadata": {},
   "source": [
    "# Holder classes"
   ]
  },
  {
   "cell_type": "markdown",
   "metadata": {},
   "source": [
    "We can use `std::vector` and `std::string` as two prominent example for classes with a dynamic size of elements.\n",
    "Both use a dynamically allocated memory, which means a raw pointer to this memory is hold. "
   ]
  },
  {
   "cell_type": "code",
   "execution_count": 4,
   "metadata": {
    "vscode": {
     "languageId": "c++"
    }
   },
   "outputs": [],
   "source": [
    "template <typename T>\n",
    "class std_vector_mock {\n",
    "    T* _data; \n",
    "    size_t _n;\n",
    "    // ...\n",
    "};\n",
    "template <typename CHAR_T>\n",
    "class std_string_mock {\n",
    "    CHAR_T* _data; \n",
    "    size_t _n;\n",
    "    // ...\n",
    "};"
   ]
  },
  {
   "cell_type": "markdown",
   "metadata": {},
   "source": [
    "**How is such a holder class copied?**\n",
    "\n",
    "**How and when is the dynamic memory allocated?**\n",
    "\n",
    "**How and when is the dynamic memory deallocated?**"
   ]
  },
  {
   "cell_type": "markdown",
   "metadata": {},
   "source": [
    "# Move semantics"
   ]
  },
  {
   "cell_type": "markdown",
   "metadata": {},
   "source": [
    "Consider the following example with a Holder class which holds two members, each relying on dynamic memory allocations to store the data:"
   ]
  },
  {
   "cell_type": "code",
   "execution_count": 5,
   "metadata": {
    "vscode": {
     "languageId": "c++"
    }
   },
   "outputs": [],
   "source": [
    "struct Holder {\n",
    "    std::vector<Widget> data;  // holds dynamic memory\n",
    "    std::string name;          // holds dynamic memory \n",
    "};"
   ]
  },
  {
   "cell_type": "markdown",
   "metadata": {},
   "source": [
    "**How to write a function which constructs a Holder from a vector and a string, efficiently?**\n"
   ]
  },
  {
   "cell_type": "markdown",
   "metadata": {},
   "source": [
    "C++11 introduced a new kind of reference termed **rvalue reference** which takes part in overload resolution and enables *move semantics* via the following rules.\n",
    "\n",
    "**Rule**: Rvalue references can bind to rvalues only.\n",
    "\n",
    "**Another rule**: When binding to an rvalue reference (as function parameter) one **does** expect that the bound object will have \"it's contents stolen\", i.e. the internally allocated dynamic memory will be used elsewhere (in this example for the construction of the members of the returned `Holder`), and the state of the objects will be \n",
    "- \"valid but empty\" or \n",
    "- \"valid and filled with something else\"\n",
    "after the function call."
   ]
  },
  {
   "cell_type": "code",
   "execution_count": 6,
   "metadata": {
    "vscode": {
     "languageId": "c++"
    }
   },
   "outputs": [],
   "source": [
    "Holder init(std::vector<Widget> &&data, std::string  &&name){\n",
    "    return Holder{std::move(data),std::move(name)};\n",
    "}"
   ]
  },
  {
   "cell_type": "markdown",
   "metadata": {},
   "source": [
    "As move semantics are an extension to an existing language specification, this new language feature does rely on a utility function from the standard library: `std::move`.\n"
   ]
  },
  {
   "cell_type": "markdown",
   "metadata": {},
   "source": [
    "## std::move \n",
    "\n",
    "When calling a function with an rvalue-reference parameter, there are two options for binding:\n",
    "\n"
   ]
  },
  {
   "cell_type": "markdown",
   "metadata": {},
   "source": [
    "**Option1**: Pass rvalues (temporaries) directly\n"
   ]
  },
  {
   "cell_type": "code",
   "execution_count": 7,
   "metadata": {
    "vscode": {
     "languageId": "c++"
    }
   },
   "outputs": [],
   "source": [
    "Holder hold1 = init(std::vector<Widget>{{1.0},{1.0}}, \"literal\");  // pass temporaries"
   ]
  },
  {
   "cell_type": "markdown",
   "metadata": {},
   "source": [
    "**Option2**: Explicitly cast an lvalue to an rvalue using `std::move` [(cppref)](https://en.cppreference.com/w/cpp/utility/move)"
   ]
  },
  {
   "cell_type": "code",
   "execution_count": 8,
   "metadata": {
    "vscode": {
     "languageId": "c++"
    }
   },
   "outputs": [],
   "source": [
    "auto vec = std::vector<Widget>(2,Widget{1});    // (1) lvalue variable\n",
    "std::string str = \"literal\";                    // (2) lvalue variable\n",
    "\n",
    "// Holder hold2 = init(vec,str);  // pass lvalues        \n",
    "Holder hold3 = init(std::move(vec), std::move(str)); // pass explicitly move lvalues \n",
    "\n",
    "// state of 'vec' and 'str' here?"
   ]
  },
  {
   "cell_type": "markdown",
   "metadata": {},
   "source": [
    "**What are the guarantees for the caller for the state of `vec` and `str` after moving?**"
   ]
  },
  {
   "cell_type": "markdown",
   "metadata": {},
   "source": [
    "### Overload resolution rules for rvalue parameters\n",
    "Overload resolution rules also considers the rvalue-ness of arguments when determining which function fits best. Consider the following two functions:"
   ]
  },
  {
   "cell_type": "code",
   "execution_count": 13,
   "metadata": {
    "vscode": {
     "languageId": "c++"
    }
   },
   "outputs": [],
   "source": [
    "Holder init(const std::vector<Widget> &data, const std::string &name){\n",
    "    return Holder{data,name};\n",
    "}"
   ]
  },
  {
   "cell_type": "code",
   "execution_count": 10,
   "metadata": {
    "vscode": {
     "languageId": "c++"
    }
   },
   "outputs": [],
   "source": [
    "Holder init(std::vector<Widget> &&data, std::string &&name){\n",
    "    return Holder{std::move(data),std::move(name)};\n",
    "}           "
   ]
  },
  {
   "cell_type": "markdown",
   "metadata": {},
   "source": [
    "Both functions can bind to rvalues, but in this case the \"real-rvalues\" win is called when rvalue arguments are passed."
   ]
  },
  {
   "cell_type": "markdown",
   "metadata": {},
   "source": [
    "### Detail: New value categories\n",
    "\n",
    "C++11 introducesa new taxonomy for value categories [(cppref)](https://en.cppreference.com/w/cpp/language/value_category):\n",
    "\n",
    "- *locatable* values: glvalues = lvalues AND **xvalues** \n",
    "- *movable* values: rvalues = **xvalues** AND **prvalues**\n",
    "\n",
    "![(images/value_categories.svg)](images/value_categories.svg)\n"
   ]
  },
  {
   "cell_type": "code",
   "execution_count": 11,
   "metadata": {
    "vscode": {
     "languageId": "c++"
    }
   },
   "outputs": [],
   "source": [
    "// xvalues: location: yes, movable: yes\n",
    "Holder hold4 = init(std::move(vec), std::move(str));\n",
    "//                  ^^^^^^^^^^^^^^  ^^^^^^^^^^^^^^\n",
    "//                  xvalue expr.    xvalue expr.\n",
    "\n",
    "// prvalues: location: no, movable: yes     \n",
    "Holder hold5 = init(std::vector<Widget>{{1.0}}, std::string{\"literal\"}); \n",
    "//                  ^^^^^^^^^^^^^^^^^^^^^^^^^^  ^^^^^^^^^^^^^^^^^^^^^^\n",
    "//                    prvalue expr.               prvalue expr."
   ]
  },
  {
   "cell_type": "markdown",
   "metadata": {},
   "source": [
    "# Summary\n",
    "\n",
    "- overload resolution considers all arguments **and** also distinguishes between rvalue and lvalue categories\n",
    "- move semantics allow for a very desirable option: efficient composition (\"factory\") patterns\n",
    "\n",
    "```c++\n",
    "void init(Widget value); // creates a copy\n",
    "void init(const Widget& ref); // binds to rvalue (non-moving) or lvalue\n",
    "void init(Widget&& ref); // binds to rvalue only (moving)\n",
    "```"
   ]
  }
 ],
 "metadata": {
  "kernelspec": {
   "display_name": "C++17",
   "language": "C++17",
   "name": "xcpp17"
  },
  "language_info": {
   "codemirror_mode": "text/x-c++src",
   "file_extension": ".cpp",
   "mimetype": "text/x-c++src",
   "name": "C++17",
   "version": "17"
  }
 },
 "nbformat": 4,
 "nbformat_minor": 2
}
