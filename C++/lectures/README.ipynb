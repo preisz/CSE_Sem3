{
 "cells": [
  {
   "cell_type": "code",
   "execution_count": 25,
   "metadata": {},
   "outputs": [],
   "source": [
    "// general includes\n",
    "#include <iostream>   // std::cout|endl \n",
    "#include <vector>   // std::vector\n",
    "#include <list>   // std::list\n",
    "#include <utility>   // std::pair\n",
    "// using namespace std;"
   ]
  },
  {
   "attachments": {},
   "cell_type": "markdown",
   "metadata": {},
   "source": [
    "## Quick overall recap: \n",
    "L1/L2\n",
    "\n",
    "- *Variables* are defined with a *name* and a **type** (value type, lref/rref type, pointer type).\n",
    "- All *expressions* have a **type** and a **value category** (lvalue, rvalue).\n",
    "- References are initialized by **binding** it to an expression.\n",
    "\n",
    "L3\n",
    "\n",
    "- *Function names* are **overloaded** (using the sequence parameter types).\n",
    "- *Function calls* need to be able to uniquely resolved to a specific overload.\n",
    "- *Move semantics* rely on the overloads for lref/rref types.\n",
    "- The memory footprint of a *class* is defined by its non-static **data members**.\n",
    "\n",
    "L4\n",
    "\n",
    "- Functions directly associated with an instance of a class instance (`this`) are called non-static **member functions**.\n",
    "- The semantics of a class are defined by its **special member functions** (copy/move-ctor, copy/move-assign, dtor).\n",
    "- Rule of 0/3/5\n",
    "\n",
    "L5 \n",
    "\n",
    "- *Function templates* enable **generic functions** (also member functions)\n",
    "- **template parameters** can be deduced from the expressions passed to a function call.\n",
    "- **forwarding-references** + **parameter packs** enable generic forwarding/wrapping by capture the value category of each parameter.\n",
    "\n",
    "L6 \n",
    "\n",
    "- *Class templates* enable **generic classes** (i.e. generic data members and member functions)\n",
    "- **template parameters** can be deduced from the expressions passed to a constructor calls.\n",
    "\n"
   ]
  },
  {
   "attachments": {},
   "cell_type": "markdown",
   "metadata": {},
   "source": [
    "## Goals for today\n",
    "- ..."
   ]
  },
  {
   "attachments": {},
   "cell_type": "markdown",
   "metadata": {},
   "source": [
    "# Iterators\n",
    "\n",
    "Using iterators (not only iterators from the standard library, but any iterator-like concept) to operate on data stored in a data structure (i.e. a container) abstracts from details of the implementation:\n",
    "\n",
    "If all usage scenarios are covered by appropriate iterators, acquiring detailed knowledge of the underlying data structure/container implementation is not required."
   ]
  },
  {
   "cell_type": "markdown",
   "metadata": {},
   "source": [
    "**Is the iterator approach a good idea?**\n",
    "- using iterators is \"more safe\" than indexing\n",
    "- if I have \"no clue\" about the 'length' of a data structure, how can I use indices? Iterator can help with `begin()` and `end()`, knowing an explicit length upfront might not be required for many algorithms\n",
    "- iterators are \"required\" if you want to use stdlib algorithms"
   ]
  },
  {
   "cell_type": "markdown",
   "metadata": {},
   "source": [
    "**Assume you have no knowledge of the implementation of `std::vector` beside that it uses a contiguous memory block which is accessible through `vec.data()` in form of a raw pointer and that it has a `vec.size()` member. How to iterate over all values in the vector and modify the values?**\n",
    "- w/o iterator:  \n",
    "  ```cpp\n",
    "  for (decltype(vec.size()) i = 0; i<vec.size(); ++i) \n",
    "    *(vec.data()+i) = ...;\n",
    "  ```\n",
    "- using iterators (and range-based for): \n",
    "  ```cpp\n",
    "  for (auto& value: vec)\n",
    "     value = ...;\n",
    "  ```"
   ]
  },
  {
   "cell_type": "markdown",
   "metadata": {},
   "source": [
    "**Assume you have no knowledge of implementation details of `std::list`, but you work with an interface returning an `std::list` object which contains the collection of values you want to work with: how to iterate over all values?**\n",
    "- w/o iterators: not possible, `std::list` does not expose functionality to interfere with implementation details (e.g. accessing a \"node\" or moving from node to node using something like `node->next`)\n",
    "- using iterators: \n",
    "  ```cpp\n",
    "  for (auto& value: list)\n",
    "     value = ...;\n",
    "  ```\n",
    "- the pattern becomes clear: iterators decouple the underlying data structure details from its use"
   ]
  },
  {
   "cell_type": "markdown",
   "metadata": {},
   "source": [
    "**Examples for interfaces with iterators (not stdlib)?**\n",
    "- efficient access of dense data [vtk](https://vtk.org/doc/nightly/html/classvtkCellIterator.html#details)\n",
    "- efficient access of sparse data, e.g. [OpenVDB](https://www.openvdb.org/documentation/doxygen/codeExamples.html#sIteration)\n",
    "- big advantage: \"guaranteed performance\" -> implementer knows how to best iterate over the collection"
   ]
  },
  {
   "cell_type": "markdown",
   "metadata": {},
   "source": [
    "Let's look at a simple example:"
   ]
  },
  {
   "cell_type": "code",
   "execution_count": 26,
   "metadata": {},
   "outputs": [],
   "source": [
    "struct Widget {\n",
    "  std::vector<double> data;\n",
    "  std::vector<bool> active;\n",
    "  Widget(std::size_t size) : data(size, 0.0), active(size, false) {}\n",
    "  void set_value(std::size_t idx, double value) { data[idx] = value; }\n",
    "  void set_status(std::size_t idx, bool status) { active[idx] = status; }\n",
    "};"
   ]
  },
  {
   "cell_type": "markdown",
   "metadata": {},
   "source": [
    "This `Widget` can be considered a data structure which holds values together with a flag indicating \"activity\" via a Boolean status for each value.\n",
    "Let's assume the only usage scenario is to sweep over all active values. This could look like this:"
   ]
  },
  {
   "cell_type": "code",
   "execution_count": 27,
   "metadata": {},
   "outputs": [],
   "source": [
    "Widget w(10);\n",
    "w.set_value(5, 60.0);\n",
    "w.set_status(5, true);\n",
    "\n",
    "// iterate over 'active' values in Widget\n",
    "for (std::size_t i = 0; i < w.data.size(); ++i) {\n",
    "    if (w.active[i]) {\n",
    "    // read/write using w.data[i]\n",
    "    }\n",
    "}"
   ]
  },
  {
   "cell_type": "markdown",
   "metadata": {},
   "source": [
    "Although a simple example, it reveals that the user is required to digest the details of the implementation of `Widget`. Let's assume a slight modification resulting in `Widget2`:"
   ]
  },
  {
   "cell_type": "code",
   "execution_count": 28,
   "metadata": {},
   "outputs": [],
   "source": [
    "struct Widget2 {\n",
    "  std::vector<std::pair<bool, double>> data;\n",
    "  Widget2(std::size_t size) : data(size, {0.0, false}) {}\n",
    "  void set_value(std::size_t idx, double value) { data[idx].second = value; }\n",
    "  void set_status(std::size_t idx, bool status) { data[idx].first = status; }\n",
    "};"
   ]
  },
  {
   "cell_type": "markdown",
   "metadata": {},
   "source": [
    "This change in the implementation details requires again to digest the details of the implementation to conduct the same task:"
   ]
  },
  {
   "cell_type": "code",
   "execution_count": 29,
   "metadata": {},
   "outputs": [],
   "source": [
    "Widget2 w(10);\n",
    "w.set_value(5, 60.0);\n",
    "w.set_status(5, true);\n",
    "// iterate over 'active' values in Widget2\n",
    "for (std::size_t i = 0; i < w.data.size(); ++i) {\n",
    "    if (w.data[i].first) {\n",
    "    // read/write using w.data[i].second\n",
    "    }\n",
    "}"
   ]
  },
  {
   "cell_type": "markdown",
   "metadata": {},
   "source": [
    "If an iterator for this use case \"visit all active values\" would be available, this could look like this (independent of the implementation details of `Widget`):\n",
    "\n",
    "```cpp\n",
    "// iterate over 'active' values in Widget\n",
    "for (auto iter = w.begin_active(); iter != w.end_active(); ++iter) {\n",
    "    double &value = *iter; // access via dereferencing\n",
    "}  \n",
    "```"
   ]
  },
  {
   "cell_type": "markdown",
   "metadata": {},
   "source": [
    "**Describe apparent properties of the iterator object above and how this object is obtained!**\n",
    "- iterator object must support `operator++` and `operator!=`\n",
    "- iterator object provides access to value using `operator*`\n",
    "- `begin_active()`  and `end_active()` return iterator objects apparently pointing to first value and \"end\"\n",
    "- if `iter == w.end_active()` the for-loop ends and the loop body is not execute: this means \"end\" does not represent the \"last\" value, but something like \"one after\" or \"iteration completed\""
   ]
  },
  {
   "cell_type": "markdown",
   "metadata": {},
   "source": [
    "## Implementation example: iterator for **Widget**\n",
    "\n",
    "Without thinking too much about iterators defined in the stdlib, let's try to implement a `IteratorActive` for the `Widget` compatible to the snippet above.\n",
    "The requirements for the `IteratorActive` are:\n",
    "- start/begin iterator obtainable by-value from `Widget::begin_active()`\n",
    "- one-past-the-end iterator obtainable by-value from `Widget::end_active()`\n",
    "- `operator!=` and `operator++` available\n",
    "- `operator*` results in a reference to the value allowing read/write access\n",
    "\n",
    "Mapping these requirements to declarations looks like this (when nesting the iterator class inside `Widget`): "
   ]
  },
  {
   "cell_type": "code",
   "execution_count": 30,
   "metadata": {},
   "outputs": [],
   "source": [
    "struct Widget3 {\n",
    "  std::vector<double> data;\n",
    "  std::vector<bool> active;\n",
    "  ///...\n",
    "  struct IteratorActive {\n",
    "    double &operator*();\n",
    "    IteratorActive &operator++();\n",
    "    bool operator!=(const IteratorActive &other);\n",
    "  };\n",
    "  IteratorActive begin_active();\n",
    "  IteratorActive end_active();\n",
    "};"
   ]
  },
  {
   "cell_type": "markdown",
   "metadata": {},
   "source": [
    "Finally, an implementation of a lightweight iterator over active values might look like this:"
   ]
  },
  {
   "cell_type": "code",
   "execution_count": 31,
   "metadata": {},
   "outputs": [],
   "source": [
    "struct Widget4 {\n",
    "  std::vector<double> data;\n",
    "  std::vector<bool> active;    \n",
    "  //...\n",
    "  struct IteratorActive {\n",
    "    Widget4 &ref;             // reference to associated object\n",
    "    std::size_t pos;          // current state\n",
    "    double &operator*() { return ref.data[pos]; } // wrapping access \n",
    "    IteratorActive& operator++() { // increment to next active value\n",
    "      while (++pos != ref.data.size()) {\n",
    "        if (ref.active[pos])\n",
    "          break;\n",
    "      }\n",
    "      return *this;\n",
    "    }\n",
    "    bool operator!=(const IteratorActive &other) { // wrapping compare\n",
    "      return this->pos != other.pos;\n",
    "    }\n",
    "  };\n",
    "  IteratorActive begin_active() {\n",
    "    IteratorActive iter = {*this, 0};\n",
    "    return iter.ref.active[iter.pos] ? iter : ++iter; // increment if first value is not active\n",
    "  }\n",
    "  IteratorActive end_active() {\n",
    "    return IteratorActive{*this, data.size()}; // return iterator in state \"end\"\n",
    "  }\n",
    "};"
   ]
  },
  {
   "cell_type": "code",
   "execution_count": 32,
   "metadata": {},
   "outputs": [
    {
     "name": "stdout",
     "output_type": "stream",
     "text": [
      "active value: 2.000000\n",
      "active value: 4.000000\n"
     ]
    }
   ],
   "source": [
    "Widget4 w4 = {std::vector<double> {1,2,3,4}, std::vector<bool> {false, true, false, true}};\n",
    "for (auto iter = w4.begin_active(); iter != w4.end_active(); ++iter) {\n",
    "    double &value = *iter; // access via dereferencing\n",
    "    std::printf(\"active value: %lf\\n\", value);\n",
    "}  "
   ]
  },
  {
   "cell_type": "markdown",
   "metadata": {},
   "source": [
    "## Iterator invalidation \n",
    "\n",
    "Let's append an entry (status and value) to a `Widget` from above and observe the effects on iterators constructed before this appending operation:"
   ]
  },
  {
   "cell_type": "code",
   "execution_count": 33,
   "metadata": {},
   "outputs": [
    {
     "name": "stdout",
     "output_type": "stream",
     "text": [
      "value: 2.000000\n",
      "value: 4.000000\n",
      "2 value: 2.000000\n",
      "2 value: 4.000000\n",
      "2 value: 5.000000\n"
     ]
    }
   ],
   "source": [
    "Widget4 w4 = {std::vector<double> {1,2,3,4}, std::vector<bool> {false, true, false, true}};\n",
    "\n",
    "auto start = w4.begin_active();\n",
    "auto end = w4.end_active();\n",
    "w4.data.push_back(5);\n",
    "w4.active.push_back(true);\n",
    "\n",
    "for (auto iter = start; iter != end; ++iter) {\n",
    "    double &value = *iter; // access via dereferencing\n",
    "    std::printf(\"value: %lf\\n\", value);\n",
    "}  \n",
    "\n",
    "for (auto iter = w4.begin_active(); iter != w4.end_active(); ++iter) {\n",
    "    double &value = *iter; // access via dereferencing\n",
    "    std::printf(\"2 value: %lf\\n\", value);\n",
    "}  \n"
   ]
  },
  {
   "cell_type": "markdown",
   "metadata": {},
   "source": [
    "It is apparent that `push_back` changes the size of the dynamic memory owned by `data` and `active`."
   ]
  },
  {
   "cell_type": "markdown",
   "metadata": {},
   "source": [
    "**Do such \"push backs\" have consequences for `IteratorActive` instances associated with a `Widget` object?**\n",
    "- yes, existing iterators associated with an object which is \"pushed back\" are not updated w.r.t. the changed range of values (i.e. note that `data.size()` is used when construction an `IteratorActive`).\n",
    "- in general: it depends on implementation details (of the iterator and data structure) which operations on a data structure lead to invalidation of existing iterators."
   ]
  },
  {
   "cell_type": "markdown",
   "metadata": {},
   "source": [
    "## Range-based for loop\n",
    "\n",
    "Above we have implemented an iterator for the special use case \"visit all active values in a `Widget`\".\n",
    "Let's resort to a simpler class `WidgetArray` which only holds a single field to explore requirements for a class object to be compatible with a *range-based* `for`-loop [(cppref)](https://en.cppreference.com/w/cpp/language/range-for):\n"
   ]
  },
  {
   "cell_type": "code",
   "execution_count": 34,
   "metadata": {},
   "outputs": [],
   "source": [
    "template <typename T, int N> \n",
    "struct WidgetArray {\n",
    "  T data[N];\n",
    "};"
   ]
  },
  {
   "cell_type": "code",
   "execution_count": 35,
   "metadata": {},
   "outputs": [
    {
     "name": "stderr",
     "output_type": "stream",
     "text": [
      "input_line_51:4:17: error: invalid range expression of type '__cling_N530::WidgetArray<double, 10>'; no viable 'begin' function available\n",
      "for (auto &item : array){\n",
      "                ^ ~~~~~\n"
     ]
    },
    {
     "ename": "Interpreter Error",
     "evalue": "",
     "output_type": "error",
     "traceback": [
      "Interpreter Error: "
     ]
    }
   ],
   "source": [
    "// usage in range-based for loop\n",
    "WidgetArray<double,10> array;\n",
    "for (auto &item : array){\n",
    "  // statements using named variable item;\n",
    "  item = 7; // no dereferencing required\n",
    "}"
   ]
  },
  {
   "cell_type": "markdown",
   "metadata": {},
   "source": [
    "A range-based `for`-loop has the following pattern:\n",
    "\n",
    "```cpp\n",
    "for (declaration : object_with_begin_end) {\n",
    "    // statements using name variable from declaration\n",
    "}\n",
    "```"
   ]
  },
  {
   "cell_type": "markdown",
   "metadata": {},
   "source": [
    "is transformed by the compiler to\n",
    "```cpp\n",
    "{\n",
    "  auto &&range = object_with_begin_end;\n",
    "  auto begin = range.begin(); // fallback is 'begin(object_wo_begin_end)' \n",
    "  auto end = range.end();     // fallback is 'end(object_wo_begin_end)' \n",
    "  for ( ; begin != end; ++begin) {\n",
    "    declaration = *begin;\n",
    "    // statements using name variable from declaration\n",
    "  }\n",
    "}\n",
    "```"
   ]
  },
  {
   "cell_type": "markdown",
   "metadata": {},
   "source": [
    "This reveals the requirements:\n",
    "- the object is required to have member functions `begin` and `end` (fallback are free functions `begin` and `end`)\n",
    "- the return type of `begin` and `end` has to support `operator++` and `operator!=` \n",
    "- additionally, `operator*` is compatible with the declaration of the named variable "
   ]
  },
  {
   "cell_type": "markdown",
   "metadata": {},
   "source": [
    "If we would like to support *range-based* `for`-loop to access `WidgetArray` one option is to extend the class by appropriate `begin` and `end` member functions:"
   ]
  },
  {
   "cell_type": "code",
   "execution_count": null,
   "metadata": {},
   "outputs": [],
   "source": [
    "\n",
    "template <typename T, int N> \n",
    "struct WidgetArray {\n",
    "  T data[N]; // raw array -> pointers support all we need already (pointer arithmetic)\n",
    "  T* begin() { return data; } // iterator is T* -> pointer support ++ != deref.\n",
    "  T* end() { return data + N; } // as 'end' simply 'the address one past the end' is used\n",
    "};\n"
   ]
  },
  {
   "cell_type": "markdown",
   "metadata": {},
   "source": [
    "Alternatively, free functions can be used, too:"
   ]
  },
  {
   "cell_type": "code",
   "execution_count": null,
   "metadata": {},
   "outputs": [],
   "source": [
    "template <typename T, int N> \n",
    "T* begin(WidgetArray<T, N> &array) {\n",
    "  return array.data;\n",
    "}\n",
    "template <typename T, int N> \n",
    "T* end(WidgetArray<T, N> &array) {\n",
    "  return array.data + N;\n",
    "}"
   ]
  },
  {
   "cell_type": "markdown",
   "metadata": {},
   "source": [
    "Either way, `WidgetArray` can now be used in a range based for loop;"
   ]
  },
  {
   "cell_type": "code",
   "execution_count": null,
   "metadata": {},
   "outputs": [],
   "source": [
    "WidgetArray<double,4> wa = {{1,2,3,4}};\n",
    "\n",
    "for (const auto& item: wa)\n",
    "  std::printf(\"%lf\\n\",item);"
   ]
  },
  {
   "cell_type": "markdown",
   "metadata": {},
   "source": [
    "This is already sufficient for `WidgetArray` as a pointer is used directly as iterator [(cppref:end)](https://en.cppreference.com/w/cpp/iterator/end): raw pointers fulfill the requirements for `operator!=`, `operator++` (pointer arithmetic), and `operator*` (dereferencing)."
   ]
  },
  {
   "cell_type": "markdown",
   "metadata": {},
   "source": [
    "**Note**: Observing the above, iterators can be thought of as a \"generalization of pointer arithmetic\" for situations where the underlying implementation does not map to a plain array or other logic (\"visit only active values\") is desired."
   ]
  },
  {
   "cell_type": "markdown",
   "metadata": {},
   "source": [
    "**How would we have to adopt `Widget` and `IteratorActive` above to also work with a range-based for-loop?**\n",
    "- only the member function names to obtain the begin and end iterators need to be adapted \n",
    "  - `begin_active` -> `begin` \n",
    "  - `end_active` -> `end`"
   ]
  },
  {
   "cell_type": "markdown",
   "metadata": {},
   "source": [
    "## Iterators in the standard library, containers, and algorithms \n",
    "\n",
    "The standard library uses iterators extensively: all containers support iterators.\n",
    "Depending of the typically expected underlying implementation for each container in the standard library, a specific category of iterator is supported [(cppref)](https://en.cppreference.com/w/cpp/iterator):"
   ]
  },
  {
   "cell_type": "markdown",
   "metadata": {},
   "source": [
    "- random-access-iterator [(cppref)](https://en.cppreference.com/w/cpp/named_req/RandomAccessIterator) (`std::array`, `std::vector`, `std::deque`)\n",
    "  ```cpp\n",
    "  auto iter = iter + std::rand() % vec.size(); // random access \n",
    "  *iter = 5; // writing \n",
    "  value = *iter; // reading \n",
    "  ++iter; // inc\n",
    "  --iter; // dec\n",
    "  iter == iter2; iter != iter2; // compare\n",
    "  iter = iter2 // assignment/copy does result in two \"usable\" iterators\n",
    "  ```\n",
    "\n",
    "- bidirectional iterator [(cppref)](https://en.cppreference.com/w/cpp/named_req/BidirectionalIterator) (`std::list`, `std::set` (const iter), `std::map` (const iter))\n",
    "  ```cpp\n",
    "  *iter = 5; // writing \n",
    "  value = *iter; // reading \n",
    "  ++iter; // inc\n",
    "  --iter; // dec\n",
    "  iter == iter2; iter != iter2; // compare \n",
    "  iter = iter2 // assignment/copy does result in two \"usable\" iterators     \n",
    "  ``` \n",
    "- forward iterator [(cppref)](https://en.cppreference.com/w/cpp/named_req/ForwardIterator) (`std::forward_list`, `std::unordered_set` (const iter), `std::unordered_map` (const iter))\n",
    "  ```cpp\n",
    "  *iter = 5; // writing \n",
    "  value = *iter; // reading \n",
    "  ++iter; // inc\n",
    "  iter == iter2; iter != iter2; // compare \n",
    "  iter = iter2 // assignment/copy does result in two \"usable\" iterators     \n",
    "  ``` \n",
    "\n",
    "- input iterators [(cppref)](https://en.cppreference.com/w/cpp/named_req/InputIterator)\n",
    "  ```cpp\n",
    "  ++iter; // inc\n",
    "  value = *iter; // reading \n",
    "  iter == iter2; iter != iter2; // compare  \n",
    "  iter = iter2 \n",
    "  // assignment/copy does is allowed but:\n",
    "  // but only one of the two can be used further (the other then becomes invalid)\n",
    "  ```\n",
    "\n",
    "- output iterators [(cppref)](https://en.cppreference.com/w/cpp/named_req/OutputIterator)\n",
    "  ```cpp\n",
    "  ++iter; // inc\n",
    "  *iter = value; // writing\n",
    "  // assignment/copy does is allowed but:\n",
    "  // but only one of the two can be used further (the other then becomes invalid)    \n",
    "  ```    "
   ]
  },
  {
   "cell_type": "markdown",
   "metadata": {},
   "source": [
    "**Does it make sense for a container to implement multiple categories of this hierarchy?**\n",
    "- no, the hierarchy is inclusive, e.g.:\n",
    "  - a random access iterator *is* also any of the other categories,\n",
    "  - a forward iterator *is* a output iterator.\n",
    "  - a forward iterator *is* a input iterator \n",
    "  - ...\n",
    "- only between input and out iterators this inclusion is \"broken\": \n",
    "  - a input iterator *is not* a output operator \n",
    "  - a output iterator *is not* a input operator "
   ]
  },
  {
   "cell_type": "markdown",
   "metadata": {},
   "source": [
    "### Const iterators\n",
    "\n",
    "Const iterators (iterators over const values) are available for all containers in the stdlib using `cbegin` and `cend`"
   ]
  },
  {
   "cell_type": "code",
   "execution_count": null,
   "metadata": {},
   "outputs": [],
   "source": [
    "std::vector<int> vec(100,1);\n",
    "const auto iter1 = vec.begin(); // const iterator object\n",
    "// ++iter1;    // error\n",
    "*iter1 = 7; // ok\n",
    "auto iter2 = vec.cbegin();      //  iterator over const values\n",
    "++iter2;    // ok\n",
    "// *iter2 = 7; // error"
   ]
  },
  {
   "cell_type": "markdown",
   "metadata": {},
   "source": [
    "### Algorithms\n",
    "\n",
    "The algorithms in the standard library base their interfaces on iterators.\n",
    "Always the lowest category in the hierarchy of iterator categories which is sufficient for the algorithms is selected for the interface.\n",
    "This means not all containers support all algorithms.\n",
    "Let's see a list of examples:\n",
    "\n",
    "- `std::random_shuffle`, `std::sort` -> random access iterators; [(cppref:random_shuffle)](https://en.cppreference.com/w/cpp/algorithm/random_shuffle)\n",
    "- `std::reverse_copy`, `std::next_permutation` -> bidirectional iterators [(cppref:reverse_copy)](https://en.cppreference.com/w/cpp/algorithm/reverse_copy)\n",
    "- `std::fill`, `std::replace`,  `std::search` `std::find`  -> forward iterators [(cppref:find)](https://en.cppreference.com/w/cpp/algorithm/find)\n",
    "- `std::transform` -> input and output iterators [(cppref:transform)](https://en.cppreference.com/w/cpp/algorithm/transform)\n",
    "- `std::for_each` -> input iterators [(cppref:for_each)](https://en.cppreference.com/w/cpp/algorithm/for_each)\n",
    "- `std::fill_n` -> output iterator [(cppref:fill_n)](https://en.cppreference.com/w/cpp/algorithm/fill_n)\n",
    "\n",
    "The documentations linked above also contain a \"possible implementation\" which can be used to reason about the iterator category which is required for an algorithm, e.g. for `std::fill_n`:\n",
    "\n",
    "```cpp\n",
    "/* from https://en.cppreference.com/w/cpp/algorithm/fill_n */\n",
    "template<class OutputIt, class Size, class T>\n",
    "OutputIt fill_n(OutputIt first, Size count, const T& value)\n",
    "{\n",
    "    for (Size i = 0; i < count; i++) {\n",
    "        *first++ = value; \n",
    "    }\n",
    "    return first; \n",
    "}\n",
    "```\n"
   ]
  },
  {
   "cell_type": "markdown",
   "metadata": {},
   "source": [
    "Can I implement standard library compatible iterators for my class/container?\n",
    "- yes, definitely.\n",
    "- to integrate with the standard library (e.g. algorithms) it is required to define an iterator category (and some more nested types following this scheme:\n",
    "  ```cpp\n",
    "  struct CompatibleForwardIterator {\n",
    "    using iterator_category = std::forward_iterator_tag;\n",
    "    using value_type = int;\n",
    "    using difference_type = int;\n",
    "    using pointer = int*;\n",
    "    using reference = int&;\n",
    "    ...\n",
    "  }\n",
    "  ```\n",
    "- for compatibility, the implementation is required to implement all requirements for the selected *iterator category*, e.g. for a [forward iterator](https://en.cppreference.com/w/cpp/named_req/ForwardIterator)."
   ]
  },
  {
   "cell_type": "markdown",
   "metadata": {},
   "source": [
    "# Summary\n",
    "- ...\n",
    "- ..."
   ]
  }
 ],
 "metadata": {
  "kernelspec": {
   "display_name": "C++17",
   "language": "c++",
   "name": "xcpp17"
  },
  "language_info": {
   "codemirror_mode": "text/x-c++src",
   "file_extension": ".cpp",
   "mimetype": "text/x-c++src",
   "name": "c++",
   "version": "17"
  },
  "orig_nbformat": 4
 },
 "nbformat": 4,
 "nbformat_minor": 2
}
