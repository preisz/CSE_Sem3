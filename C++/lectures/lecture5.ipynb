{
 "cells": [
  {
   "cell_type": "code",
   "execution_count": null,
   "metadata": {
    "vscode": {
     "languageId": "c++"
    }
   },
   "outputs": [
    {
     "name": "stdout",
     "output_type": "stream",
     "text": [
      "Hallo"
     ]
    }
   ],
   "source": [
    "// general includes\n",
    "#include <iostream>   // std::cout|endl \n",
    "#include <vector>   // std::vector\n",
    "// using namespace std;\n",
    "struct NoWidget {};\n",
    "struct WidgetM {\n",
    "    int m;\n",
    "};"
   ]
  },
  {
   "attachments": {},
   "cell_type": "markdown",
   "metadata": {},
   "source": [
    "## Quick Recap: special member functions (SMFs)\n",
    "\n",
    "- when are they available implicitly?\n",
    "- how many are there?\n",
    "- should the user always implement all of them by hand for user-defined classes?\n",
    "\n",
    "  ```cpp\n",
    "  struct Widget {\n",
    "    double *ptr; // dynamic resource owned by Widget\n",
    "    // SMFs?\n",
    "  };\n",
    "  ```\n",
    "- \"rule of 3\": resource owning classes should implement 3 SMFs: copy constructor/copy assignment/destructor\n",
    "- \"rule of 5\": extend for move semantics (always optional): move constructor/move assignment\n",
    "- Any owning class: do rule 3 / 5\n",
    "- \"rule of 0\": if the class does not own resources \"directly\" --> rely on implicit SMFs\n"
   ]
  },
  {
   "attachments": {},
   "cell_type": "markdown",
   "metadata": {},
   "source": [
    "## Goals for today\n",
    "- Understand the concept of function templates\n",
    "- Understand the close relation of function templates and `auto`\n",
    "  - `auto` is great"
   ]
  },
  {
   "attachments": {},
   "cell_type": "markdown",
   "metadata": {},
   "source": [
    "# Function templates"
   ]
  },
  {
   "cell_type": "markdown",
   "metadata": {},
   "source": [
    "In C++ has *templates* [(cppref)](https://en.cppreference.com/w/cpp/language/templates) which allow to implement generic functionality. We will look closer at *function templates* [(cppref)](https://en.cppreference.com/w/cpp/language/function_template).\n",
    "\n",
    "Templates are might but often hard to deal with\n",
    "\n",
    "Let's assume we want to implement a non-member function `swap` which exchanges the contents of two objects of equal type `Widget`:"
   ]
  },
  {
   "cell_type": "code",
   "execution_count": 7,
   "metadata": {
    "vscode": {
     "languageId": "c++"
    }
   },
   "outputs": [],
   "source": [
    "struct Widget {\n",
    "  int m;\n",
    "};"
   ]
  },
  {
   "cell_type": "markdown",
   "metadata": {},
   "source": [
    "What do you do, if you have hundreds of classes\n",
    "\n",
    "If the lines are same, but only the class changes, then use TEMPLATES !"
   ]
  },
  {
   "cell_type": "code",
   "execution_count": 8,
   "metadata": {
    "vscode": {
     "languageId": "c++"
    }
   },
   "outputs": [],
   "source": [
    "void swap(Widget &a, Widget &b) { // takes two references, should swap \n",
    "  Widget tmp(std::move(a));     // save tmp (1. move) // (1) which SMF is used? move ctor\n",
    "  a = std::move(b);             // 2. move            // (2) which SMF is used? move assignment\n",
    "  b = std::move(tmp);           // 3. move            // (3) which SMF is used? move assignment\n",
    "};"
   ]
  },
  {
   "cell_type": "markdown",
   "metadata": {},
   "source": [
    "**What requirements are there towards the `Widget` class?**\n",
    "- move ctor (implicitly available?, yes)\n",
    "- move assign (implicitly available? yes)\n",
    "- ... copy versions of ctor and assign are also sufficient as a fallback"
   ]
  },
  {
   "cell_type": "markdown",
   "metadata": {},
   "source": [
    "To make this swap functionality available for other types too, overloads could be used:"
   ]
  },
  {
   "cell_type": "code",
   "execution_count": 9,
   "metadata": {
    "vscode": {
     "languageId": "c++"
    }
   },
   "outputs": [],
   "source": [
    "struct Type1 {};\n",
    "struct Type2 {};\n",
    "struct Type3 {};"
   ]
  },
  {
   "cell_type": "code",
   "execution_count": 10,
   "metadata": {
    "vscode": {
     "languageId": "c++"
    }
   },
   "outputs": [],
   "source": [
    "void swap(Type1 &a, Type1 &b) { }; // for Type1/Type1"
   ]
  },
  {
   "cell_type": "code",
   "execution_count": 11,
   "metadata": {
    "vscode": {
     "languageId": "c++"
    }
   },
   "outputs": [],
   "source": [
    "void swap(Type2 &a, Type2 &b) { }; // for Type2/Type2"
   ]
  },
  {
   "cell_type": "code",
   "execution_count": 12,
   "metadata": {
    "vscode": {
     "languageId": "c++"
    }
   },
   "outputs": [],
   "source": [
    "void swap(Type3 &a, Type3 &b) { }; // for Type3/Type3"
   ]
  },
  {
   "attachments": {},
   "cell_type": "markdown",
   "metadata": {},
   "source": [
    "**Is the \"overload approach\" good practice if the number of types to be supported is large?**\n",
    "- if a set of types you want to support needs exactly the same implementation then a template is a good idea\n",
    "- if a set of types each needs special treatment: work with overloads"
   ]
  },
  {
   "cell_type": "markdown",
   "metadata": {},
   "source": [
    "Let's look at a situation where the implementation (the expressions in the function body) of `swap` does not depend on the type of the parameters. We can illustrate this by using a *type alias* which highlights the influence of the type of the parameters on the function body:"
   ]
  },
  {
   "cell_type": "code",
   "execution_count": 13,
   "metadata": {
    "vscode": {
     "languageId": "c++"
    }
   },
   "outputs": [],
   "source": [
    "using T = Type1; // only changing this type alias for Type2, Type3, Type4"
   ]
  },
  {
   "cell_type": "code",
   "execution_count": 14,
   "metadata": {
    "vscode": {
     "languageId": "c++"
    }
   },
   "outputs": [],
   "source": [
    "void swap(T& a, T& b) { //it alreasy looks like a template but it is not\n",
    "  T tmp(std::move(a));\n",
    "  a = std::move(b);\n",
    "  b = std::move(tmp);\n",
    "};"
   ]
  },
  {
   "cell_type": "markdown",
   "metadata": {},
   "source": [
    "The syntax to implementing the above `swap` as a *function template* [(cppref)](https://en.cppreference.com/w/cpp/language/function_template) with a single *type template parameter* [(cppref)](https://en.cppreference.com/w/cpp/language/template_parameters) `T` looks like this:"
   ]
  },
  {
   "cell_type": "code",
   "execution_count": 15,
   "metadata": {
    "vscode": {
     "languageId": "c++"
    }
   },
   "outputs": [],
   "source": [
    "template <typename T >  // template function with a \"type template parameter\" 'T' \n",
    "void swap(T& a, T& b)  { //this is now template. Language automattically detects template type in code then\n",
    "  //theoretically works for all classes\n",
    "  //but of course does not in reality\n",
    "  //lately you can restrict Type that CAN be used for this template (C++ 20)\n",
    "  //Breaks on compile time\n",
    "  T tmp(std::move(a));\n",
    "  a = std::move(b);\n",
    "  b = std::move(tmp);\n",
    "}; "
   ]
  },
  {
   "cell_type": "markdown",
   "metadata": {},
   "source": [
    "**What are the prerequisites for type `T` to be \"compatible\" with this function template?**\n",
    "- move-constructable (or fallback to copy)\n",
    "- move-assignable (or fallback to copy)"
   ]
  },
  {
   "cell_type": "markdown",
   "metadata": {},
   "source": [
    "The definition of a template (function) is literally a template for the compiler:\n",
    "- If the templated function **is not selected** to be used (anywhere in the translation unit), no code is generated for the (not selected) function.\n",
    "- If the templated function **is selected** to be used, code is generated by the compiler (*instantiation*) - potentially multiple times for different types - according to the template definition."
   ]
  },
  {
   "cell_type": "markdown",
   "metadata": {},
   "source": [
    "## Template argument determination\n",
    "In order to instantiate (or try to instantiate) any template, all arguments for the template parameters must be known to the compiler. \n",
    "There are three mechanism which lead to the determination of function template parameters (precedence in this order):"
   ]
  },
  {
   "cell_type": "markdown",
   "metadata": {},
   "source": [
    "- explicitly specifying the arguments "
   ]
  },
  {
   "cell_type": "code",
   "execution_count": 18,
   "metadata": {
    "vscode": {
     "languageId": "c++"
    }
   },
   "outputs": [
    {
     "name": "stderr",
     "output_type": "stream",
     "text": [
      "input_line_28:9:2: error: expected expression\n",
      " template <typename T1, typename T2>\n",
      " ^\n"
     ]
    },
    {
     "ename": "Interpreter Error",
     "evalue": "",
     "output_type": "error",
     "traceback": [
      "Interpreter Error: "
     ]
    }
   ],
   "source": [
    " Widget a{1};\n",
    " Widget b{2};\n",
    " //swap<Widget>(a, b); // instantiates void swap<Widget>(Widget&, Widget&)\n",
    "\n",
    " //try\n",
    " //std::string mystr = \"aaaa\";\n",
    " //swap<Widget>(a,b); //would not work\n",
    "\n",
    " //you can do it like\n",
    " template <typename T1, typename T2>\n",
    " void swap(T1& a, T2& b){}"
   ]
  },
  {
   "cell_type": "markdown",
   "metadata": {},
   "source": [
    "- deduction from function arguments "
   ]
  },
  {
   "cell_type": "code",
   "execution_count": 15,
   "metadata": {
    "vscode": {
     "languageId": "c++"
    }
   },
   "outputs": [],
   "source": [
    "Widget a{1};\n",
    "Widget b{2}; // different type\n",
    "swap(a,b);         // instantiates void swap<Widget>(Widget&, Widget&)"
   ]
  },
  {
   "cell_type": "markdown",
   "metadata": {},
   "source": [
    "- default arguments for template parameters are defined "
   ]
  },
  {
   "cell_type": "code",
   "execution_count": 18,
   "metadata": {
    "vscode": {
     "languageId": "c++"
    }
   },
   "outputs": [],
   "source": [
    "template <typename T = Widget> \n",
    "void swap(T& a, T& b) {\n",
    "    T tmp(std::move(a));\n",
    "    a = std::move(b);\n",
    "    b = std::move(tmp);\n",
    "};"
   ]
  },
  {
   "cell_type": "code",
   "execution_count": 19,
   "metadata": {
    "vscode": {
     "languageId": "c++"
    }
   },
   "outputs": [],
   "source": [
    "swap(a,b);   // instantiates void swap<Widget>(Widget&, Widget&) "
   ]
  },
  {
   "cell_type": "markdown",
   "metadata": {},
   "source": [
    "- one more example for default arguments combined with \"relations\" between template parameters:"
   ]
  },
  {
   "cell_type": "code",
   "execution_count": 23,
   "metadata": {
    "vscode": {
     "languageId": "c++"
    }
   },
   "outputs": [],
   "source": [
    "template <typename T, typename D = decltype(T().m)> \n",
    "void swapM(T& a, T& b) {\n",
    "    D tmp(std::move(a.m));\n",
    "    a.m = std::move(b.m);\n",
    "    b.m = std::move(tmp);\n",
    "};"
   ]
  },
  {
   "cell_type": "code",
   "execution_count": 25,
   "metadata": {
    "vscode": {
     "languageId": "c++"
    }
   },
   "outputs": [],
   "source": [
    "WidgetM a{1};\n",
    "WidgetM b{2};  \n",
    "swapM<WidgetM>(a,b);   // instantiates void swapM<Widget,int>(Widget&, Widget&)"
   ]
  },
  {
   "cell_type": "markdown",
   "metadata": {},
   "source": [
    "**Could the last snippet also have been implemented without the extra template parameter `D`?**\n",
    "- yes, using the `auto` type placeholder."
   ]
  },
  {
   "cell_type": "markdown",
   "metadata": {},
   "source": [
    "## Function template argument deduction\n",
    "Let's look closer at the rules for deducing template arguments from function arguments [(cppref)](https://en.cppreference.com/w/cpp/language/function_template#Template_argument_deduction).\n",
    "We will consider a function template with a single argument of a form similar to this:"
   ]
  },
  {
   "cell_type": "code",
   "execution_count": 26,
   "metadata": {
    "vscode": {
     "languageId": "c++"
    }
   },
   "outputs": [],
   "source": [
    "template <typename AUTO> \n",
    "void func(AUTO arg) {};"
   ]
  },
  {
   "cell_type": "markdown",
   "metadata": {},
   "source": [
    "The type of the function parameter is marked in red and the template parameter is is marked in bold blue.\n",
    "A type is deduced for both, influenced by the expression passed as an argument:\n"
   ]
  },
  {
   "cell_type": "code",
   "execution_count": 28,
   "metadata": {
    "vscode": {
     "languageId": "c++"
    }
   },
   "outputs": [],
   "source": [
    "double expr = 1.0;\n",
    "func(expr); //internally: auto arg = (expr);"
   ]
  },
  {
   "cell_type": "markdown",
   "metadata": {},
   "source": [
    "**Note:** The rules for template argument deduction are also applied when using `auto` as a placeholder type for variables, i.e., the following snippet will use the same mechanism to deduce the type for `arg` from the expression `expr` as the function template above. "
   ]
  },
  {
   "cell_type": "code",
   "execution_count": 29,
   "metadata": {
    "vscode": {
     "languageId": "c++"
    }
   },
   "outputs": [],
   "source": [
    "auto arg = (expr); //when you do that, you the same thing as above"
   ]
  },
  {
   "cell_type": "markdown",
   "metadata": {},
   "source": [
    "In the following we will consider these four different scenarios for deduction:"
   ]
  },
  {
   "cell_type": "code",
   "execution_count": 30,
   "metadata": {
    "vscode": {
     "languageId": "c++"
    }
   },
   "outputs": [],
   "source": [
    "template <typename AUTO> \n",
    "void func1(AUTO arg) {}; // pass-by-value\n",
    "//we get a copy inside the func\n",
    "//do not know ehther it is const etc"
   ]
  },
  {
   "cell_type": "code",
   "execution_count": 3,
   "metadata": {
    "vscode": {
     "languageId": "c++"
    }
   },
   "outputs": [
    {
     "name": "stderr",
     "output_type": "stream",
     "text": [
      "input_line_11:3:13: error: use of undeclared identifier 'expr'\n",
      "auto& dd = (expr);\n",
      "            ^\n"
     ]
    },
    {
     "ename": "Interpreter Error",
     "evalue": "",
     "output_type": "error",
     "traceback": [
      "Interpreter Error: "
     ]
    }
   ],
   "source": [
    "template <typename AUTO> \n",
    "void func2(AUTO& arg) {}; // pass-by-reference. I want an Lvalue reference\n",
    "\n",
    "auto& dd = (expr);\n",
    "\n",
    "//What is lost here: cannot have passing by value\n",
    "//cannot move on position\n"
   ]
  },
  {
   "cell_type": "code",
   "execution_count": 32,
   "metadata": {
    "vscode": {
     "languageId": "c++"
    }
   },
   "outputs": [],
   "source": [
    "template <typename AUTO> \n",
    "void func3(const AUTO& arg) {}; // pass-by-reference-to-const\n",
    "\n",
    "const auto& ddd = (expr);"
   ]
  },
  {
   "cell_type": "code",
   "execution_count": 4,
   "metadata": {
    "vscode": {
     "languageId": "c++"
    }
   },
   "outputs": [
    {
     "name": "stderr",
     "output_type": "stream",
     "text": [
      "input_line_12:3:22: error: use of undeclared identifier 'expr'\n",
      "const auto&& dddd = (expr);\n",
      "                     ^\n"
     ]
    },
    {
     "ename": "Interpreter Error",
     "evalue": "",
     "output_type": "error",
     "traceback": [
      "Interpreter Error: "
     ]
    }
   ],
   "source": [
    "template <typename AUTO> \n",
    "void func4(AUTO&& arg) {}; // pass-by-forwarding-references. SPECIAL!!! \n",
    "\n",
    "const auto&& dddd = (expr);\n",
    "//you do not know what was in the outside"
   ]
  },
  {
   "cell_type": "markdown",
   "metadata": {},
   "source": [
    "### Pass-by-value\n",
    "If the function parameter is passed by-value the function template looks like this:"
   ]
  },
  {
   "cell_type": "code",
   "execution_count": 36,
   "metadata": {
    "vscode": {
     "languageId": "c++"
    }
   },
   "outputs": [],
   "source": [
    "template <typename AUTO> \n",
    "void func1(AUTO arg) {}; // pass-by-value"
   ]
  },
  {
   "cell_type": "code",
   "execution_count": 37,
   "metadata": {
    "vscode": {
     "languageId": "c++"
    }
   },
   "outputs": [],
   "source": [
    "Widget lval{1};    \n",
    "Widget &lref = lval;   \n",
    "const Widget &clref = lval;  \n",
    "Widget *ptr = &lval; \n",
    "const Widget *cptr = &lval; \n",
    "const Widget *const cptrc = &lval; \n",
    "\n",
    "func1(lval);                 // func<Widget>(Widget arg) for lvalue\n",
    "func1(lref);                 // func<Widget>(Widget arg) for lvalue reference\n",
    "func1(clref);                // func<Widget>(Widget arg) for lvalue reference to const\n",
    "func1(Widget{});             // func<Widget>(Widget arg) for rvalue\n",
    "func1(std::move(lval));      // func<Widget>(Widget arg) for rvalue reference\n",
    "func1(std::move(clref));     // func<Widget>(Widget arg) for rvalue reference to const    \n",
    "func1(ptr);                  // func<Widget *>(Widget *arg) for ptr\n",
    "func1(cptr);                 // func<const Widget *>(const Widget *arg) for ptr to const \n",
    "func1(cptrc);                // func<const Widget *>(const Widget *arg) for const ptr to const"
   ]
  },
  {
   "cell_type": "markdown",
   "metadata": {},
   "source": [
    "To summarize deduction for a pass-by-value function parameter: \n",
    "- `const` is dropped \n",
    "- for pointers const access to the pointee is not dropped\n",
    "- the two deduced types (template parameter type and function parameter type) are identical."
   ]
  },
  {
   "cell_type": "markdown",
   "metadata": {},
   "source": [
    "**Do these rules for pass-by-value make sense?**\n",
    "- const-ness is not preserved(dropped): this makes sense, as everything is pass-by-value (copied)\n",
    "- reference-ness is not preserved: makes sense, we asked for a copy\n",
    "- pointers: passing a pointer-to-const preserves the const-ness; this is what is expected from the caller site."
   ]
  },
  {
   "cell_type": "markdown",
   "metadata": {},
   "source": [
    "### Pass-by-reference\n",
    "If the function parameter is *passed by-reference* the function template looks like this:"
   ]
  },
  {
   "cell_type": "code",
   "execution_count": 39,
   "metadata": {
    "vscode": {
     "languageId": "c++"
    }
   },
   "outputs": [],
   "source": [
    "template <typename AUTO> \n",
    "void func2(AUTO& arg) {}; // pass-by-reference"
   ]
  },
  {
   "cell_type": "markdown",
   "metadata": {},
   "source": [
    "The following snippet again illustrates the deduction for different value categories and types:\n"
   ]
  },
  {
   "cell_type": "code",
   "execution_count": 40,
   "metadata": {
    "vscode": {
     "languageId": "c++"
    }
   },
   "outputs": [],
   "source": [
    "Widget lval{1};    \n",
    "Widget &lref = lval;   \n",
    "const Widget &clref = lval;  \n",
    "Widget *ptr = &lval; \n",
    "const Widget *cptr = &lval; \n",
    "const Widget *const ptrc = &lval; \n",
    "func2(lval);                 // func<Widget>(Widget &arg) for lvalue\n",
    "func2(lref);                 // func<Widget>(Widget &arg) for lvalue reference\n",
    "func2(clref);                // func<const Widget>(const Widget &arg) for lvalue reference to const   \n",
    "func2(ptr);                  // func<Widget *>(Widget *&arg) for ptr\n",
    "func2(cptr);                 // func<const Widget *>(const Widget *&arg) for ptr to const\n",
    "func2(cptrc);                // func<const Widget *const>(const Widget *const &arg) for const ptr to const"
   ]
  },
  {
   "cell_type": "markdown",
   "metadata": {},
   "source": [
    "To summarize for a pass-by-reference function parameter: \n",
    "- `const`-ness is preserved in both deduced types\n",
    "- if `expr` is a reference type or not does not influence the deduction\n",
    "- function parameter type is always a lvalue reference\n",
    "- the template parameter is never of reference type\n"
   ]
  },
  {
   "cell_type": "markdown",
   "metadata": {},
   "source": [
    "**Do these pass-by-ref rules make sense?**\n",
    "- const-ness is preserved: this is what is expected when passing a const or a const reference\n",
    "- const-ness is also preserved in the template parameter type: this allows to specialize the implementation if a function parameter is const\n",
    "- the function parameter type is always a lvalue reference: this is what we asked for"
   ]
  },
  {
   "cell_type": "markdown",
   "metadata": {},
   "source": [
    "### Pass-by-reference-to-const \n",
    "If the function parameter is passed by a lvalue-reference to const, the function template looks like this:"
   ]
  },
  {
   "cell_type": "code",
   "execution_count": 42,
   "metadata": {
    "vscode": {
     "languageId": "c++"
    }
   },
   "outputs": [],
   "source": [
    "template <typename AUTO> \n",
    "//cinst reference\n",
    "void func3(const AUTO& arg) {}; // pass-by-reference-to-const"
   ]
  },
  {
   "cell_type": "markdown",
   "metadata": {},
   "source": [
    "And again, following snippet illustrates the deduction for different value categories and types:"
   ]
  },
  {
   "cell_type": "code",
   "execution_count": 43,
   "metadata": {
    "vscode": {
     "languageId": "c++"
    }
   },
   "outputs": [],
   "source": [
    "Widget lval{1};    \n",
    "Widget &lref = lval;   \n",
    "const Widget &clref = lval;  \n",
    "Widget *ptr = &lval; \n",
    "const Widget *cptr = &lval; \n",
    "const Widget *const cptrc = &lval; \n",
    "func3(lval);                 // func<Widget>(const Widget &arg) for lvalue/reference\n",
    "func3(clref);                // func<Widget>(const Widget &arg) for lvalue/reference to const   \n",
    "func3(Widget{});             // func<Widget>(const Widget &arg) for rvalue/reference  \n",
    "\n",
    "func3(ptr);                  // func<Widget *>(Widget *const &arg) for ptr\n",
    "//The POINTER is set const, NOT the ref! (thing itself)\n",
    "func3(cptr);                 // func<const Widget *>(const Widget *const &arg) for ptr to const\n",
    "func3(cptrc);                // func<const Widget *>(const Widget *const &arg) for const ptr to const"
   ]
  },
  {
   "cell_type": "markdown",
   "metadata": {},
   "source": [
    "To summarize for a pass-by-reference-to-const function parameter: \n",
    "- the \"forced\" `const`-ness is not reflected in the type of the template parameter\n",
    "- function parameter type is always a const lvalue reference\n",
    "- the template parameter is never of reference type\n"
   ]
  },
  {
   "cell_type": "markdown",
   "metadata": {},
   "source": [
    "**Do these rules for pass-by-const-ref make sense?**\n",
    "- \"original\" const-ness is lost: this is what we asked for: to always bind to an lvalue reference to const\n",
    "- pointer: const is \"forced\" for the pointer type itself, e.g., `Widget *const`: this is expected; see below snippet for a  syntax which reveals this:\n",
    "  ```cpp\n",
    "    using Pointer = Widget *; // equivalent: Widget *\n",
    "    using ConstPointer = const Pointer; // equivalent: Widget *const\n",
    "    //const applied to pointer, not underlying type\n",
    "    using PointerToConst = const Widget *; // equivalent: const Widget *\n",
    "    using ConstPointerToConst = const PointerToConst; // equivalent: const Widget *const\n",
    "  ```"
   ]
  },
  {
   "cell_type": "markdown",
   "metadata": {},
   "source": [
    "**Is any of the template deduction mechanism above suitable to maintain the full information of an argument (i.e., value-category, const-ness, and type), and why would this even be important?**\n",
    "- No:\n",
    "  - pass-by-value hides the reference-ness (and forces parameters to be constructible)\n",
    "  - pass-by reference (non-const) cannot bind to rvalues\n",
    "  - pass-by const reference can bind to anything via a reference, but also marks everything const. \n",
    "- Often, a \"perfect forwarding\" of function parameters is highly desirable, e.g., passing the parameters to a nested function without the nested function experiencing any difference (compared to a direct invocation). \n",
    "- Forwarding references (see below) combined with the reference collapsing can achieve this."
   ]
  },
  {
   "cell_type": "code",
   "execution_count": 19,
   "metadata": {
    "vscode": {
     "languageId": "c++"
    }
   },
   "outputs": [],
   "source": [
    "template <typename AUTO> \n",
    "void func1(AUTO arg) { /* no info if arg was e.g., movable*/ };\n",
    "template <typename AUTO> \n",
    "void func2(AUTO& arg) { /* only binds to lvalues, rvalues do not work */};\n",
    "template <typename AUTO> \n",
    "void func3(const AUTO& arg) { /* const is forced, no info if actually was const */ };"
   ]
  },
  {
   "cell_type": "markdown",
   "metadata": {},
   "source": [
    "### Pass-by-forwarding-reference\n",
    "In the semantic embedding of a function template the syntax for a non-const rvalue reference has a special meaning:\n"
   ]
  },
  {
   "cell_type": "code",
   "execution_count": 20,
   "metadata": {
    "vscode": {
     "languageId": "c++"
    }
   },
   "outputs": [],
   "source": [
    "template <typename AUTO> \n",
    "void func4(AUTO&& arg) {}; // pass-by-forwarding-references"
   ]
  },
  {
   "cell_type": "markdown",
   "metadata": {},
   "source": [
    "Here `&&` denotes a so-called *forwarding reference* [(cppref)](https://en.cppreference.com/w/cpp/language/reference#Forwarding_references) (or also *universal reference*) with special deduction rules.\n",
    "The following snippet illustrates the deduction when using a forwarding reference:"
   ]
  },
  {
   "cell_type": "code",
   "execution_count": 21,
   "metadata": {
    "vscode": {
     "languageId": "c++"
    }
   },
   "outputs": [],
   "source": [
    "Widget lval{1};    \n",
    "Widget &lref = lval;   \n",
    "const Widget &clref = lval;  \n",
    "Widget *ptr = &lval; \n",
    "const Widget *cptr = &lval; \n",
    "const Widget *const cptrc = &lval; \n",
    "func4(lval);                 // func<Widget &>(Widget &arg) for lvalue\n",
    "func4(lref);                 // func<Widget &>(Widget &arg) for lvalue reference\n",
    "func4(clref);                // func<const Widget &>(const Widget &arg) for lvalue reference to const\n",
    "func4(Widget{});             // func<Widget>(Widget &&arg) for rvalue\n",
    "func4(std::move(lval));      // func<Widget>(Widget &&arg) for rvalue reference\n",
    "func4(std::move(clref));     // func<const Widget>(const Widget &&arg) for rvalue reference to const    \n",
    "func4(ptr);                  // func<Widget *&>(Widget *&arg) for ptr\n",
    "func4(cptr);                 // func<const Widget *&>(const Widget *&arg) for ptr to const\n",
    "func4(cptrc);                // func<const Widget *const &>(const Widget *const &arg) for const ptr to const"
   ]
  },
  {
   "cell_type": "markdown",
   "metadata": {},
   "source": [
    "To summarize when using a forwarding reference as function parameter: \n",
    "- the const-ness and value-ness of the expression passed to the function are fully preserved in the type of the function parameter\n",
    "- the template parameter is a reference type if the expression was an lvalue; for rvalue it is non-reference type\n"
   ]
  },
  {
   "cell_type": "markdown",
   "metadata": {},
   "source": [
    "**Do these rules for forwarding-refs make sense?**\n",
    "- the rules aim to achieve a specific goal: to preserve the value category and const-ness of the originally passed expression (to be able to forward it later).\n",
    "- the template parameter is non-reference for rvalues: this is OK (instead of being of rvalue reference) as it has no effect on reference collapsing [(cppref)](https://en.cppreference.com/w/cpp/language/reference) (which applied during forwarding)"
   ]
  },
  {
   "cell_type": "markdown",
   "metadata": {},
   "source": [
    "**Note**:\n",
    "This preservation of the \"original\" value category and const-ness in the type of the function parameters sets the stage for \"perfect forwarding\" of parameters to nested functions. To achieve this, additionally the \"reference collapsing rules\" and `std::forward` (which makes use of these rules) are required."
   ]
  },
  {
   "cell_type": "markdown",
   "metadata": {},
   "source": [
    "## Template parameter pack \n",
    "C++ allows to specify a *template parameter pack* [(cppref)](https://en.cppreference.com/w/cpp/language/parameter_pack) (e.g., `typename ...ARGS`) as template parameter which can be mapped to a *function parameter pack* (e.g., `func(ARGS&&...args)`).\n",
    "This allows to construct function templates accepting a variable number of arguments:"
   ]
  },
  {
   "cell_type": "code",
   "execution_count": 22,
   "metadata": {
    "vscode": {
     "languageId": "c++"
    }
   },
   "outputs": [],
   "source": [
    "template<typename ...ARGS> // named template parameter pack\n",
    "void function(ARGS... args) { // function parameter pack\n",
    "  //...  how to access/deal with args here?\n",
    "}"
   ]
  },
  {
   "cell_type": "markdown",
   "metadata": {},
   "source": [
    "Let's look at some examples to illustrate some use cases using *fold expressions* [(cppref)](https://en.cppreference.com/w/cpp/language/fold):"
   ]
  },
  {
   "cell_type": "code",
   "execution_count": 23,
   "metadata": {
    "vscode": {
     "languageId": "c++"
    }
   },
   "outputs": [
    {
     "name": "stderr",
     "output_type": "stream",
     "text": [
      "input_line_33:2:15: warning: pack fold expression is a C++17 extension [-Wc++17-extensions]\n",
      "  return (0 + ... + args); // sums all args, initial value '0'\n",
      "              ^\n"
     ]
    }
   ],
   "source": [
    "template <typename... ARGS> auto sum_args(ARGS &&... args) {\n",
    "  return (0 + ... + args); // sums all args, initial value '0'\n",
    "};"
   ]
  },
  {
   "cell_type": "code",
   "execution_count": 24,
   "metadata": {
    "vscode": {
     "languageId": "c++"
    }
   },
   "outputs": [
    {
     "name": "stderr",
     "output_type": "stream",
     "text": [
      "input_line_34:2:32: warning: pack fold expression is a C++17 extension [-Wc++17-extensions]\n",
      "  ((std::cout << args << ','), ..., (std::cout << std::endl)); // prints all args\n",
      "                               ^\n"
     ]
    }
   ],
   "source": [
    "template <typename... ARGS> auto print_args(ARGS &&... args) {\n",
    "  ((std::cout << args << ','), ..., (std::cout << std::endl)); // prints all args\n",
    "};"
   ]
  },
  {
   "cell_type": "markdown",
   "metadata": {},
   "source": [
    "Can we also use this to wrap a function?"
   ]
  },
  {
   "cell_type": "code",
   "execution_count": 54,
   "metadata": {
    "vscode": {
     "languageId": "c++"
    }
   },
   "outputs": [],
   "source": [
    "template <typename... ARGS> auto forward_args(ARGS &&... args) {\n",
    "  return func(args...); // passes all args to 'func' in same order\n",
    "};"
   ]
  },
  {
   "cell_type": "markdown",
   "metadata": {},
   "source": [
    "**Why is the last above snippet not \"perfect forwarding\"?**\n",
    "- rvalue references with a name will be received as lvalues when binding to the parameters of `func`\n",
    "- to forward correctly, rvalue arguments (but only those) have to \"moved\", this is achieved by `std::forward` [(cppref)](https://en.cppreference.com/w/cpp/utility/forward):"
   ]
  },
  {
   "cell_type": "code",
   "execution_count": 27,
   "metadata": {
    "vscode": {
     "languageId": "c++"
    }
   },
   "outputs": [],
   "source": [
    "  template <typename... ARGS> auto perfect_forward_args(ARGS &&... args) {\n",
    "    //ARGS can be everything\n",
    "    //only movables will be moved.\n",
    "    return func(std::forward<ARGS>(args)...);\n",
    "  };"
   ]
  },
  {
   "cell_type": "markdown",
   "metadata": {},
   "source": [
    "**What does `std::forward` do?**\n",
    "- it performs a cast to an rvalue (rvalue reference), quite similar to `std::move`\n",
    "- the difference is that it acts selectively (by relying on the rules of reference collapsing)."
   ]
  },
  {
   "cell_type": "markdown",
   "metadata": {},
   "source": [
    "A parameter pack can also be combine with \"regular\" template parameters. Below this is used to build a \"perfect\" function wrapper:\n",
    "\n",
    "CALLABLE: not even bound to the function\n",
    "    - Synthax : it has to be callable ( `operator()` ), and defined with the passsed parameter."
   ]
  },
  {
   "cell_type": "code",
   "execution_count": 28,
   "metadata": {
    "vscode": {
     "languageId": "c++"
    }
   },
   "outputs": [],
   "source": [
    "template <typename CALLABLE, typename... ARGS>\n",
    "auto perfect_function_wrapper(CALLABLE callable , ARGS &&... args) {\n",
    "  return callable(std::forward<ARGS>(args)...); \n",
    "};"
   ]
  },
  {
   "cell_type": "markdown",
   "metadata": {},
   "source": [
    "**What are the requirements for the `callable` in above snippet?**\n",
    "- `operator()` with a fitting sequence of parameters (i.e. which can bind to the sequence of `args`)"
   ]
  },
  {
   "cell_type": "markdown",
   "metadata": {},
   "source": [
    "## `auto` placeholder type [(cppref)](https://en.cppreference.com/w/cpp/language/auto)"
   ]
  },
  {
   "cell_type": "markdown",
   "metadata": {},
   "source": [
    "The deduction rules for function template arguments are also used when `auto` is used as a placeholder for the type of a variable:"
   ]
  },
  {
   "cell_type": "code",
   "execution_count": 63,
   "metadata": {
    "vscode": {
     "languageId": "c++"
    }
   },
   "outputs": [],
   "source": [
    "double expr = 1.0;\n",
    "auto arg1 = (expr); // (1) non-reference type\n",
    "\n",
    "auto& arg2 = (expr); // (2) lvalue reference type\n",
    "\n",
    "// the next two \"always bind\"\n",
    "const auto& arg3 = (expr); // (3) const lvalue reference type\n",
    "auto&&  arg4 = (expr); // (4) forwarding reference!"
   ]
  },
  {
   "cell_type": "markdown",
   "metadata": {},
   "source": [
    "**How do the analog function templates for the expressions above look like?**"
   ]
  },
  {
   "cell_type": "markdown",
   "metadata": {},
   "source": [
    "An very illustrative example of the use of `auto` and its consequences it a range-based for loop:\n",
    "- What is there are heavy items in there?\n"
   ]
  },
  {
   "cell_type": "code",
   "execution_count": 64,
   "metadata": {
    "vscode": {
     "languageId": "c++"
    }
   },
   "outputs": [],
   "source": [
    "std::vector<double> list = {1,2,3};\n",
    "\n",
    "for (auto item: list) {\n",
    "  // ...\n",
    "}\n",
    "\n",
    "for (auto& item: list) {\n",
    "  // ...\n",
    "}\n",
    "\n",
    "for (const auto& item: list) {\n",
    "  // ...\n",
    "}\n"
   ]
  },
  {
   "cell_type": "markdown",
   "metadata": {},
   "source": [
    "**Discuss the consequences of the above choices for the loop!**"
   ]
  },
  {
   "cell_type": "markdown",
   "metadata": {},
   "source": [
    "**Is this really exactly the same mechanism for function templates and `auto` type placeholders?**\n",
    "- yes, but one exception concerning `std::initializer_list` [(cppref)](https://en.cppreference.com/w/cpp/utility/initializer_list):\n",
    "  ```cpp\n",
    "  // example for only difference: std::initializer_list\n",
    "  template <typename AUTO>\n",
    "  void func(std::initializer_list<AUTO> arg){};\n",
    "\n",
    "  int main() {\n",
    "    auto arg = {1, 2, 3}; // works\n",
    "    func({1, 2, 3});      // does not work\n",
    "  }\n",
    "  ```"
   ]
  },
  {
   "cell_type": "code",
   "execution_count": null,
   "metadata": {
    "vscode": {
     "languageId": "c++"
    }
   },
   "outputs": [],
   "source": [
    "const int N = 4096;\n",
    "float A[N*N]; //64MB: out of stack\n",
    "//out of range of mem to capture memory\n",
    "\n",
    "\n",
    "float A = new float[N*N];\n",
    "delete[] A;"
   ]
  },
  {
   "cell_type": "markdown",
   "metadata": {},
   "source": [
    "# Summary\n",
    "\n",
    "- Function templates\n",
    "- `auto`\n",
    "- Wrapping is very desirable, can do with forward ref + `forward`"
   ]
  },
  {
   "cell_type": "markdown",
   "metadata": {},
   "source": []
  }
 ],
 "metadata": {
  "kernelspec": {
   "display_name": "C++17",
   "language": "C++17",
   "name": "xcpp17"
  },
  "language_info": {
   "codemirror_mode": "text/x-c++src",
   "file_extension": ".cpp",
   "mimetype": "text/x-c++src",
   "name": "C++17",
   "version": "14"
  },
  "orig_nbformat": 4
 },
 "nbformat": 4,
 "nbformat_minor": 2
}
