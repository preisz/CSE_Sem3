{
 "cells": [
  {
   "cell_type": "code",
   "execution_count": 2,
   "metadata": {},
   "outputs": [],
   "source": [
    "import numpy as np\n",
    "\n",
    "# Generate 200  angles in radians between 0 and pi (0 and 180 degrees)\n",
    "phi_values = np.linspace(0, np.pi, 200)\n",
    "\n",
    "# Corresponding x, y coordinates in Cartesian coordinates\n",
    "x_coordinates = np.cos(phi_values)\n",
    "y_coordinates = np.sin(phi_values)\n",
    "\n",
    "# Combine x and y coordinates into a 2D NumPy array\n",
    "coordinates_array = np.column_stack((x_coordinates, y_coordinates))\n",
    "np.savetxt(\"coordinates.csv\", coordinates_array, delimiter=\",\")"
   ]
  },
  {
   "cell_type": "markdown",
   "metadata": {},
   "source": [
    "Go to the [evaluation file](evaluate_mics_dpdt.py) to generate this plots\n"
   ]
  },
  {
   "cell_type": "code",
   "execution_count": 23,
   "metadata": {},
   "outputs": [
    {
     "name": "stdout",
     "output_type": "stream",
     "text": [
      "318.24\n",
      "Mic2, ypos =  0.1875\n"
     ]
    }
   ],
   "source": [
    "deltaT = 1/(624 * 15); t = 0.034\n",
    "n = t/ deltaT; print(n)\n",
    "\n",
    "f = 3; print(\"Mic2, ypos = \", f/16)"
   ]
  },
  {
   "cell_type": "code",
   "execution_count": 22,
   "metadata": {},
   "outputs": [
    {
     "name": "stdout",
     "output_type": "stream",
     "text": [
      "Mic3, ypos =  0.6066666666666666\n"
     ]
    }
   ],
   "source": [
    "a = 0.12;  b = 0.2;  c = 0.1\n",
    "d = (2/3)*b; e = 0.375; r = 1.0\n",
    "\n",
    "mic3y = f/4 - a/2 - d/2 - (c - d/2)* 0.5\n",
    "print(\"Mic3, ypos = \", mic3y)"
   ]
  },
  {
   "cell_type": "markdown",
   "metadata": {},
   "source": [
    "plot the acoustic pressure or potential at mic1 and mic2 (x = 0 , y = f/16)\n",
    "for both cases.\n",
    "\n",
    "The columns in the files are $N_e, x, y, z, Re(v), Im(v), x_e, y_e, z_e$, i.e. element id, global coordinates, value (real and imaginary part), local coordinates. Depending on the dimension and result type (real/complex), the according columns are omitted.\n",
    "\n",
    "![Alt Text](images/AcouPressure-coupled.png)     ![Alt Text](images/AcouPressure-rigid.png) \n",
    "<br><br>\n",
    "![Alt Text](images/MechDispl-mic3.png) \n"
   ]
  },
  {
   "cell_type": "markdown",
   "metadata": {},
   "source": []
  },
  {
   "cell_type": "code",
   "execution_count": null,
   "metadata": {},
   "outputs": [],
   "source": []
  }
 ],
 "metadata": {
  "kernelspec": {
   "display_name": "Python 3",
   "language": "python",
   "name": "python3"
  },
  "language_info": {
   "codemirror_mode": {
    "name": "ipython",
    "version": 3
   },
   "file_extension": ".py",
   "mimetype": "text/x-python",
   "name": "python",
   "nbconvert_exporter": "python",
   "pygments_lexer": "ipython3",
   "version": "3.10.12"
  }
 },
 "nbformat": 4,
 "nbformat_minor": 4
}
