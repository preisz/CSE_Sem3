{
 "cells": [
  {
   "cell_type": "markdown",
   "metadata": {},
   "source": [
    "## Postprocessing with pyhton\n",
    "For Python-postprocessing we are going to use the python-library [`hdf5_tools.py`](https://gitlab.com/openCFS/cfs/-/blob/master/share/python/hdf5_tools.py). This library is also enrolled automatic with every openCFS-version and can be found under `/path/to/install/dir/CFS/share/python/hdf5_tools.py`.\n",
    "\n",
    "In this tutorial we are going to use two functions from `hdf5_tools.py`:\n",
    "* `get_result()`\n",
    "* `get_coordinates()`\n",
    "\n",
    "How each function works, is described in the according docstring.\n",
    "\n",
    "Lets start with reading the nodal result (temperature) out of the CFS-file with `get_result()`:"
   ]
  },
  {
   "cell_type": "code",
   "execution_count": null,
   "metadata": {},
   "outputs": [],
   "source": [
    "import numpy as np\n",
    "import matplotlib.pyplot as plt\n",
    "import sys\n",
    "sys.path.insert(0, \"./PetraMaster/WS23/FEM-MultiPhys/CFS-2023W-Linux/share/python/hdf\")\n",
    "from hdf5_tools import get_result, get_coordinates\n",
    "\n",
    "#Reading in the cfs-file, instert here the path to your cfs-file\n",
    "hdf5=f'./results_hdf5/transf.cfs'\n",
    "\n",
    "#Reading the temperatue out of the cfs-file\n",
    "X=get_coordinates(hdf5)"
   ]
  },
  {
   "cell_type": "code",
   "execution_count": null,
   "metadata": {},
   "outputs": [],
   "source": [
    "T_max=T.max()\n",
    "print(f'The maximal temperature is {np.round(T_max,3)}°C.')\n",
    "T_min=T.min()\n",
    "print(f'The minimal temperature is {np.round(T_min,3)}°C.')"
   ]
  },
  {
   "cell_type": "code",
   "execution_count": 2,
   "metadata": {},
   "outputs": [],
   "source": [
    "import numpy as np\n",
    "\n",
    "# Generate 200  angles in radians between 0 and pi (0 and 180 degrees)\n",
    "phi_values = np.linspace(0, np.pi, 200)\n",
    "\n",
    "# Corresponding x, y coordinates in Cartesian coordinates\n",
    "x_coordinates = np.cos(phi_values)\n",
    "y_coordinates = np.sin(phi_values)\n",
    "\n",
    "# Combine x and y coordinates into a 2D NumPy array\n",
    "coordinates_array = np.column_stack((x_coordinates, y_coordinates))\n",
    "\n",
    "# Save the NumPy array to a file (e.g., CSV)\n",
    "np.savetxt(\"coordinates.csv\", coordinates_array, delimiter=\",\")"
   ]
  },
  {
   "cell_type": "code",
   "execution_count": null,
   "metadata": {},
   "outputs": [],
   "source": []
  }
 ],
 "metadata": {
  "kernelspec": {
   "display_name": "Python 3",
   "language": "python",
   "name": "python3"
  },
  "language_info": {
   "codemirror_mode": {
    "name": "ipython",
    "version": 3
   },
   "file_extension": ".py",
   "mimetype": "text/x-python",
   "name": "python",
   "nbconvert_exporter": "python",
   "pygments_lexer": "ipython3",
   "version": "3.10.12"
  }
 },
 "nbformat": 4,
 "nbformat_minor": 4
}
