{
 "cells": [
  {
   "cell_type": "code",
   "execution_count": 8,
   "id": "28446377",
   "metadata": {},
   "outputs": [],
   "source": [
    "E3 = 1250 #V/mm\n",
    "d31eff = 3.536e-10 #C/N\n",
    "A2 = 0.4 * 35 # mm^2\n",
    "FB = 256 #N, blocking force\n",
    "L0 = -27e-3 #nominal displ. in mm\n",
    "s1 = -650e-6 * 1000 #650 micrometer/meter in micrometer/mm, strain in (1)direction"
   ]
  },
  {
   "cell_type": "code",
   "execution_count": 6,
   "id": "a3ae7d3f",
   "metadata": {},
   "outputs": [
    {
     "data": {
      "text/plain": [
       "2.4171875e-08"
      ]
     },
     "execution_count": 6,
     "metadata": {},
     "output_type": "execute_result"
    }
   ],
   "source": [
    "S11 = (A2/FB) * d31eff * E3\n",
    "S11"
   ]
  },
  {
   "cell_type": "code",
   "execution_count": 12,
   "id": "e8bf3650",
   "metadata": {},
   "outputs": [
    {
     "data": {
      "text/plain": [
       "-0.03554689917187501"
      ]
     },
     "execution_count": 12,
     "metadata": {},
     "output_type": "execute_result"
    }
   ],
   "source": [
    "S12 = (s1 - d31eff*E3) *(A2/FB); S12"
   ]
  },
  {
   "cell_type": "code",
   "execution_count": null,
   "id": "0dd35c96",
   "metadata": {},
   "outputs": [],
   "source": []
  }
 ],
 "metadata": {
  "kernelspec": {
   "display_name": "Python 3 (ipykernel)",
   "language": "python",
   "name": "python3"
  },
  "language_info": {
   "codemirror_mode": {
    "name": "ipython",
    "version": 3
   },
   "file_extension": ".py",
   "mimetype": "text/x-python",
   "name": "python",
   "nbconvert_exporter": "python",
   "pygments_lexer": "ipython3",
   "version": "3.11.5"
  }
 },
 "nbformat": 4,
 "nbformat_minor": 5
}
