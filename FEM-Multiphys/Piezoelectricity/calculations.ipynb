{
 "cells": [
  {
   "cell_type": "code",
   "execution_count": 39,
   "id": "28446377",
   "metadata": {},
   "outputs": [],
   "source": [
    "E3 = 1250 #V/mm\n",
    "E3meter = E3*1000 #Electric field in V/m\n",
    "d31eff = -3.536e-10 #C/N\n",
    "A2 = 0.4 * 35 # mm^2\n",
    "FB = 256 #N, blocking force\n",
    "L0 = -27e-3 #nominal displ. in mm\n",
    "s1 = -650e-6 #650 micrometer/meter \n",
    "t = 0.4e-3\n",
    "w= 35e-3"
   ]
  },
  {
   "cell_type": "code",
   "execution_count": 41,
   "id": "a3ae7d3f",
   "metadata": {},
   "outputs": [
    {
     "data": {
      "text/plain": [
       "1250000"
      ]
     },
     "execution_count": 41,
     "metadata": {},
     "output_type": "execute_result"
    }
   ],
   "source": [
    "S11 = -(A2/FB) * d31eff * E3\n",
    "S11\n",
    "E3meter"
   ]
  },
  {
   "cell_type": "code",
   "execution_count": 35,
   "id": "e8bf3650",
   "metadata": {},
   "outputs": [
    {
     "name": "stdout",
     "output_type": "stream",
     "text": [
      "S_12= -1.1374999999999999e-05 mm²/N,  =  -1.1374999999999998e-11 m²/N\n"
     ]
    }
   ],
   "source": [
    "S12 = (s1 - d31eff*E3meter) *(A2/FB); S12_SI = S12*1e-6\n",
    "\n",
    "print(\"S_12=\", S12, \"mm²/N,  = \", S12_SI , \"m²/N\")\n"
   ]
  },
  {
   "cell_type": "code",
   "execution_count": 42,
   "metadata": {},
   "outputs": [
    {
     "data": {
      "text/plain": [
       "-1.1375e-11"
      ]
     },
     "execution_count": 42,
     "metadata": {},
     "output_type": "execute_result"
    }
   ],
   "source": [
    "S12 = (s1 - d31eff * E3meter)/(FB/(t*w)); S12"
   ]
  },
  {
   "cell_type": "code",
   "execution_count": 32,
   "metadata": {},
   "outputs": [
    {
     "data": {
      "text/plain": [
       "8.993563980776258"
      ]
     },
     "execution_count": 32,
     "metadata": {},
     "output_type": "execute_result"
    }
   ],
   "source": [
    "S11_SI = S11 *1e-3; S11_SI\n",
    "\n",
    "E_sim_SI = 1/S11_SI; E_sim_SI /1e9\n",
    "\n",
    "S11_original = 16.1e-12\n",
    "E_original = 1/S11_original\n",
    "print(\"Original youngs modulus = 1/S11= \", E_original, \"Pa = \", E_original/1e9 , \" GPa\")\n",
    "\n",
    "k2 = E_sim_SI/(4.6e9) #change in Youngs modulus\n",
    "k2\n",
    "print()"
   ]
  },
  {
   "cell_type": "code",
   "execution_count": 33,
   "metadata": {},
   "outputs": [
    {
     "name": "stdout",
     "output_type": "stream",
     "text": [
      "Effective rho:  10612.405497315985 \n",
      "Effective poissons ratio:  3.5974255923105036\n"
     ]
    }
   ],
   "source": [
    "rho_sim = 1180 * k2\n",
    "v_sim = 0.4 * k2 #poi\n",
    "\n",
    "print(\"Effective rho: \", rho_sim, \"\\nEffective poissons ratio: \", v_sim)"
   ]
  },
  {
   "cell_type": "code",
   "execution_count": null,
   "metadata": {},
   "outputs": [],
   "source": []
  }
 ],
 "metadata": {
  "kernelspec": {
   "display_name": "Python 3 (ipykernel)",
   "language": "python",
   "name": "python3"
  },
  "language_info": {
   "codemirror_mode": {
    "name": "ipython",
    "version": 3
   },
   "file_extension": ".py",
   "mimetype": "text/x-python",
   "name": "python",
   "nbconvert_exporter": "python",
   "pygments_lexer": "ipython3",
   "version": "3.10.12"
  }
 },
 "nbformat": 4,
 "nbformat_minor": 5
}
