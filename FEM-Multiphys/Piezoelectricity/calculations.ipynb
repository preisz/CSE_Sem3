{
 "cells": [
  {
   "cell_type": "code",
   "execution_count": 1,
   "id": "28446377",
   "metadata": {},
   "outputs": [],
   "source": [
    "E3 = 1250 #V/mm\n",
    "E3meter = E3*1000 #Electric field in V/m\n",
    "d31eff = -3.536e-10 #C/N\n",
    "A2 = 0.4 * 35 # mm^2\n",
    "FB = 256 #N, blocking force\n",
    "L0 = -27e-3 #nominal displ. in mm\n",
    "s1 = -650e-6 #650 micrometer/meter \n",
    "t = 0.4e-3\n",
    "w= 35e-3\n",
    "l = 61e-3 #length path\n",
    "eps33 = 1.5494e-8\n",
    "eps11 = 1.4069e-8"
   ]
  },
  {
   "cell_type": "code",
   "execution_count": 17,
   "id": "a3ae7d3f",
   "metadata": {},
   "outputs": [
    {
     "data": {
      "text/plain": [
       "2.4171875000000002e-11"
      ]
     },
     "execution_count": 17,
     "metadata": {},
     "output_type": "execute_result"
    }
   ],
   "source": [
    "S11 = -((t*w)/FB) * d31eff * E3meter\n",
    "#S11 = -(A2/FB) * d31eff * E3\n",
    "\n",
    "S11"
   ]
  },
  {
   "cell_type": "code",
   "execution_count": 4,
   "metadata": {},
   "outputs": [
    {
     "data": {
      "text/plain": [
       "-1.1375e-11"
      ]
     },
     "execution_count": 4,
     "metadata": {},
     "output_type": "execute_result"
    }
   ],
   "source": [
    "S12 = (s1 - d31eff * E3meter)/(FB/(t*w)); S12"
   ]
  },
  {
   "cell_type": "code",
   "execution_count": 5,
   "metadata": {},
   "outputs": [
    {
     "name": "stdout",
     "output_type": "stream",
     "text": [
      "Original youngs modulus = 1/S11=  62111801242.23602 Pa =  62.11180124223602  GPa\n",
      "0.6660633484162897\n",
      "Change factor k2 = E_sim/E_original =  41.370394311570784 _/ 62.11180124223602 =  0.6660633484162897\n"
     ]
    }
   ],
   "source": [
    "S11_SI = S11 *1e-3; S11_SI\n",
    "\n",
    "E_sim_SI = 1/S11_SI; E_sim_SI /1e9\n",
    "\n",
    "S11_original = 16.1e-12\n",
    "E_original = 1/S11_original\n",
    "print(\"Original youngs modulus = 1/S11= \", E_original, \"Pa = \", E_original/1e9 , \" GPa\")\n",
    "\n",
    "k2 = (E_sim_SI/E_original)\n",
    "print(k2)\n",
    "print(\"Change factor k2 = E_sim/E_original = \", E_sim_SI /1e9, \"_/\", E_original /1e9 ,\"= \", (E_sim_SI/E_original))"
   ]
  },
  {
   "cell_type": "code",
   "execution_count": 6,
   "metadata": {},
   "outputs": [
    {
     "name": "stdout",
     "output_type": "stream",
     "text": [
      "Effective rho:  5195.2941176470595 \n",
      "Effective poissons ratios:\n",
      "v_12= 0.23978280542986427 \n",
      "v_13= 0.3063891402714933\n"
     ]
    }
   ],
   "source": [
    "rho_sim = 7800 * k2\n",
    "v12_sim = 0.36 * k2 #poissons ratio\n",
    "v13_sim = 0.46 * k2\n",
    "\n",
    "print(\"Effective rho: \", rho_sim, \"\\nEffective poissons ratios:\\nv_12=\", v12_sim, \"\\nv_13=\", v13_sim)"
   ]
  },
  {
   "cell_type": "code",
   "execution_count": 7,
   "metadata": {},
   "outputs": [
    {
     "name": "stdout",
     "output_type": "stream",
     "text": [
      "eps33_sim =  1.686182669789227e-08\n",
      "k3= 1.0882810570473906\n",
      "eps11_sim= 1.531102619159974e-08\n"
     ]
    }
   ],
   "source": [
    "eps33_sim = (90e-9 * t)/(w*l)\n",
    "print(\"eps33_sim = \", eps33_sim)\n",
    "k3 = eps33_sim / eps33\n",
    "print(\"k3=\",k3 )\n",
    "\n",
    "print(\"eps11_sim=\", eps11 * k3)\n",
    "\n"
   ]
  },
  {
   "cell_type": "code",
   "execution_count": 18,
   "metadata": {},
   "outputs": [
    {
     "name": "stdout",
     "output_type": "stream",
     "text": [
      "S44_sim = 2.7974660633484165e-11\n",
      "S33_sim = 1.3787511312217196e-11\n",
      "S13_sim = -5.661538461538462e-12\n",
      "S66_sim = 7.109375e-11\n"
     ]
    }
   ],
   "source": [
    "S_44 =  42e-12\n",
    "S_44sim = k2 * S_44; print(\"S44_sim =\", S_44sim)\n",
    "S_33 = 20.7e-12\n",
    "S33_sim = k2*S_33; print(\"S33_sim =\", S33_sim)\n",
    "S13= -8.5e-12\n",
    "S_13sim = k2 * S13; print(\"S13_sim =\", S_13sim)\n",
    "\n",
    "S_66sim = 2*(S11 - S12); print(\"S66_sim =\", S_66sim)\n",
    "\n"
   ]
  },
  {
   "cell_type": "code",
   "execution_count": 22,
   "metadata": {},
   "outputs": [
    {
     "name": "stdout",
     "output_type": "stream",
     "text": [
      "E=  [[6.06501270e+10 2.85559969e+10 2.48977788e+10 0.00000000e+00\n",
      "  0.00000000e+00 0.00000000e+00]\n",
      " [2.85559969e+10 5.48186696e+10 1.17226612e+10 0.00000000e+00\n",
      "  0.00000000e+00 0.00000000e+00]\n",
      " [2.48977788e+10 1.17226612e+10 8.27372245e+10 0.00000000e+00\n",
      "  0.00000000e+00 0.00000000e+00]\n",
      " [0.00000000e+00 0.00000000e+00 0.00000000e+00 3.57525921e+10\n",
      "  0.00000000e+00 0.00000000e+00]\n",
      " [0.00000000e+00 0.00000000e+00 0.00000000e+00 0.00000000e+00\n",
      "  3.57525921e+10 0.00000000e+00]\n",
      " [0.00000000e+00 0.00000000e+00 0.00000000e+00 0.00000000e+00\n",
      "  0.00000000e+00 1.40646976e+10]]\n"
     ]
    }
   ],
   "source": [
    "import numpy as np\n",
    "SE = np.array([\n",
    "    [2.417E-11, -1.138E-11, -5.661E-12, 0.000E+00, 0.000E+00, 0.000E+00],\n",
    "    [-1.138E-11, 2.417E-11, 0.000E+00, 0.000E+00, 0.000E+00, 0.000E+00],\n",
    "    [-5.661E-12, 0.000E+00, 1.379E-11, 0.000E+00, 0.000E+00, 0.000E+00],\n",
    "    [0.000E+00, 0.000E+00, 0.000E+00, 2.797E-11, 0.000E+00, 0.000E+00],\n",
    "    [0.000E+00, 0.000E+00, 0.000E+00, 0.000E+00, 2.797E-11, 0.000E+00],\n",
    "    [0.000E+00, 0.000E+00, 0.000E+00, 0.000E+00, 0.000E+00, 7.110E-11]\n",
    "])\n",
    "\n",
    "Elasticity_tensor = np.linalg.inv(SE)\n",
    "print(\"E= \", Elasticity_tensor)\n"
   ]
  },
  {
   "cell_type": "code",
   "execution_count": null,
   "metadata": {},
   "outputs": [],
   "source": []
  }
 ],
 "metadata": {
  "kernelspec": {
   "display_name": "Python 3 (ipykernel)",
   "language": "python",
   "name": "python3"
  },
  "language_info": {
   "codemirror_mode": {
    "name": "ipython",
    "version": 3
   },
   "file_extension": ".py",
   "mimetype": "text/x-python",
   "name": "python",
   "nbconvert_exporter": "python",
   "pygments_lexer": "ipython3",
   "version": "3.10.12"
  }
 },
 "nbformat": 4,
 "nbformat_minor": 5
}
