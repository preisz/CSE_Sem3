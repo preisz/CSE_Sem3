{
 "cells": [
  {
   "cell_type": "code",
   "execution_count": 22,
   "id": "28446377",
   "metadata": {},
   "outputs": [],
   "source": [
    "E3 = 1250 #V/mm\n",
    "E3meter = E3*1000 #Electric field in V/m\n",
    "d31eff = -3.536e-10 #C/N\n",
    "A2 = 0.4 * 35 # mm^2\n",
    "FB = 256 #N, blocking force\n",
    "L0 = -27e-3 #nominal displ. in mm\n",
    "s1 = -650e-6 #650 micrometer/meter \n",
    "t = 0.4e-3\n",
    "w= 35e-3\n",
    "l = 61e-3 #length path\n",
    "eps33 = 1.5494e-8\n",
    "eps11 = 1.4069e-8"
   ]
  },
  {
   "cell_type": "code",
   "execution_count": 4,
   "id": "a3ae7d3f",
   "metadata": {},
   "outputs": [
    {
     "data": {
      "text/plain": [
       "1250000"
      ]
     },
     "execution_count": 4,
     "metadata": {},
     "output_type": "execute_result"
    }
   ],
   "source": [
    "S11 = -(A2/FB) * d31eff * E3\n",
    "S11\n",
    "E3meter"
   ]
  },
  {
   "cell_type": "code",
   "execution_count": 5,
   "id": "e8bf3650",
   "metadata": {},
   "outputs": [
    {
     "name": "stdout",
     "output_type": "stream",
     "text": [
      "S_12= -1.1374999999999999e-05 mm²/N,  =  -1.1374999999999998e-11 m²/N\n"
     ]
    }
   ],
   "source": [
    "S12 = (s1 - d31eff*E3meter) *(A2/FB); S12_SI = S12*1e-6\n",
    "\n",
    "print(\"S_12=\", S12, \"mm²/N,  = \", S12_SI , \"m²/N\")\n"
   ]
  },
  {
   "cell_type": "code",
   "execution_count": 6,
   "metadata": {},
   "outputs": [
    {
     "data": {
      "text/plain": [
       "-1.1375e-11"
      ]
     },
     "execution_count": 6,
     "metadata": {},
     "output_type": "execute_result"
    }
   ],
   "source": [
    "S12 = (s1 - d31eff * E3meter)/(FB/(t*w)); S12"
   ]
  },
  {
   "cell_type": "code",
   "execution_count": 15,
   "metadata": {},
   "outputs": [
    {
     "name": "stdout",
     "output_type": "stream",
     "text": [
      "Original youngs modulus = 1/S11=  62111801242.23602 Pa =  62.11180124223602  GPa\n",
      "0.6660633484162897\n",
      "Change factor k2 = E_sim/E_original =  41.370394311570784 _/ 62.11180124223602 =  0.6660633484162897\n"
     ]
    }
   ],
   "source": [
    "S11_SI = S11 *1e-3; S11_SI\n",
    "\n",
    "E_sim_SI = 1/S11_SI; E_sim_SI /1e9\n",
    "\n",
    "S11_original = 16.1e-12\n",
    "E_original = 1/S11_original\n",
    "print(\"Original youngs modulus = 1/S11= \", E_original, \"Pa = \", E_original/1e9 , \" GPa\")\n",
    "\n",
    "k2 = (E_sim_SI/E_original)\n",
    "print(k2)\n",
    "print(\"Change factor k2 = E_sim/E_original = \", E_sim_SI /1e9, \"_/\", E_original /1e9 ,\"= \", (E_sim_SI/E_original))"
   ]
  },
  {
   "cell_type": "code",
   "execution_count": 16,
   "metadata": {},
   "outputs": [
    {
     "name": "stdout",
     "output_type": "stream",
     "text": [
      "Effective rho:  5195.2941176470595 \n",
      "Effective poissons ratios:\n",
      "v_12= 0.23978280542986427 \n",
      "v_13= 0.3063891402714933\n"
     ]
    }
   ],
   "source": [
    "rho_sim = 7800 * k2\n",
    "v12_sim = 0.36 * k2 #poissons ratio\n",
    "v13_sim = 0.46 * k2\n",
    "\n",
    "print(\"Effective rho: \", rho_sim, \"\\nEffective poissons ratios:\\nv_12=\", v12_sim, \"\\nv_13=\", v13_sim)"
   ]
  },
  {
   "cell_type": "code",
   "execution_count": 26,
   "metadata": {},
   "outputs": [
    {
     "name": "stdout",
     "output_type": "stream",
     "text": [
      "eps33_sim =  1.686182669789227e-08\n",
      "k3= 1.0882810570473906\n",
      "eps11_sim= 1.531102619159974e-08\n"
     ]
    }
   ],
   "source": [
    "eps33_sim = (90e-9 * t)/(w*l)\n",
    "print(\"eps33_sim = \", eps33_sim)\n",
    "k3 = eps33_sim / eps33\n",
    "print(\"k3=\",k3 )\n",
    "\n",
    "print(\"eps11_sim=\", eps11 * k3)\n",
    "\n"
   ]
  },
  {
   "cell_type": "code",
   "execution_count": 19,
   "metadata": {},
   "outputs": [
    {
     "data": {
      "text/plain": [
       "0.002135"
      ]
     },
     "execution_count": 19,
     "metadata": {},
     "output_type": "execute_result"
    }
   ],
   "source": []
  },
  {
   "cell_type": "code",
   "execution_count": null,
   "metadata": {},
   "outputs": [],
   "source": []
  }
 ],
 "metadata": {
  "kernelspec": {
   "display_name": "Python 3 (ipykernel)",
   "language": "python",
   "name": "python3"
  },
  "language_info": {
   "codemirror_mode": {
    "name": "ipython",
    "version": 3
   },
   "file_extension": ".py",
   "mimetype": "text/x-python",
   "name": "python",
   "nbconvert_exporter": "python",
   "pygments_lexer": "ipython3",
   "version": "3.10.12"
  }
 },
 "nbformat": 4,
 "nbformat_minor": 5
}
