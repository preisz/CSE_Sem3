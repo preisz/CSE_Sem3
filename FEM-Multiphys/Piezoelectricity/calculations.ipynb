{
 "cells": [
  {
   "cell_type": "code",
   "execution_count": 11,
   "id": "28446377",
   "metadata": {},
   "outputs": [
    {
     "data": {
      "text/plain": [
       "1250000.0"
      ]
     },
     "execution_count": 11,
     "metadata": {},
     "output_type": "execute_result"
    }
   ],
   "source": [
    "E3_milimeter= 1250 #V/mm\n",
    "E3 = E3_milimeter*1000 #Electric field in V/m\n",
    "V = 500 #vVolt\n",
    "s1 = -650e-6 #strain in width direction\n",
    "\n",
    "d31 = -180e-12 #C/N\n",
    "d33 = 400e-12\n",
    "d15 = 550e-12\n",
    "\n",
    "FB = 256 #N, blocking force\n",
    "deltaL0 = -27e-6 #nominal displ. in m\n",
    "\n",
    "eps33 = 1.5494e-8 #permittivities in (As)/(Vm)\n",
    "eps11 = 1.4069-8\n",
    "\n",
    "S11 = 16.1e-12 #in m²/N\n",
    "S12 = -4.7e-12\n",
    "S13 = -8.5e-12\n",
    "S33 = 20.7e-12\n",
    "S44 = 42e-12\n",
    "\n",
    "lp = 61e-3\n",
    "wp = 35e-3\n",
    "tp = 0.4e-3 #dimensions of piezoplate in m\n",
    "A = tp * wp #surface where apply blocking force\n",
    "\n",
    "V/tp"
   ]
  },
  {
   "cell_type": "code",
   "execution_count": 10,
   "id": "a3ae7d3f",
   "metadata": {},
   "outputs": [
    {
     "name": "stdout",
     "output_type": "stream",
     "text": [
      "d_31Sim =  -3.540983606557377e-10\n",
      "k1= 1.9672131147540983\n",
      "d_33Sim =  7.868852459016394e-10 \n",
      "d15sim =  1.081967213114754e-09\n"
     ]
    }
   ],
   "source": [
    "d31sim = (deltaL0/lp)/(V/tp); print(\"d_31Sim = \", d31sim)\n",
    "k1 = d31sim/d31; print(\"k1=\", k1)\n",
    "d33sim = d33*k1; d15sim = d15*k1\n",
    "print(\"d_33Sim = \", d33sim, \"\\nd15sim = \", d15sim)"
   ]
  },
  {
   "cell_type": "code",
   "execution_count": 12,
   "metadata": {},
   "outputs": [
    {
     "name": "stdout",
     "output_type": "stream",
     "text": [
      "S11eff =  2.420594262295082e-11\n"
     ]
    }
   ],
   "source": [
    "S11eff = ( -d31sim*(V/tp) )/(FB/A); print(\"S11eff = \", S11eff)"
   ]
  },
  {
   "cell_type": "code",
   "execution_count": 5,
   "metadata": {},
   "outputs": [
    {
     "name": "stdout",
     "output_type": "stream",
     "text": [
      "Original youngs modulus = 1/S11=  62111801242.23602 Pa =  62.11180124223602  GPa\n",
      "0.6660633484162897\n",
      "Change factor k2 = E_sim/E_original =  41.370394311570784 _/ 62.11180124223602 =  0.6660633484162897\n"
     ]
    }
   ],
   "source": [
    "S11_SI = S11 *1e-3; S11_SI\n",
    "\n",
    "E_sim_SI = 1/S11_SI; E_sim_SI /1e9\n",
    "\n",
    "S11_original = 16.1e-12\n",
    "E_original = 1/S11_original\n",
    "print(\"Original youngs modulus = 1/S11= \", E_original, \"Pa = \", E_original/1e9 , \" GPa\")\n",
    "\n",
    "k2 = (E_sim_SI/E_original)\n",
    "print(k2)\n",
    "print(\"Change factor k2 = E_sim/E_original = \", E_sim_SI /1e9, \"_/\", E_original /1e9 ,\"= \", (E_sim_SI/E_original))"
   ]
  },
  {
   "cell_type": "code",
   "execution_count": 6,
   "metadata": {},
   "outputs": [
    {
     "name": "stdout",
     "output_type": "stream",
     "text": [
      "Effective rho:  5195.2941176470595 \n",
      "Effective poissons ratios:\n",
      "v_12= 0.23978280542986427 \n",
      "v_13= 0.3063891402714933\n"
     ]
    }
   ],
   "source": [
    "rho_sim = 7800 * k2\n",
    "v12_sim = 0.36 * k2 #poissons ratio\n",
    "v13_sim = 0.46 * k2\n",
    "\n",
    "print(\"Effective rho: \", rho_sim, \"\\nEffective poissons ratios:\\nv_12=\", v12_sim, \"\\nv_13=\", v13_sim)"
   ]
  },
  {
   "cell_type": "code",
   "execution_count": 7,
   "metadata": {},
   "outputs": [
    {
     "name": "stdout",
     "output_type": "stream",
     "text": [
      "eps33_sim =  1.686182669789227e-08\n",
      "k3= 1.0882810570473906\n",
      "eps11_sim= 1.531102619159974e-08\n"
     ]
    }
   ],
   "source": [
    "eps33_sim = (90e-9 * t)/(w*l)\n",
    "print(\"eps33_sim = \", eps33_sim)\n",
    "k3 = eps33_sim / eps33\n",
    "print(\"k3=\",k3 )\n",
    "\n",
    "print(\"eps11_sim=\", eps11 * k3)\n",
    "\n"
   ]
  },
  {
   "cell_type": "code",
   "execution_count": 18,
   "metadata": {},
   "outputs": [
    {
     "name": "stdout",
     "output_type": "stream",
     "text": [
      "S44_sim = 2.7974660633484165e-11\n",
      "S33_sim = 1.3787511312217196e-11\n",
      "S13_sim = -5.661538461538462e-12\n",
      "S66_sim = 7.109375e-11\n"
     ]
    }
   ],
   "source": [
    "S_44 =  42e-12\n",
    "S_44sim = k2 * S_44; print(\"S44_sim =\", S_44sim)\n",
    "S_33 = 20.7e-12\n",
    "S33_sim = k2*S_33; print(\"S33_sim =\", S33_sim)\n",
    "S13= -8.5e-12\n",
    "S_13sim = k2 * S13; print(\"S13_sim =\", S_13sim)\n",
    "\n",
    "S_66sim = 2*(S11 - S12); print(\"S66_sim =\", S_66sim)\n",
    "\n"
   ]
  },
  {
   "cell_type": "code",
   "execution_count": 22,
   "metadata": {},
   "outputs": [
    {
     "name": "stdout",
     "output_type": "stream",
     "text": [
      "E=  [[6.06501270e+10 2.85559969e+10 2.48977788e+10 0.00000000e+00\n",
      "  0.00000000e+00 0.00000000e+00]\n",
      " [2.85559969e+10 5.48186696e+10 1.17226612e+10 0.00000000e+00\n",
      "  0.00000000e+00 0.00000000e+00]\n",
      " [2.48977788e+10 1.17226612e+10 8.27372245e+10 0.00000000e+00\n",
      "  0.00000000e+00 0.00000000e+00]\n",
      " [0.00000000e+00 0.00000000e+00 0.00000000e+00 3.57525921e+10\n",
      "  0.00000000e+00 0.00000000e+00]\n",
      " [0.00000000e+00 0.00000000e+00 0.00000000e+00 0.00000000e+00\n",
      "  3.57525921e+10 0.00000000e+00]\n",
      " [0.00000000e+00 0.00000000e+00 0.00000000e+00 0.00000000e+00\n",
      "  0.00000000e+00 1.40646976e+10]]\n"
     ]
    }
   ],
   "source": [
    "import numpy as np\n",
    "SE = np.array([\n",
    "    [2.417E-11, -1.138E-11, -5.661E-12, 0.000E+00, 0.000E+00, 0.000E+00],\n",
    "    [-1.138E-11, 2.417E-11, 0.000E+00, 0.000E+00, 0.000E+00, 0.000E+00],\n",
    "    [-5.661E-12, 0.000E+00, 1.379E-11, 0.000E+00, 0.000E+00, 0.000E+00],\n",
    "    [0.000E+00, 0.000E+00, 0.000E+00, 2.797E-11, 0.000E+00, 0.000E+00],\n",
    "    [0.000E+00, 0.000E+00, 0.000E+00, 0.000E+00, 2.797E-11, 0.000E+00],\n",
    "    [0.000E+00, 0.000E+00, 0.000E+00, 0.000E+00, 0.000E+00, 7.110E-11]\n",
    "])\n",
    "\n",
    "Elasticity_tensor = np.linalg.inv(SE)\n",
    "print(\"E= \", Elasticity_tensor)\n"
   ]
  },
  {
   "cell_type": "code",
   "execution_count": null,
   "metadata": {},
   "outputs": [],
   "source": []
  }
 ],
 "metadata": {
  "kernelspec": {
   "display_name": "Python 3 (ipykernel)",
   "language": "python",
   "name": "python3"
  },
  "language_info": {
   "codemirror_mode": {
    "name": "ipython",
    "version": 3
   },
   "file_extension": ".py",
   "mimetype": "text/x-python",
   "name": "python",
   "nbconvert_exporter": "python",
   "pygments_lexer": "ipython3",
   "version": "3.10.12"
  }
 },
 "nbformat": 4,
 "nbformat_minor": 5
}
