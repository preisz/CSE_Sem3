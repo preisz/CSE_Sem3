{
 "cells": [
  {
   "cell_type": "markdown",
   "metadata": {},
   "source": [
    "# Plate with Piezoelectric patches"
   ]
  },
  {
   "cell_type": "markdown",
   "metadata": {},
   "source": [
    "## Problem description\n",
    "\n",
    "A plate with piezoelectric patches is considered. The plate is fixed on the sides ($\\Gamma_{s}$) and has 3 piezoelectric patches attached on the front, as shown in the figures $1$ and $2$, to measure the response of the plate under different loading conditions. The piezoelectric patches are made up of the piezoceramic material PIC 255. Electrodes (of negligible thickness) are located on the top and bottom of the piezoceramic material, and it is insulated by an insulating material as shown in the figure $3$. The plate is made of polymethyl methacrylate (PMMA), and the dimensions are $l$ = 750 mm, $w$ = 450 mm, $t$ = 8 mm. The dimensions of the simplified model (used for modeling) of the piezoelectric patch are $l_{p}$ = 61 mm, $w_{p}$ = 35 mm, $t_{p}$ = 0.4 mm as shown in the figure $4$. "
   ]
  },
  {
   "cell_type": "markdown",
   "metadata": {},
   "source": [
    "\n",
    "![Geometry](./patch1.png)"
   ]
  },
  {
   "cell_type": "markdown",
   "metadata": {},
   "source": [
    "|Material data for PMMA|Value|\n",
    "|--|:--:|\n",
    "|Density (kg/m³)|1180|\n",
    "|Young's modulus E, (GPa)|4.5|\n",
    "|Poisson's ratio|0.4|\n",
    "\n",
    "\n",
    "To complete the homework assignment follow the tasks and questions below."
   ]
  },
  {
   "cell_type": "markdown",
   "metadata": {},
   "source": [
    "# Assignment tasks"
   ]
  },
  {
   "cell_type": "markdown",
   "metadata": {},
   "source": [
    "### 1. Create a suitable mesh for the problem\n",
    "\n",
    "* Create hexahedral mesh (2 elements per layer in thickness direction should be sufficient). **(1 Point)**.\n",
    "* Use 2nd order elements (element type HEX20). **(0.5 Points)**.\n",
    "* Define the necessary regions, assign meaningful names and show the mesh.  **(0.5 Points)** "
   ]
  },
  {
   "cell_type": "markdown",
   "metadata": {},
   "source": [
    "To reproduce the geomertry, just take the file *hw2.jou*"
   ]
  },
  {
   "cell_type": "markdown",
   "metadata": {},
   "source": [
    "### 2. Modelling assumptions"
   ]
  },
  {
   "cell_type": "markdown",
   "metadata": {},
   "source": [
    "What are the modelling assumptions in the conducted simulation? Consider PDEs, boundary conditions, material models, and analysis type, ... (**2 Points**)"
   ]
  },
  {
   "cell_type": "markdown",
   "metadata": {},
   "source": [
    "### 3. Material data\n",
    "\n",
    "The material data of the piezoceramic PIC 255 are given below,\n",
    "\n",
    "Compliance tensor: $$\\boldsymbol{S}=\\begin{bmatrix}\n",
    "S_{11} & S_{12} & S_{13} & 0 & 0 & 0 \\\\\n",
    "S_{12} & S_{11} & S_{13} & 0 & 0 & 0 \\\\\n",
    "S_{13} & S_{13} & S_{33} & 0 & 0 & 0 \\\\\n",
    "0 & 0 & 0 & S_{44} & 0 & 0 \\\\\n",
    "0 & 0 & 0 & 0 & S_{44} & 0 \\\\\n",
    "0 & 0 & 0 & 0 & 0 & 2(S_{11}-S_{12}) \n",
    "\\end{bmatrix}$$\n",
    "\n",
    "\n",
    "with \n",
    "$S_{11} = 16.1\\cdot 10^{-12}\\frac{m^2}{N},$\n",
    "$S_{12} = -4.7\\cdot 10^{-12}\\frac{m^2}{N}$, \n",
    "$S_{13} = -8.5\\cdot 10^{-12}\\frac{m^2}{N}$,\n",
    "$S_{33} = 20.7\\cdot 10^{-12}\\frac{m^2}{N}$, \n",
    "$S_{44} = 42\\cdot 10^{-12}\\frac{m^2}{N}$, \n",
    "\n",
    "$d_{31}=-180\\cdot 10^{-12}\\frac{C}{N},$ \n",
    "$d_{33}= 400\\cdot 10^{-12}\\frac{C}{N},$ and\n",
    "$d_{15}= 550\\cdot 10^{-12}\\frac{C}{N},$ \n",
    "\n",
    "$\\epsilon_{11}= 1.4069\\cdot 10^{-8}\\frac{As}{Vm}$,\n",
    "$\\epsilon_{33}= 1.5494\\cdot 10^{-8}\\frac{As}{Vm}$,\n",
    "\n",
    "Density $\\rho = 7800 \\frac{kg}{m^{3}}$\n",
    "\n",
    "\n",
    "The piezoceramic PIC255 is polarized in the thickness (3) direction. The blocking force of the piezoelectric patch for an applied voltage of $500V$ is $F_{max} = 256N$ in the length direction and the strain in the width direction is $-650 \\mu m/m$. The stress-free nominal displacement of the patch under the applied voltage is $\\Delta L_{0} = -27 \\mu m$ in the length direction. \n",
    " \n",
    "Calculate the significant effective material properties $d^{simp}_{31}$, $S^{simp}_{11}$, $S^{simp}_{12}$ and $\\epsilon^{simp}_{33}$ for the simplified model of the patch. Calculate the percentage change in effective material properties from the PIC255 material data and apply the change to other unknown material properties using the hints below:\n",
    " \n",
    "* Find $d^{simp}_{31}$ using the nominal displacement and the applied electric field $E_{3}$. Apply the change to $d^{simp}_{33}$ and $d^{simp}_{15}$ (Hint: Use the d-form of the constitutive relation). (**1 point**)"
   ]
  },
  {
   "cell_type": "markdown",
   "metadata": {},
   "source": []
  },
  {
   "cell_type": "markdown",
   "metadata": {},
   "source": [
    "\n",
    "* Calculate the material coefficients $S^{simp}_{11}$ and $S^{simp}_{12}$ and the effective youngs modulus $E^{simp}_{L}$ in the plane normal to thickness direction. Apply the change in young's modulus to other material coefficients. (Hint: Use the d-form and the blocking force). (**1 point**)\n"
   ]
  },
  {
   "cell_type": "markdown",
   "metadata": {},
   "source": []
  },
  {
   "cell_type": "markdown",
   "metadata": {},
   "source": [
    "* The capacitance of the piezoelectric patch is $90 nF$. Calculate the relative permittivity $\\epsilon^{simp}_{33}$ and apply the change to $\\epsilon_{11}$. (**1 point**)"
   ]
  },
  {
   "cell_type": "markdown",
   "metadata": {},
   "source": []
  },
  {
   "cell_type": "markdown",
   "metadata": {},
   "source": [
    "* Compute $\\boldsymbol{C}$ (stiffness tensor), $\\boldsymbol{\\epsilon}$ (permittivity tensor) ,$\\boldsymbol{e}$ (couple tensor in e-Form) and use your results for the material definition (`mat_eff.xml`) of the patches. (**1.5 points**)"
   ]
  },
  {
   "cell_type": "markdown",
   "metadata": {},
   "source": []
  },
  {
   "cell_type": "markdown",
   "metadata": {},
   "source": [
    "### 4. Static analysis\n",
    "* Test the model in static analysis by applying a pressure of magnitude __p__  = 1000 N/m² on the back of the plate as shown in figure 2.   **(1 point)**"
   ]
  },
  {
   "cell_type": "markdown",
   "metadata": {},
   "source": []
  },
  {
   "cell_type": "markdown",
   "metadata": {},
   "source": [
    "\n",
    "* Show the deformed shape (appropriately scaled) and visualize the computed electric potential in the piezoelectric patches.  **(1 point)**"
   ]
  },
  {
   "cell_type": "markdown",
   "metadata": {},
   "source": []
  },
  {
   "cell_type": "markdown",
   "metadata": {},
   "source": [
    "### 5. Eigenvalue analysis\n",
    "* Compute the first 10 eigenmodes of the PMMA plate with piezoelectric patches for open electrode configuration. Visualize the eigenmodes and provide the corresponding natural frequency  **(1 point)**\n"
   ]
  },
  {
   "cell_type": "markdown",
   "metadata": {},
   "source": []
  },
  {
   "cell_type": "markdown",
   "metadata": {},
   "source": [
    "\n",
    "* Consider the piezoelectric patches as sensors. Briefly discuss how we can use them to detect the eigenmodes of the structure. **(1 point)**"
   ]
  },
  {
   "cell_type": "markdown",
   "metadata": {},
   "source": []
  },
  {
   "cell_type": "markdown",
   "metadata": {},
   "source": [
    "### 6. Harmonic analysis\n",
    "* For a harmonic excitation with the pressure __p__, compute the transfer function (up to 500Hz) for the voltage at all 3 patches and the displacement of the central node of the PMMA plate. **(1 point)**"
   ]
  },
  {
   "cell_type": "markdown",
   "metadata": {},
   "source": []
  },
  {
   "cell_type": "markdown",
   "metadata": {},
   "source": [
    "\n",
    "* Plot the transfer functions and explain the peaks observed in the plot  **(1 point)**"
   ]
  },
  {
   "cell_type": "markdown",
   "metadata": {},
   "source": []
  },
  {
   "cell_type": "markdown",
   "metadata": {},
   "source": [
    "\n",
    "* Instead of harmonic pressure, apply a harmonic voltage of 500V on patch 3 and compute the transfer function (up to 500Hz) for the voltage at patches 1 and 2. Plot the transfer functions and briefly discuss what you observe. **(1.5 points)**"
   ]
  },
  {
   "cell_type": "markdown",
   "metadata": {},
   "source": []
  },
  {
   "cell_type": "markdown",
   "metadata": {},
   "source": [
    "### 7. Transient analysis\n",
    "\n",
    "\n",
    "* Calculate the rayleigh damping coefficients $\\alpha$ and $\\beta$ for a damping ratio $\\zeta$ of 0.01 at the eigenmodes $1$ and $3$ (up to 500 Hz) and use them as damping inputs in the material definition (Refer [Mechanic PDE in the CFS user documentation](https://opencfs.gitlab.io/userdocu/PDEExplanations/Singlefield/MechanicPDE/))  **(1 point)**\n"
   ]
  },
  {
   "cell_type": "markdown",
   "metadata": {},
   "source": []
  },
  {
   "cell_type": "markdown",
   "metadata": {},
   "source": [
    "\n",
    "* Set up a transient analysis of the plate from a preloaded configuration and simulate by releasing the load under rayleigh damping for 0.5 seconds with at least 1000 time steps. (Hint: Use the results from the static analysis as the preloaded configuration) **(1.5 points)**"
   ]
  },
  {
   "cell_type": "markdown",
   "metadata": {},
   "source": []
  },
  {
   "cell_type": "markdown",
   "metadata": {},
   "source": [
    "* Observe the damped response by plotting the displacement of the central node and the voltage at patch 1. Briefly discuss the frequency components present in the response and why? (Hint: FFT)  **(1.5 points)** "
   ]
  },
  {
   "cell_type": "markdown",
   "metadata": {},
   "source": []
  },
  {
   "cell_type": "markdown",
   "metadata": {},
   "source": [
    "\n",
    "## Useful references\n",
    "\n",
    "**Blocking force and nominal displacement** -   [PICeramic](https://www.piceramic.com/en/expertise/piezo-technology/properties-piezo-actuators/forces-stiffnesses/) and \n",
    "                                            [Youtube](https://youtu.be/2G7ZZGWeoaA)\n",
    "\n",
    "**Transverse isotropy**                 -   [efunda](https://www.efunda.com/formulae/solid_mechanics/mat_mechanics/hooke_iso_transverse.cfm)\n",
    "\n",
    "**Transfer function**                   -   [Siemens](https://community.sw.siemens.com/s/article/what-is-a-frequency-response-function-frf)"
   ]
  }
 ],
 "metadata": {
  "kernelspec": {
   "display_name": "Python 3.10.6 64-bit",
   "language": "python",
   "name": "python3"
  },
  "language_info": {
   "codemirror_mode": {
    "name": "ipython",
    "version": 3
   },
   "file_extension": ".py",
   "mimetype": "text/x-python",
   "name": "python",
   "nbconvert_exporter": "python",
   "pygments_lexer": "ipython3",
   "version": "3.9.13"
  },
  "vscode": {
   "interpreter": {
    "hash": "e7370f93d1d0cde622a1f8e1c04877d8463912d04d973331ad4851f04de6915a"
   }
  }
 },
 "nbformat": 4,
 "nbformat_minor": 2
}
