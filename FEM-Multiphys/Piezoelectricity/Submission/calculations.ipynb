{
 "cells": [
  {
   "cell_type": "markdown",
   "metadata": {},
   "source": [
    "<script type=\"text/javascript\" src=\"http://cdn.mathjax.org/mathjax/latest/MathJax.js?config=TeX-AMS-MML_HTMLorMML\"></script>\n",
    "<script type=\"text/x-mathjax-config\"> MathJax.Hub.Config({ tex2jax: {inlineMath: [['$', '$']]}, messageStyle: \"none\" });</script>\n",
    "\n",
    "\n",
    "## 1. Create a suitable mesh for the problem\n",
    "\n",
    "* Create hexahedral mesh (2 elements per layer in thickness direction should be sufficient). **(1 Point)**.\n",
    "* Use 2nd order elements (element type HEX20). **(0.5 Points)**.\n",
    "* Define the necessary regions, assign meaningful names and show the mesh.  **(0.5 Points)** \n",
    "\n",
    "To reproduce the geomertry, just take the file [homework2.jou](homework2.jou)\n",
    "The mesh of the structure looks as following:<br><br>\n",
    "<img src=\"images1/mesh_upView.png\" alt=\"Image 1\" style=\"width:350px; height:250px; text-align:center\" /> <br><br>\n",
    "Mesh of the PMMA Plate (left) and piezo patches (right, only one is displayed, since all patches are meshed the same way)<br>\n",
    "<img src=\"images1/meshPlate.png\" alt=\"Image 1\" style=\"width:300px; height:180px;\" /> <img src=\"images1/meshPatch.png\" alt=\"Image 1\" style=\"width:300px; height:180px;\" />\n",
    "\n",
    "\n",
    "\n",
    "\n",
    "\n",
    "### Modelling assumptions\n",
    "\n",
    "What are the modelling assumptions in the conducted simulation? Consider PDEs, boundary conditions, material models, and analysis type, ... (**2 Points**)\n",
    "\n",
    "**1. PDEs**\n",
    "\n",
    "  - We solve mechanic- electric PDEs. We have a mechanical and an electrical PDE\n",
    "  - Electrical: $ \\nabla \\times E  = 0 \\Longleftrightarrow E = - \\nabla \\Phi $ and $\\nabla \\cdot D = 0$\n",
    "  - Mechanical: $ \\rho \\cdot \\frac{\\partial² u}{\\partial t²} = \\nabla \\cdot \\sigma + g  $\n",
    "- The two equations are coupled via **volume coupling** by inserting the following terms for $\\sigma , D$:\n",
    "  - $ \\sigma = C^E : s - e \\cdot E $ (mechanical field couples on E-field)\n",
    "  - $ D = e : s + \\epsilon^S \\cdot E $ (electrical field couples on mechanical strains)\n",
    "- We instroduce Ansatz functions for both the unknowns to solve:\n",
    "  - For the mechanical displacement $u$:    $u = \\sum_i x_i u^*_i $ with unknown coefficients $x_i$ and known shape functions $u^*_i$ (note that the displacement is a vector quantity)\n",
    "  - For the electrostatic potential $\\Phi$:  $\\Phi = \\sum_i \\phi_i u^*_i $ with unknown coefficients $\\phi_i$ and known shape functions $u^*_i$\n",
    "- We can apply Galerkin procedure and that leads to a coupled system of ordinary differential equations.\n",
    "  \n",
    "**2. Modelling assumptions**\n",
    "\n",
    "1. Thickness of electrodes very small compared to dimensions of the plate/patches $\\Longrightarrow$ electrodes are  mechanically not significant.\n",
    "2. Electrodes are perfect conductors: conducttance $\\infty \\Longrightarrow$ constant electric potential at electrodes.\n",
    "3. Linear piezoelectricity we neglect hyserisis of the the polarisation\n",
    "4. Perfect, homogeneous polarization.\n",
    "5. Small strains $\\Longrightarrow$ linearized strain-displacement relation\n",
    "\n",
    "**3. Boundary conditions**\n",
    "   1. Constant electric potential at electrodes, thereby at the top and bottom of the patches (Electrodes are perfect conductors)\n",
    "   2. The \"ground\" $\\Phi =0$ is at the bottom of the piezo patches: we have the freedom to set the 0-point of the electric potential ((homogenous Dirichlet BC))\n",
    "   3. The plate is fixed on the sides $\\Longrightarrow$ zero mechanical displacement of the plate at the slides $\\Gamma_s$ (homogenous Dirichlet BC)\n",
    "\n",
    "**4. Analysis types**\n",
    "We can perform static (steady -state), eigenfrequency, harmonic and transient analysis"
   ]
  },
  {
   "cell_type": "code",
   "execution_count": 1,
   "id": "28446377",
   "metadata": {},
   "outputs": [],
   "source": [
    "V = 500 #vVolt\n",
    "s1 = -650e-6 #strain in width direction\n",
    "\n",
    "d31 = -180e-12 #C/N\n",
    "d33 = 400e-12\n",
    "d15 = 550e-12\n",
    "\n",
    "FB = 256 #N, blocking force\n",
    "deltaL0 = -27e-6 #nominal displ. in m\n",
    "\n",
    "eps33 = 1.5494e-8 #permittivities in (As)/(Vm)\n",
    "eps11 = 1.4069e-8\n",
    "\n",
    "S11 = 16.1e-12 #in m²/N\n",
    "S12 = -4.7e-12\n",
    "S13 = -8.5e-12\n",
    "S33 = 20.7e-12\n",
    "S44 = 42e-12\n",
    "\n",
    "rho = 7800 #kg/m³\n",
    "\n",
    "\n",
    "lp = 61e-3\n",
    "wp = 35e-3\n",
    "tp = 0.4e-3 #dimensions of piezoplate in m\n",
    "A = tp * wp #surface where apply blocking force\n",
    "E3 =  V/tp #el. field"
   ]
  },
  {
   "cell_type": "markdown",
   "metadata": {},
   "source": [
    "## 3. Material data\n",
    "\n",
    "The material data of the piezoceramic PIC 255 are given below,\n",
    "\n",
    "$S_{11} = 16.1\\cdot 10^{-12}\\frac{m^2}{N},$\n",
    "$S_{12} = -4.7\\cdot 10^{-12}\\frac{m^2}{N}$, \n",
    "$S_{13} = -8.5\\cdot 10^{-12}\\frac{m^2}{N}$,\n",
    "$S_{33} = 20.7\\cdot 10^{-12}\\frac{m^2}{N}$, \n",
    "$S_{44} = 42\\cdot 10^{-12}\\frac{m^2}{N}$, \n",
    "\n",
    "$d_{31}=-180\\cdot 10^{-12}\\frac{C}{N},$ \n",
    "$d_{33}= 400\\cdot 10^{-12}\\frac{C}{N},$ and\n",
    "$d_{15}= 550\\cdot 10^{-12}\\frac{C}{N},$ \n",
    "\n",
    "$\\epsilon_{11}= 1.4069\\cdot 10^{-8}\\frac{As}{Vm}$,\n",
    "$\\epsilon_{33}= 1.5494\\cdot 10^{-8}\\frac{As}{Vm}$,\n",
    "\n",
    "Density $\\rho = 7800 \\frac{kg}{m^{3}}$\n",
    "\n",
    "\n",
    "The piezoceramic PIC255 is polarized in the thickness (3) direction. The blocking force of the piezoelectric patch for an applied voltage of $500V$ is $F_{max} = 256N$ in the length direction and the strain in the width direction is $-650 \\mu m/m$. The stress-free nominal displacement of the patch under the applied voltage is $\\Delta L_{0} = -27 \\mu m$ in the length direction. \n",
    " \n",
    "Calculate the significant effective material properties $d^{simp}_{31}$, $S^{simp}_{11}$, $S^{simp}_{12}$ and $\\epsilon^{simp}_{33}$ for the simplified model of the patch. Calculate the percentage change in effective material properties from the PIC255 material data and apply the change to other unknown material properties using the hints below:<br><br><br>\n",
    " \n",
    "*Find $d^{simp}_{31}$ using the nominal displacement and the applied electric field $E_{3}$. Apply the change to $d^{simp}_{33}$ and $d^{simp}_{15}$ (Hint: Use the d-form of the constitutive relation).* (**1 point**)\n",
    "\n",
    "Let's consider the constitutive equation, in index notation, where we take the vectorial form of stress $\\sigma_i$ and strain $s_i$:\n",
    "\n",
    "$$ s_i = S^E_{ij}\\sigma_j + d^T_ij E_j  $$\n",
    "where $d$ transversally isotropic (1-2 is the isotropy plane, this is now our case since the polarization direction is the (3)-direction) is given as (see lecture slides to piezoelectricity, page 13):\n",
    "\n",
    "$$ d^T =\\begin{bmatrix}\n",
    " 0 & 0 & d_{31} \\\\\n",
    " 0 & 0 & d_{31} \\\\\n",
    " 0 & 0 & d_{33} \\\\\n",
    " 0 & d_{15} & 0 \\\\\n",
    " d_{15}& 0 & 0 \\\\\n",
    "0 & 0 & 0 \n",
    "\\end{bmatrix}$$\n",
    "We can calculate as following:\n",
    "- stress free nominal displacement $\\Delta L_0 = -27 \\mu m$ in the length (2) direction. \n",
    "- So, the stress $\\sigma = 0$ (since stress-free configuration)\n",
    "- Let's take the d-form of the constitutive equation:\n",
    "$$ s_2 = S^E_{2j}\\sigma_j + d_{2j} E_j   $$\n",
    "Here we took the vector notation of stresses and strains, where $s = (s_1, s_2, s_3, s_4, s_5, s_6 ) = (s_{11}, s_{22}, s_{33},\\gamma_{23},\\gamma_{13},\\gamma_{12}) $.\n",
    "- We know that $s_2 = \\Delta L_0 /l, \\, \\, \\sigma_j =0 \\forall j, \\, \\, E_1=E_2=0$ and $E_3=0$. Thereby, we can write:\n",
    "\n",
    "$$ s_2 = \\frac{\\Delta L_0}{l_p} = d_{23}E_3 = d_{13} \\cdot \\frac{V}{t_p}$$\n",
    "\n",
    "and for the entries $d$ it holds symmetry $d_{23} = d_{31}$, see above. \n",
    "\n",
    "$$ d^{simp}_{31}  = \\frac{\\Delta L_0/l_p}{V/t_p} = -\\frac{4.42\\times10^{-4}}{1250 V/mm} = -3.536 \\times 10^{-7}\\frac{mm}{V} = -3.536 \\times 10^{-7}\\cdot \\frac{ C }{ N\\cdot m} \\cdot 10^{-10} m$$\n",
    "\n",
    "Using that one Volt is $1V = 1J/C$. It yields\n",
    "$$ d^{simp}_{31} = -3.536 \\times 10^{-10}\\cdot \\frac{ C }{ N}$$\n",
    "\n",
    "This is a change of factor:\n",
    "\n",
    "$$ k_1= \\frac{d^{simp}_{31}}{d_{31}}= \n",
    "\\frac{ 3.536 \\times 10^{-10}C/N}{1.80\\cdot 10^{-10}C/N} = 1.964$$\n",
    "\n",
    "This results in\n",
    "\n",
    "$d^{simp}_{31}=-180\\cdot 10^{-12}\\frac{C}{N}\\cdot k_1 = -3.541 \\times 10^{-10}C/N,$ \n",
    "$d^{simp}_{33}= 400\\cdot 10^{-12}\\frac{C}{N} \\cdot k_1 = 7.869 \\cdot 10^{-10}\\frac{C}{N},$\n",
    "\n",
    "\n",
    " and\n",
    "$d^{simp}_{15}= 550\\cdot 10^{-12}\\frac{C}{N} \\cdot k_1 = 1.082 \\cdot 10^{-9}\\frac{C}{N}$.<br><br>\n",
    "So, the effective tensor $d^{sim}$ is given as\n"
   ]
  },
  {
   "cell_type": "code",
   "execution_count": 5,
   "id": "a3ae7d3f",
   "metadata": {},
   "outputs": [
    {
     "data": {
      "text/markdown": [
       "Effective  couple tensor in d-Form $d^{sim}$ (transpose)= "
      ],
      "text/plain": [
       "<IPython.core.display.Markdown object>"
      ]
     },
     "metadata": {},
     "output_type": "display_data"
    },
    {
     "data": {
      "image/png": "[encoded data removed]",
      "text/latex": [
       "$\\displaystyle \\left[\\begin{matrix}0 & 0 & -3.541 \\cdot 10^{-10}\\\\0 & 0 & -3.541 \\cdot 10^{-10}\\\\0 & 0 & 7.8689 \\cdot 10^{-10}\\\\0 & 1.082 \\cdot 10^{-9} & 0\\\\1.082 \\cdot 10^{-9} & 0 & 0\\\\0 & 0 & 0\\end{matrix}\\right]$"
      ],
      "text/plain": [
       "⎡   0         0      -3.541e-10⎤\n",
       "⎢                              ⎥\n",
       "⎢   0         0      -3.541e-10⎥\n",
       "⎢                              ⎥\n",
       "⎢   0         0      7.8689e-10⎥\n",
       "⎢                              ⎥\n",
       "⎢   0      1.082e-9      0     ⎥\n",
       "⎢                              ⎥\n",
       "⎢1.082e-9     0          0     ⎥\n",
       "⎢                              ⎥\n",
       "⎣   0         0          0     ⎦"
      ]
     },
     "metadata": {},
     "output_type": "display_data"
    }
   ],
   "source": [
    "d31sim = (deltaL0/lp)/(V/tp); k1 = d31sim/d31\n",
    "d33sim = d33*k1; d15sim = d15*k1\n",
    "\n",
    "import numpy as np; from IPython.display import display, Markdown\n",
    "import sympy as sp; from sympy import init_printing\n",
    "\n",
    "deff = sp.Matrix( np.array([\n",
    "    [0, 0, d31sim],\n",
    "    [0, 0, d31sim],\n",
    "    [0, 0, d33sim],\n",
    "    [0, d15sim, 0],\n",
    "    [d15sim, 0, 0],\n",
    "    [0, 0, 0]])  )\n",
    "init_printing()\n",
    "deff = deff.applyfunc(lambda x: sp.N(x, 5))\n",
    "display(Markdown(\"Effective  couple tensor in d-Form $d^{sim}$ (transpose)= \"))\n",
    "display(deff)\n"
   ]
  },
  {
   "cell_type": "markdown",
   "metadata": {},
   "source": [
    "*Calculate the material coefficients $S^{simp}_{11}$ and $S^{simp}_{12}$ and the effective youngs modulus $E^{simp}_{L}$ in the plane normal to thickness direction. Apply the change in young's modulus to other material coefficients. (Hint: Use the d-form and the blocking force).*(**1 point**)<br><br>\n",
    "_\n",
    "The blocking force is the force needed to completely constrain the material, leading to zero strain (displacement). We are given the blocking force in the (2)-direction (length direction).$\\Longrightarrow s_2 = 0, \\, \\sigma_2 = \\frac{F_B}{A_2} = \\frac{256N}{35 \\times 0.4 mm^2}$\n",
    "\n",
    "$$ s_2 = 0 = S^E_{2j} \\sigma_j + d_{2j}E_j = S^E_{22} \\sigma_2 + d_{23}E_3$$\n",
    "\n",
    "when assuming that the plate in the width (1) direction expands to a stress free configuration, so that $\\sigma_j \\neq 0 $ only for $j = 2$. Looking at $S^E$ we see that $S^E_{22}=S^E_{11}$ and $d_{23} = d_{31}$ . $E_3$ is calculated above ($1250 V/mm$)\n",
    "\n",
    "$$\n",
    "s_2 = 0 = S^E_{11} \\frac{F_B}{A_2} + d^{sim}_{31}E_3 \\\\\n",
    "\\Longrightarrow  S^{sim}_{11} = -\\frac{A_2}{F_B} d^{sim}_{31}E_3\n",
    "= 2.421 \\times 10^{-11} m² / N\n",
    " $$\n",
    " \n",
    "In the next step, we calculate $S^{sim}_{12}$, with $s_1 = -650 \\times 10³ \\mu m/mm$ ( strain in the width direction):\n",
    "$$\n",
    "s_1 = S_{1j}\\sigma_j + d_{1j}Ej = S_{12}\\sigma_2 + d_{13}E_3 \\\\\n",
    ".\\\\\n",
    "\\Longrightarrow S^{sim}_{12} = \\frac{(s_1 - d^{sim}_{13}E_3)}{\\sigma_2} = (s_1 - d^{sim}_{13}E_3) \\cdot \\frac{A_2}{F_B} = -1.134 \\times 10^{-11} \\frac{m²}{N}\n",
    "$$\n",
    "Using the the relations between elasticity and compilance tensor for transfersally isotropic materials (see [Wikipedia](https://en.wikipedia.org/wiki/Transverse_isotropy)):<br><br>\n",
    "![Alt text](compilance_vsEmodulus.png)\n",
    "\n",
    "With this relation, the effective E-modulus is given as\n",
    "\n",
    "$$  E^{sim} = \\frac{1}{S^{sim}_{11}}  = 41.37\\times 10⁹ \\frac{N}{m²}= 41.312 GPa$$\n",
    "\n",
    "This is a change of  $ k_2 = \\frac{E^{sim}}{E} = \\frac{E^{sim}}{S^{-1}_{11}} =  0.66512$\n",
    "We apply its inverse to other coefficients, since the change in the elasticity tensor $C$ is invers to the change of the compilance tensor ($S^E = C^{-1}$) :\n",
    "\n",
    "$$  \n",
    "S^{sim}_{33} = S_{33} \\cdot 1/k_2 = 3.112 \\times 10^{-11} \\frac{m²}{N} \\\\\n",
    "S^{sim}_{44} = S_{44} \\cdot 1/k_2 =  6.315 \\times 10^{-11} \\frac{m²}{N} \\\\\n",
    "S^{sim}_{13} = S_{13} \\cdot 1/k_2 = -1.278 \\times 10^{-11} \\frac{m²}{N}\n",
    "$$\n",
    "<br><br>"
   ]
  },
  {
   "cell_type": "code",
   "execution_count": null,
   "metadata": {},
   "outputs": [
    {
     "name": "stdout",
     "output_type": "stream",
     "text": [
      "S11sim =  2.420594262295082e-11\n",
      "S12sim =  -1.1340932377049181e-11\n",
      "Esim =  41.31216931216931  GPa\n",
      "k2 =  0.6651259259259259\n"
     ]
    }
   ],
   "source": [
    "S11sim = ( -d31sim*(V/tp) )/(FB/A); print(\"S11sim = \", S11sim)\n",
    "S12sim = (s1 - d31sim*E3) / (FB/A); print(\"S12sim = \", S12sim)\n",
    "Esim = 1 /S11sim; print(\"Esim = \", Esim/1e9, \" GPa\")\n",
    "k2 = Esim / (1/S11); print(\"k2 = \", k2)"
   ]
  },
  {
   "cell_type": "code",
   "execution_count": null,
   "metadata": {},
   "outputs": [
    {
     "name": "stdout",
     "output_type": "stream",
     "text": [
      "S44sim =  6.3145937277263e-11\n",
      "S33sim =  3.11219262295082e-11\n",
      "S13sim =  -1.277953492516037e-11\n"
     ]
    }
   ],
   "source": [
    "S44sim = S44*(1/k2); print(\"S44sim = \", S44sim)\n",
    "S33sim = S33*(1/k2); print(\"S33sim = \", S33sim)  \n",
    "S13sim = S13*(1/k2); print(\"S13sim = \", S13sim)  \n"
   ]
  },
  {
   "cell_type": "markdown",
   "metadata": {},
   "source": [
    "*The capacitance of the piezoelectric patch is 90nF . Calculate the relative permittivity $\\epsilon_{33}$ and apply the change to $\\epsilon_{11}$ .*\n",
    "\n",
    "To determine the capacitance of the capacitor, use the capacitance formula,\n",
    "where $C = 90nF$ is the capacitance of the capacitor, $A=l_pw_p$ is the area of the plates of the capacitor, $d=t_p$ is the spacing between the plates, and is the permittivity of the material separating the plates:\n",
    "\n",
    "$$  C = \\frac{\\epsilon A}{d} \\Longrightarrow \\epsilon^{sim}_{33} = \\frac{Cd}{A}= \\frac{90nF \\cdot 0.4mm}{35\\times 61 mm²} = 1.686 \\times 10^{-8} F/m = 1.686 \\times 10^{-8} \\frac{As}{Vm} $$\n",
    "\n",
    "This is a relative change of\n",
    "\n",
    "$$ k_3 = \\frac{\\epsilon^{sim}_{33}}{\\epsilon_{33}} = \\frac{1.686 \\times 10^{-8}}{1.5494\\times 10^{-8}} = 1.08828 $$\n",
    "\n",
    "So the effective relative permittivity:\n",
    "\n",
    "$$ \\epsilon_{11}^{sim} = \\epsilon_{11} \\cdot k_3 = 1.53110 \\times 10^{-8}  \\frac{As}{Vm}$$\n",
    "\n",
    "The elasticity tensor $C^{sim}$ is calculated by taking the inverse of $S^{E}$, where we take instead of the entries from the assignment description the calculated \"sim\" entries. The calculated elasticity tensor is displayed at the bottom of the calculation below.\n",
    "\n",
    "The effective couple tensor in e-Form $e^{sim}$ is calculated as $e^{sim} = C^{sim} : d^{sim}$. It is displayed at the bottom of the calculation below."
   ]
  },
  {
   "cell_type": "code",
   "execution_count": null,
   "metadata": {},
   "outputs": [
    {
     "name": "stdout",
     "output_type": "stream",
     "text": [
      "eps33_sim =  1.686182669789227e-08\n",
      "k3= 1.0882810570473906\n",
      "eps11_sim= 1.531102619159974e-08\n"
     ]
    }
   ],
   "source": [
    "eps33_sim = (90e-9 * tp)/(wp*lp)\n",
    "print(\"eps33_sim = \", eps33_sim)\n",
    "k3 = eps33_sim / eps33\n",
    "print(\"k3=\",k3 )\n",
    "\n",
    "print(\"eps11_sim=\", eps11 * k3); eps11_sim =eps11 * k3\n",
    "\n"
   ]
  },
  {
   "cell_type": "code",
   "execution_count": null,
   "metadata": {},
   "outputs": [
    {
     "data": {
      "text/markdown": [
       "Effective compilance tensor $S^E_{sim}$= "
      ],
      "text/plain": [
       "<IPython.core.display.Markdown object>"
      ]
     },
     "metadata": {},
     "output_type": "display_data"
    },
    {
     "data": {
      "image/png": "[encoded data removed]",
      "text/latex": [
       "$\\displaystyle \\left[\\begin{matrix}2.421 \\cdot 10^{-11} & -1.134 \\cdot 10^{-11} & -1.278 \\cdot 10^{-11} & 0 & 0 & 0\\\\-1.134 \\cdot 10^{-11} & 2.421 \\cdot 10^{-11} & -1.278 \\cdot 10^{-11} & 0 & 0 & 0\\\\-1.278 \\cdot 10^{-11} & -1.278 \\cdot 10^{-11} & 3.112 \\cdot 10^{-11} & 0 & 0 & 0\\\\0 & 0 & 0 & 6.315 \\cdot 10^{-11} & 0 & 0\\\\0 & 0 & 0 & 0 & 6.315 \\cdot 10^{-11} & 0\\\\0 & 0 & 0 & 0 & 0 & 7.109 \\cdot 10^{-11}\\end{matrix}\\right]$"
      ],
      "text/plain": [
       "⎡2.421e-11   -1.134e-11  -1.278e-11      0          0          0    ⎤\n",
       "⎢                                                                   ⎥\n",
       "⎢-1.134e-11  2.421e-11   -1.278e-11      0          0          0    ⎥\n",
       "⎢                                                                   ⎥\n",
       "⎢-1.278e-11  -1.278e-11  3.112e-11       0          0          0    ⎥\n",
       "⎢                                                                   ⎥\n",
       "⎢    0           0           0       6.315e-11      0          0    ⎥\n",
       "⎢                                                                   ⎥\n",
       "⎢    0           0           0           0      6.315e-11      0    ⎥\n",
       "⎢                                                                   ⎥\n",
       "⎣    0           0           0           0          0      7.109e-11⎦"
      ]
     },
     "metadata": {},
     "output_type": "display_data"
    },
    {
     "data": {
      "text/markdown": [
       "Effective elasticity tensor $C^{sim}$= "
      ],
      "text/plain": [
       "<IPython.core.display.Markdown object>"
      ]
     },
     "metadata": {},
     "output_type": "display_data"
    },
    {
     "data": {
      "image/png": "[encoded data removed]",
      "text/latex": [
       "$\\displaystyle \\left[\\begin{matrix}2.251 \\cdot 10^{11} & 1.969 \\cdot 10^{11} & 1.733 \\cdot 10^{11} & 0 & 0 & 0\\\\1.969 \\cdot 10^{11} & 2.251 \\cdot 10^{11} & 1.733 \\cdot 10^{11} & 0 & 0 & 0\\\\1.733 \\cdot 10^{11} & 1.733 \\cdot 10^{11} & 1.744 \\cdot 10^{11} & 0 & 0 & 0\\\\0 & 0 & 0 & 1.584 \\cdot 10^{10} & 0 & 0\\\\0 & 0 & 0 & 0 & 1.584 \\cdot 10^{10} & 0\\\\0 & 0 & 0 & 0 & 0 & 1.407 \\cdot 10^{10}\\end{matrix}\\right]$"
      ],
      "text/plain": [
       "⎡2.251e+11  1.969e+11  1.733e+11      0          0          0    ⎤\n",
       "⎢                                                                ⎥\n",
       "⎢1.969e+11  2.251e+11  1.733e+11      0          0          0    ⎥\n",
       "⎢                                                                ⎥\n",
       "⎢1.733e+11  1.733e+11  1.744e+11      0          0          0    ⎥\n",
       "⎢                                                                ⎥\n",
       "⎢    0          0          0      1.584e+10      0          0    ⎥\n",
       "⎢                                                                ⎥\n",
       "⎢    0          0          0          0      1.584e+10      0    ⎥\n",
       "⎢                                                                ⎥\n",
       "⎣    0          0          0          0          0      1.407e+10⎦"
      ]
     },
     "metadata": {},
     "output_type": "display_data"
    },
    {
     "data": {
      "text/markdown": [
       "Effective  couple tensor in e-Form $e^{sim}$ (transpose)= "
      ],
      "text/plain": [
       "<IPython.core.display.Markdown object>"
      ]
     },
     "metadata": {},
     "output_type": "display_data"
    },
    {
     "data": {
      "image/png": "[encoded data removed]",
      "text/latex": [
       "$\\displaystyle \\left[\\begin{matrix}0 & 0 & -13.074\\\\0 & 0 & -13.074\\\\0 & 0 & 14.547\\\\0 & 17.134 & 0\\\\17.134 & 0 & 0\\\\0 & 0 & 0\\end{matrix}\\right]$"
      ],
      "text/plain": [
       "⎡  0       0     -13.074⎤\n",
       "⎢                       ⎥\n",
       "⎢  0       0     -13.074⎥\n",
       "⎢                       ⎥\n",
       "⎢  0       0     14.547 ⎥\n",
       "⎢                       ⎥\n",
       "⎢  0     17.134     0   ⎥\n",
       "⎢                       ⎥\n",
       "⎢17.134    0        0   ⎥\n",
       "⎢                       ⎥\n",
       "⎣  0       0        0   ⎦"
      ]
     },
     "metadata": {},
     "output_type": "display_data"
    },
    {
     "data": {
      "text/markdown": [
       "Effective permittivity tensor $\\epsilon^{sim}$= "
      ],
      "text/plain": [
       "<IPython.core.display.Markdown object>"
      ]
     },
     "metadata": {},
     "output_type": "display_data"
    },
    {
     "data": {
      "image/png": "[encoded data removed]",
      "text/latex": [
       "$\\displaystyle \\left[\\begin{matrix}1.531 \\cdot 10^{-8} & 0 & 0\\\\0 & 1.531 \\cdot 10^{-8} & 0\\\\0 & 0 & 1.686 \\cdot 10^{-8}\\end{matrix}\\right]$"
      ],
      "text/plain": [
       "⎡1.531e-8     0         0    ⎤\n",
       "⎢                            ⎥\n",
       "⎢   0      1.531e-8     0    ⎥\n",
       "⎢                            ⎥\n",
       "⎣   0         0      1.686e-8⎦"
      ]
     },
     "metadata": {},
     "output_type": "display_data"
    }
   ],
   "source": [
    "SE = np.array([\n",
    "    [S11sim, S12sim, S13sim, 0.000E+00, 0.000E+00, 0.000E+00],\n",
    "    [S12sim, S11sim, S13sim, 0.000E+00, 0.000E+00, 0.000E+00],\n",
    "    [S13sim, S13sim, S33sim, 0.000E+00, 0.000E+00, 0.000E+00],\n",
    "    [0.000E+00, 0.000E+00, 0.000E+00, S44sim, 0.000E+00, 0.000E+00],\n",
    "    [0.000E+00, 0.000E+00, 0.000E+00, 0.000E+00, S44sim, 0.000E+00],\n",
    "    [0.000E+00, 0.000E+00, 0.000E+00, 0.000E+00, 0.000E+00, 2 * (S11sim - S12sim)]\n",
    "])\n",
    "\n",
    "SE = sp.Matrix(SE)\n",
    "Elasticity_tensor = SE.inv()\n",
    "\n",
    "display(Markdown(\"Effective compilance tensor $S^E_{sim}$= \"))\n",
    "\n",
    "init_printing()\n",
    "SE_num = SE.applyfunc(lambda x: sp.N(x, 4)); display(SE_num)\n",
    "\n",
    "\n",
    "display(Markdown(\"Effective elasticity tensor $C^{sim}$= \"))\n",
    "C_num = Elasticity_tensor.applyfunc(lambda x: sp.N(x, 4));display(C_num)\n",
    "\n",
    "deff = sp.Matrix(deff)\n",
    "eeff = Elasticity_tensor@deff\n",
    "eeff = eeff.applyfunc(lambda x: sp.N(x, 5))\n",
    "display(Markdown(\"Effective  couple tensor in e-Form $e^{sim}$ (transpose)= \"))\n",
    "\n",
    "display(eeff)\n",
    "\n",
    "\n",
    "display(Markdown(\"Effective permittivity tensor $\\epsilon^{sim}$= \"))\n",
    "epseff = sp.Matrix( np.array([\n",
    "    [eps11_sim, 0, 0],\n",
    "    [0, eps11_sim, 0],\n",
    "    [0, 0, eps33_sim],]) ) \n",
    "epseff = epseff.applyfunc(lambda x: sp.N(x, 4)); display(epseff)\n"
   ]
  }
 ],
 "metadata": {
  "kernelspec": {
   "display_name": "Python 3 (ipykernel)",
   "language": "python",
   "name": "python3"
  },
  "language_info": {
   "codemirror_mode": {
    "name": "ipython",
    "version": 3
   },
   "file_extension": ".py",
   "mimetype": "text/x-python",
   "name": "python",
   "nbconvert_exporter": "python",
   "pygments_lexer": "ipython3",
   "version": "3.10.12"
  }
 },
 "nbformat": 4,
 "nbformat_minor": 5
}
